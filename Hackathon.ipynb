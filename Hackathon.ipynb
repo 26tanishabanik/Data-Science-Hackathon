{
  "nbformat": 4,
  "nbformat_minor": 0,
  "metadata": {
    "colab": {
      "name": "Hackathon.ipynb",
      "provenance": [],
      "collapsed_sections": [],
      "toc_visible": true
    },
    "kernelspec": {
      "display_name": "Python 3",
      "name": "python3"
    },
    "language_info": {
      "name": "python"
    },
    "accelerator": "GPU"
  },
  "cells": [
    {
      "cell_type": "code",
      "metadata": {
        "colab": {
          "base_uri": "https://localhost:8080/",
          "height": 179
        },
        "id": "mFp1wbaRPUI2",
        "outputId": "6765c9ea-c5e6-4c04-fb43-14053e7c2810"
      },
      "source": [
        "import pandas as pd\n",
        "import numpy as np\n",
        "import matplotlib.pyplot as plt\n",
        "import seaborn as sns\n",
        "import cufflinks as cf\n",
        "import plotly.offline\n",
        "cf.go_offline()\n",
        "cf.set_config_file(offline=False, world_readable=True)\n",
        "from sklearn.model_selection import train_test_split, RepeatedStratifiedKFold, cross_val_score\n",
        "from sklearn.linear_model import LogisticRegression\n",
        "from sklearn.metrics import roc_curve, roc_auc_score, confusion_matrix, precision_recall_curve, auc\n",
        "from sklearn.feature_selection import f_classif\n",
        "from sklearn.pipeline import Pipeline\n",
        "from sklearn.base import BaseEstimator, TransformerMixin\n",
        "from scipy.stats import chi2_contingency\n",
        "from sklearn.compose import ColumnTransformer\n",
        "from sklearn.preprocessing import OneHotEncoder\n",
        "from sklearn.preprocessing import MinMaxScaler\n",
        "#import lux\n",
        "#from lux.vis.Vis import Vis\n",
        "from sklearn.preprocessing import StandardScaler, RobustScaler\n",
        "from imblearn.under_sampling import RandomUnderSampler\n",
        "from imblearn.over_sampling import SMOTE\n",
        "from collections import Counter\n",
        "from sklearn.linear_model import LogisticRegression\n",
        "from sklearn.neighbors import KNeighborsClassifier\n",
        "from sklearn.svm import SVC\n",
        "from sklearn.tree import DecisionTreeClassifier\n",
        "from sklearn.ensemble import RandomForestClassifier"
      ],
      "execution_count": null,
      "outputs": [
        {
          "output_type": "display_data",
          "data": {
            "text/html": [
              "        <script type=\"text/javascript\">\n",
              "        window.PlotlyConfig = {MathJaxConfig: 'local'};\n",
              "        if (window.MathJax) {MathJax.Hub.Config({SVG: {font: \"STIX-Web\"}});}\n",
              "        if (typeof require !== 'undefined') {\n",
              "        require.undef(\"plotly\");\n",
              "        requirejs.config({\n",
              "            paths: {\n",
              "                'plotly': ['https://cdn.plot.ly/plotly-latest.min']\n",
              "            }\n",
              "        });\n",
              "        require(['plotly'], function(Plotly) {\n",
              "            window._Plotly = Plotly;\n",
              "        });\n",
              "        }\n",
              "        </script>\n",
              "        "
            ]
          },
          "metadata": {
            "tags": []
          }
        },
        {
          "output_type": "stream",
          "text": [
            "/usr/local/lib/python3.7/dist-packages/sklearn/externals/six.py:31: FutureWarning:\n",
            "\n",
            "The module is deprecated in version 0.21 and will be removed in version 0.23 since we've dropped support for Python 2.7. Please rely on the official version of six (https://pypi.org/project/six/).\n",
            "\n",
            "/usr/local/lib/python3.7/dist-packages/sklearn/utils/deprecation.py:144: FutureWarning:\n",
            "\n",
            "The sklearn.neighbors.base module is  deprecated in version 0.22 and will be removed in version 0.24. The corresponding classes / functions should instead be imported from sklearn.neighbors. Anything that cannot be imported from sklearn.neighbors is now part of the private API.\n",
            "\n"
          ],
          "name": "stderr"
        }
      ]
    },
    {
      "cell_type": "code",
      "metadata": {
        "id": "XDZoQq2LPl94"
      },
      "source": [
        "train_df = pd.read_csv(\"Training Data.csv\",index_col=0)"
      ],
      "execution_count": null,
      "outputs": []
    },
    {
      "cell_type": "code",
      "metadata": {
        "id": "kcbcHliut7lJ"
      },
      "source": [
        "train_df[\"house_ownership\"]=pd.factorize(train_df.house_ownership)[0]\n",
        "train_df[\"city\"]=pd.factorize(train_df.city)[0]\n",
        "train_df[\"state\"]=pd.factorize(train_df.state)[0]\n",
        "train_df[\"married\"]=pd.factorize(train_df.married)[0]\n",
        "train_df[\"car_ownership\"]=pd.factorize(train_df.car_ownership)[0]\n",
        "train_df[\"profession\"]=pd.factorize(train_df.profession)[0]"
      ],
      "execution_count": null,
      "outputs": []
    },
    {
      "cell_type": "code",
      "metadata": {
        "colab": {
          "base_uri": "https://localhost:8080/",
          "height": 135
        },
        "id": "IpzK-kdRPq1-",
        "outputId": "cd79b786-074e-493b-cdd6-80aa9c2f5004"
      },
      "source": [
        "train_df.groupby('risk_flag').count()"
      ],
      "execution_count": null,
      "outputs": [
        {
          "output_type": "execute_result",
          "data": {
            "text/html": [
              "<div>\n",
              "<style scoped>\n",
              "    .dataframe tbody tr th:only-of-type {\n",
              "        vertical-align: middle;\n",
              "    }\n",
              "\n",
              "    .dataframe tbody tr th {\n",
              "        vertical-align: top;\n",
              "    }\n",
              "\n",
              "    .dataframe thead th {\n",
              "        text-align: right;\n",
              "    }\n",
              "</style>\n",
              "<table border=\"1\" class=\"dataframe\">\n",
              "  <thead>\n",
              "    <tr style=\"text-align: right;\">\n",
              "      <th></th>\n",
              "      <th>income</th>\n",
              "      <th>age</th>\n",
              "      <th>experience</th>\n",
              "      <th>married</th>\n",
              "      <th>house_ownership</th>\n",
              "      <th>car_ownership</th>\n",
              "      <th>profession</th>\n",
              "      <th>city</th>\n",
              "      <th>state</th>\n",
              "      <th>current_job_years</th>\n",
              "      <th>current_house_years</th>\n",
              "    </tr>\n",
              "    <tr>\n",
              "      <th>risk_flag</th>\n",
              "      <th></th>\n",
              "      <th></th>\n",
              "      <th></th>\n",
              "      <th></th>\n",
              "      <th></th>\n",
              "      <th></th>\n",
              "      <th></th>\n",
              "      <th></th>\n",
              "      <th></th>\n",
              "      <th></th>\n",
              "      <th></th>\n",
              "    </tr>\n",
              "  </thead>\n",
              "  <tbody>\n",
              "    <tr>\n",
              "      <th>0</th>\n",
              "      <td>221004</td>\n",
              "      <td>221004</td>\n",
              "      <td>221004</td>\n",
              "      <td>221004</td>\n",
              "      <td>221004</td>\n",
              "      <td>221004</td>\n",
              "      <td>221004</td>\n",
              "      <td>221004</td>\n",
              "      <td>221004</td>\n",
              "      <td>221004</td>\n",
              "      <td>221004</td>\n",
              "    </tr>\n",
              "    <tr>\n",
              "      <th>1</th>\n",
              "      <td>30996</td>\n",
              "      <td>30996</td>\n",
              "      <td>30996</td>\n",
              "      <td>30996</td>\n",
              "      <td>30996</td>\n",
              "      <td>30996</td>\n",
              "      <td>30996</td>\n",
              "      <td>30996</td>\n",
              "      <td>30996</td>\n",
              "      <td>30996</td>\n",
              "      <td>30996</td>\n",
              "    </tr>\n",
              "  </tbody>\n",
              "</table>\n",
              "</div>"
            ],
            "text/plain": [
              "           income     age  ...  current_job_years  current_house_years\n",
              "risk_flag                  ...                                        \n",
              "0          221004  221004  ...             221004               221004\n",
              "1           30996   30996  ...              30996                30996\n",
              "\n",
              "[2 rows x 11 columns]"
            ]
          },
          "metadata": {
            "tags": []
          },
          "execution_count": 8
        }
      ]
    },
    {
      "cell_type": "markdown",
      "metadata": {
        "id": "9NT-osO9fwak"
      },
      "source": [
        "# Old Predictions"
      ]
    },
    {
      "cell_type": "code",
      "metadata": {
        "id": "pR2Z1Krqt7hA"
      },
      "source": [
        "X = train_df.drop(['risk_flag','married','house_ownership','profession','car_ownership','state','city'], axis = 1)\n",
        "y = train_df['risk_flag']\n",
        "X_train, X_test, y_train, y_test = train_test_split(X, y, test_size = 0.2, random_state = 42, stratify = y)\n",
        "X_train, X_test = X_train.copy(), X_test.copy()"
      ],
      "execution_count": null,
      "outputs": []
    },
    {
      "cell_type": "code",
      "metadata": {
        "id": "XObRSLOCt7cm"
      },
      "source": [
        "X_train_scaled = pd.DataFrame(RobustScaler().fit_transform(X_train), columns=X_train.columns)\n",
        "X_test_scaled = pd.DataFrame(RobustScaler().fit_transform(X_test), columns=X_test.columns)"
      ],
      "execution_count": null,
      "outputs": []
    },
    {
      "cell_type": "code",
      "metadata": {
        "colab": {
          "base_uri": "https://localhost:8080/"
        },
        "id": "5iTvoRIft7Zj",
        "outputId": "eed1502c-78f3-45c9-bc0b-06ef6faf8364"
      },
      "source": [
        "oversample = SMOTE()\n",
        "X_train_over, y_train_over = oversample.fit_resample(X_train_scaled, y_train)\n",
        "print(Counter(y_train_over))"
      ],
      "execution_count": null,
      "outputs": [
        {
          "output_type": "stream",
          "text": [
            "/usr/local/lib/python3.7/dist-packages/sklearn/utils/deprecation.py:87: FutureWarning:\n",
            "\n",
            "Function safe_indexing is deprecated; safe_indexing is deprecated in version 0.22 and will be removed in version 0.24.\n",
            "\n"
          ],
          "name": "stderr"
        },
        {
          "output_type": "stream",
          "text": [
            "Counter({0: 176803, 1: 176803})\n"
          ],
          "name": "stdout"
        }
      ]
    },
    {
      "cell_type": "code",
      "metadata": {
        "colab": {
          "base_uri": "https://localhost:8080/"
        },
        "id": "rvoYuN-zt7Vw",
        "outputId": "a380deaf-b50c-4d74-ce41-7c034ec2d48d"
      },
      "source": [
        "oversample = SMOTE()\n",
        "X_test_over, y_test_over = oversample.fit_resample(X_test_scaled, y_test)\n",
        "print(Counter(y_test_over))"
      ],
      "execution_count": null,
      "outputs": [
        {
          "output_type": "stream",
          "text": [
            "/usr/local/lib/python3.7/dist-packages/sklearn/utils/deprecation.py:87: FutureWarning:\n",
            "\n",
            "Function safe_indexing is deprecated; safe_indexing is deprecated in version 0.22 and will be removed in version 0.24.\n",
            "\n"
          ],
          "name": "stderr"
        },
        {
          "output_type": "stream",
          "text": [
            "Counter({0: 44201, 1: 44201})\n"
          ],
          "name": "stdout"
        }
      ]
    },
    {
      "cell_type": "code",
      "metadata": {
        "colab": {
          "base_uri": "https://localhost:8080/",
          "height": 472
        },
        "id": "yQGRF2opt7S3",
        "outputId": "e3f26987-a7cd-4c06-b743-9ec2b8523af5"
      },
      "source": [
        "from sklearn.decomposition import PCA\n",
        "pca = PCA(.95)\n",
        "pca_a_train = pca.fit(X_train_over, y_train_over)\n",
        "print(pca_a_train.n_components_)\n",
        "plt.plot(np.cumsum(pca_a_train.explained_variance_ratio_))\n",
        "plt.show()\n",
        "\n",
        "X_train_over_pca = pd.DataFrame(pca_a_train.transform(X_train_over))\n",
        "n_pcs= pca_a_train.components_.shape[0]\n",
        "most_important = [np.abs(pca_a_train.components_[i]).argmax() for i in range(n_pcs)]\n",
        "\n",
        "initial_feature_names = ['income', 'age', 'experience','house_ownership','car_ownership','city','state','current_job_years','current_house_years']\n",
        "# most_important_names = [initial_feature_names[i] for i in range(n_pcs)]\n",
        "most_important_names = [initial_feature_names[most_important[i]] for i in range(n_pcs)]\n",
        "\n",
        "\n",
        "# using LIST COMPREHENSION HERE AGAIN\n",
        "dic = {'PC{}'.format(i+1): most_important_names[i] for i in range(n_pcs)}\n",
        "\n",
        "# build the dataframe\n",
        "df = pd.DataFrame(sorted(dic.items()))\n",
        "# print(pd.DataFrame(pca.components_,columns=pca_a_train.transform(X_train_over).columns,index = ['PC-1','PC-2','PC-3','PC-4','PC-5']))\n",
        "X_train_over_pca.head()"
      ],
      "execution_count": null,
      "outputs": [
        {
          "output_type": "stream",
          "text": [
            "5\n"
          ],
          "name": "stdout"
        },
        {
          "output_type": "display_data",
          "data": {
            "image/png": "[encoded data removed]",
            "text/plain": [
              "<Figure size 432x288 with 1 Axes>"
            ]
          },
          "metadata": {
            "tags": [],
            "needs_background": "light"
          }
        },
        {
          "output_type": "execute_result",
          "data": {
            "text/html": [
              "<div>\n",
              "<style scoped>\n",
              "    .dataframe tbody tr th:only-of-type {\n",
              "        vertical-align: middle;\n",
              "    }\n",
              "\n",
              "    .dataframe tbody tr th {\n",
              "        vertical-align: top;\n",
              "    }\n",
              "\n",
              "    .dataframe thead th {\n",
              "        text-align: right;\n",
              "    }\n",
              "</style>\n",
              "<table border=\"1\" class=\"dataframe\">\n",
              "  <thead>\n",
              "    <tr style=\"text-align: right;\">\n",
              "      <th></th>\n",
              "      <th>0</th>\n",
              "      <th>1</th>\n",
              "      <th>2</th>\n",
              "      <th>3</th>\n",
              "      <th>4</th>\n",
              "    </tr>\n",
              "  </thead>\n",
              "  <tbody>\n",
              "    <tr>\n",
              "      <th>0</th>\n",
              "      <td>-0.180053</td>\n",
              "      <td>0.488454</td>\n",
              "      <td>0.770650</td>\n",
              "      <td>0.641167</td>\n",
              "      <td>-0.155430</td>\n",
              "    </tr>\n",
              "    <tr>\n",
              "      <th>1</th>\n",
              "      <td>-0.502753</td>\n",
              "      <td>0.019558</td>\n",
              "      <td>0.673025</td>\n",
              "      <td>0.365708</td>\n",
              "      <td>0.261227</td>\n",
              "    </tr>\n",
              "    <tr>\n",
              "      <th>2</th>\n",
              "      <td>0.180762</td>\n",
              "      <td>-1.007790</td>\n",
              "      <td>0.235197</td>\n",
              "      <td>-0.098068</td>\n",
              "      <td>0.075857</td>\n",
              "    </tr>\n",
              "    <tr>\n",
              "      <th>3</th>\n",
              "      <td>0.964011</td>\n",
              "      <td>0.942952</td>\n",
              "      <td>-0.592283</td>\n",
              "      <td>0.295606</td>\n",
              "      <td>-0.445152</td>\n",
              "    </tr>\n",
              "    <tr>\n",
              "      <th>4</th>\n",
              "      <td>-0.467520</td>\n",
              "      <td>0.049980</td>\n",
              "      <td>0.476684</td>\n",
              "      <td>-0.711281</td>\n",
              "      <td>0.043932</td>\n",
              "    </tr>\n",
              "  </tbody>\n",
              "</table>\n",
              "</div>"
            ],
            "text/plain": [
              "          0         1         2         3         4\n",
              "0 -0.180053  0.488454  0.770650  0.641167 -0.155430\n",
              "1 -0.502753  0.019558  0.673025  0.365708  0.261227\n",
              "2  0.180762 -1.007790  0.235197 -0.098068  0.075857\n",
              "3  0.964011  0.942952 -0.592283  0.295606 -0.445152\n",
              "4 -0.467520  0.049980  0.476684 -0.711281  0.043932"
            ]
          },
          "metadata": {
            "tags": []
          },
          "execution_count": 57
        }
      ]
    },
    {
      "cell_type": "code",
      "metadata": {
        "colab": {
          "base_uri": "https://localhost:8080/",
          "height": 472
        },
        "id": "djPMPJFgt7Pq",
        "outputId": "ee26cce7-767d-48fc-c455-741be0fdb678"
      },
      "source": [
        "pca = PCA(.95)\n",
        "pca_a_test = pca.fit(X_test_over, y_test_over)\n",
        "print(pca_a_test.n_components_)\n",
        "plt.plot(np.cumsum(pca_a_test.explained_variance_ratio_))\n",
        "plt.show()\n",
        "X_test_over_pca = pd.DataFrame(pca_a_test.transform(X_test_over))\n",
        "X_test_over_pca.head()"
      ],
      "execution_count": null,
      "outputs": [
        {
          "output_type": "stream",
          "text": [
            "5\n"
          ],
          "name": "stdout"
        },
        {
          "output_type": "display_data",
          "data": {
            "image/png": "[encoded data removed]",
            "text/plain": [
              "<Figure size 432x288 with 1 Axes>"
            ]
          },
          "metadata": {
            "tags": [],
            "needs_background": "light"
          }
        },
        {
          "output_type": "execute_result",
          "data": {
            "text/html": [
              "<div>\n",
              "<style scoped>\n",
              "    .dataframe tbody tr th:only-of-type {\n",
              "        vertical-align: middle;\n",
              "    }\n",
              "\n",
              "    .dataframe tbody tr th {\n",
              "        vertical-align: top;\n",
              "    }\n",
              "\n",
              "    .dataframe thead th {\n",
              "        text-align: right;\n",
              "    }\n",
              "</style>\n",
              "<table border=\"1\" class=\"dataframe\">\n",
              "  <thead>\n",
              "    <tr style=\"text-align: right;\">\n",
              "      <th></th>\n",
              "      <th>0</th>\n",
              "      <th>1</th>\n",
              "      <th>2</th>\n",
              "      <th>3</th>\n",
              "      <th>4</th>\n",
              "    </tr>\n",
              "  </thead>\n",
              "  <tbody>\n",
              "    <tr>\n",
              "      <th>0</th>\n",
              "      <td>-0.271166</td>\n",
              "      <td>-0.509735</td>\n",
              "      <td>-0.591441</td>\n",
              "      <td>0.404001</td>\n",
              "      <td>-0.240150</td>\n",
              "    </tr>\n",
              "    <tr>\n",
              "      <th>1</th>\n",
              "      <td>-0.878492</td>\n",
              "      <td>1.004389</td>\n",
              "      <td>-0.237803</td>\n",
              "      <td>0.824834</td>\n",
              "      <td>-0.068582</td>\n",
              "    </tr>\n",
              "    <tr>\n",
              "      <th>2</th>\n",
              "      <td>-0.505460</td>\n",
              "      <td>0.035810</td>\n",
              "      <td>0.986479</td>\n",
              "      <td>0.319278</td>\n",
              "      <td>-0.181553</td>\n",
              "    </tr>\n",
              "    <tr>\n",
              "      <th>3</th>\n",
              "      <td>-0.842168</td>\n",
              "      <td>-0.477366</td>\n",
              "      <td>0.111186</td>\n",
              "      <td>1.011667</td>\n",
              "      <td>-0.083520</td>\n",
              "    </tr>\n",
              "    <tr>\n",
              "      <th>4</th>\n",
              "      <td>0.145518</td>\n",
              "      <td>-0.988194</td>\n",
              "      <td>-0.767020</td>\n",
              "      <td>1.124773</td>\n",
              "      <td>0.653024</td>\n",
              "    </tr>\n",
              "  </tbody>\n",
              "</table>\n",
              "</div>"
            ],
            "text/plain": [
              "          0         1         2         3         4\n",
              "0 -0.271166 -0.509735 -0.591441  0.404001 -0.240150\n",
              "1 -0.878492  1.004389 -0.237803  0.824834 -0.068582\n",
              "2 -0.505460  0.035810  0.986479  0.319278 -0.181553\n",
              "3 -0.842168 -0.477366  0.111186  1.011667 -0.083520\n",
              "4  0.145518 -0.988194 -0.767020  1.124773  0.653024"
            ]
          },
          "metadata": {
            "tags": []
          },
          "execution_count": 58
        }
      ]
    },
    {
      "cell_type": "markdown",
      "metadata": {
        "id": "Cd0OdqpLhRgH"
      },
      "source": [
        "#KNeighborsClassifier"
      ]
    },
    {
      "cell_type": "code",
      "metadata": {
        "colab": {
          "base_uri": "https://localhost:8080/"
        },
        "id": "0irrGsZyt7Je",
        "outputId": "1fdbe008-eb4c-4ff6-8d99-2351dccb3c46"
      },
      "source": [
        "from sklearn.model_selection import cross_val_score\n",
        "train_cross_scores = []\n",
        "test_cross_scores = []\n",
        "classifier = KNeighborsClassifier()\n",
        "classifier.fit(X_train_over_pca, y_train_over)\n",
        "train_score = cross_val_score(classifier, X_train_over_pca, y_train_over, cv=5)\n",
        "train_cross_scores.append(round(train_score.mean(),2))\n",
        "test_score = cross_val_score(classifier, X_test_over_pca, y_test_over, cv=5)\n",
        "test_cross_scores.append(round(test_score.mean(),2))\n",
        "\n",
        "print(train_cross_scores)\n",
        "print(test_cross_scores)"
      ],
      "execution_count": null,
      "outputs": [
        {
          "output_type": "stream",
          "text": [
            "[0.92]\n",
            "[0.91]\n"
          ],
          "name": "stdout"
        }
      ]
    },
    {
      "cell_type": "code",
      "metadata": {
        "colab": {
          "base_uri": "https://localhost:8080/",
          "height": 287
        },
        "id": "Qx24dGtGt7F2",
        "outputId": "9cd82e71-bc3d-46b3-a63a-470f32f27de0"
      },
      "source": [
        "from sklearn.model_selection import cross_val_predict\n",
        "from sklearn.metrics import roc_curve\n",
        "from sklearn.metrics import roc_auc_score\n",
        "rf = KNeighborsClassifier()\n",
        "rf.fit(X_train_over_pca, y_train_over)\n",
        "rf_pred = cross_val_predict(rf, X_test_over_pca, y_test_over, cv=5)\n",
        "print(roc_auc_score(y_test_over, rf_pred))\n",
        "#Plot the ROC Curve\n",
        "fpr, tpr, _ = roc_curve(y_test_over, rf_pred)\n",
        "plt.plot(fpr, tpr)\n",
        "plt.show()"
      ],
      "execution_count": null,
      "outputs": [
        {
          "output_type": "stream",
          "text": [
            "0.912060813103776\n"
          ],
          "name": "stdout"
        },
        {
          "output_type": "display_data",
          "data": {
            "image/png": "[encoded data removed]",
            "text/plain": [
              "<Figure size 432x288 with 1 Axes>"
            ]
          },
          "metadata": {
            "tags": [],
            "needs_background": "light"
          }
        }
      ]
    },
    {
      "cell_type": "code",
      "metadata": {
        "colab": {
          "base_uri": "https://localhost:8080/"
        },
        "id": "8XjT9Awbzyes",
        "outputId": "f6f86955-18b9-4e52-b8ef-dc4c53e86ec8"
      },
      "source": [
        "import lightgbm as lgb\n",
        "lgb_model = lgb.LGBMClassifier()\n",
        "lgb_model.fit(X_train_over_pca, y_train_over)\n",
        "lgb_train_score = cross_val_score(lgb_model, X_train_over_pca, y_train_over, cv=5)\n",
        "lgb_test_score = cross_val_score(lgb_model, X_test_over_pca, y_test_over, cv=5)\n",
        "print(round(lgb_train_score.mean(),2))\n",
        "print(round(lgb_test_score.mean(),2))"
      ],
      "execution_count": null,
      "outputs": [
        {
          "output_type": "stream",
          "text": [
            "0.78\n",
            "0.78\n"
          ],
          "name": "stdout"
        }
      ]
    },
    {
      "cell_type": "markdown",
      "metadata": {
        "id": "ECHrsMBPhO2E"
      },
      "source": [
        "#Random Forest"
      ]
    },
    {
      "cell_type": "code",
      "metadata": {
        "colab": {
          "base_uri": "https://localhost:8080/"
        },
        "id": "TUSmu3bUI-pY",
        "outputId": "0e6d3611-aa31-452e-ac51-f8c6d165903c"
      },
      "source": [
        "from sklearn.model_selection import cross_val_score\n",
        "train_cross_scores = []\n",
        "test_cross_scores = []\n",
        "classifier = RandomForestClassifier()\n",
        "classifier.fit(X_train_over_pca, y_train_over)\n",
        "train_score = cross_val_score(classifier, X_train_over_pca, y_train_over, cv=5)\n",
        "train_cross_scores.append(round(train_score.mean(),2))\n",
        "test_score = cross_val_score(classifier, X_test_over_pca, y_test_over, cv=5)\n",
        "test_cross_scores.append(round(test_score.mean(),2))\n",
        "\n",
        "print(train_cross_scores)\n",
        "print(test_cross_scores)"
      ],
      "execution_count": null,
      "outputs": [
        {
          "output_type": "stream",
          "text": [
            "[0.93]\n",
            "[0.93]\n"
          ],
          "name": "stdout"
        }
      ]
    },
    {
      "cell_type": "code",
      "metadata": {
        "colab": {
          "base_uri": "https://localhost:8080/",
          "height": 287
        },
        "id": "-URgZgqSNEbD",
        "outputId": "9e37e186-7dfe-4b68-e78e-4d930715adda"
      },
      "source": [
        "from sklearn.model_selection import cross_val_predict\n",
        "from sklearn.metrics import roc_curve\n",
        "from sklearn.metrics import roc_auc_score\n",
        "rf = RandomForestClassifier()\n",
        "rf.fit(X_train_over_pca, y_train_over)\n",
        "rf_pred = cross_val_predict(rf, X_test_over_pca, y_test_over, cv=5)\n",
        "print(roc_auc_score(y_test_over, rf_pred))\n",
        "#Plot the ROC Curve\n",
        "fpr, tpr, _ = roc_curve(y_test_over, rf_pred)\n",
        "plt.plot(fpr, tpr)\n",
        "plt.show()"
      ],
      "execution_count": null,
      "outputs": [
        {
          "output_type": "stream",
          "text": [
            "0.9306689893893801\n"
          ],
          "name": "stdout"
        },
        {
          "output_type": "display_data",
          "data": {
            "image/png": "[encoded data removed]",
            "text/plain": [
              "<Figure size 432x288 with 1 Axes>"
            ]
          },
          "metadata": {
            "tags": [],
            "needs_background": "light"
          }
        }
      ]
    },
    {
      "cell_type": "code",
      "metadata": {
        "id": "7UV2t9D0QmD6"
      },
      "source": [
        "y_pred = rf.predict(X_test_over_pca)"
      ],
      "execution_count": null,
      "outputs": []
    },
    {
      "cell_type": "code",
      "metadata": {
        "colab": {
          "base_uri": "https://localhost:8080/"
        },
        "id": "mnMnId7-QVm8",
        "outputId": "c710cc90-45ae-4bd0-89e7-4378637c989a"
      },
      "source": [
        "accuracy_score(y_test_over, rf_pred)\n",
        "print(f\"The accuracy of the model is {round(accuracy_score(y_test_over,rf_pred),3)*100} %\")"
      ],
      "execution_count": null,
      "outputs": [
        {
          "output_type": "stream",
          "text": [
            "The accuracy of the model is 93.10000000000001 %\n"
          ],
          "name": "stdout"
        }
      ]
    },
    {
      "cell_type": "code",
      "metadata": {
        "id": "btHCGUAkI-mu"
      },
      "source": [
        "train_probs = rf.predict_proba(X_train_over_pca)[:,1] \n",
        "# probs = rf.predict_proba(X_test_over_pca)[:, 1]\n",
        "train_predictions = rf.predict(X_train_over_pca)"
      ],
      "execution_count": null,
      "outputs": []
    },
    {
      "cell_type": "code",
      "metadata": {
        "colab": {
          "base_uri": "https://localhost:8080/"
        },
        "id": "EoSUKZe1I-jC",
        "outputId": "808c8662-4ced-4509-cda8-ef04abc2ffcf"
      },
      "source": [
        "print(f'Train ROC AUC Score: {roc_auc_score(y_train_over, train_probs)}')\n",
        "print(f'Test ROC AUC  Score: {roc_auc_score(y_test_over, rf_pred)}')"
      ],
      "execution_count": null,
      "outputs": [
        {
          "output_type": "stream",
          "text": [
            "Train ROC AUC Score: 0.9732844327804172\n",
            "Test ROC AUC  Score: 0.9306689893893801\n"
          ],
          "name": "stdout"
        }
      ]
    },
    {
      "cell_type": "code",
      "metadata": {
        "colab": {
          "base_uri": "https://localhost:8080/",
          "height": 471
        },
        "id": "_Lza3J0rI-g6",
        "outputId": "75c6a00a-3e6a-4d09-ea44-2899cf0dfee6"
      },
      "source": [
        "def evaluate_model(y_pred, probs,train_predictions, train_probs):\n",
        "    baseline = {}\n",
        "    baseline['recall']=recall_score(y_test_over,\n",
        "                    [1 for _ in range(len(y_test_over))])\n",
        "    baseline['precision'] = precision_score(y_test_over,\n",
        "                    [1 for _ in range(len(y_test_over))])\n",
        "    baseline['roc'] = 0.5\n",
        "    results = {}\n",
        "    results['recall'] = recall_score(y_test_over, y_pred)\n",
        "    results['precision'] = precision_score(y_test_over, y_pred)\n",
        "    results['roc'] = roc_auc_score(y_test_over, probs)\n",
        "    train_results = {}\n",
        "    train_results['recall'] = recall_score(y_train_over,       train_predictions)\n",
        "    train_results['precision'] = precision_score(y_train_over, train_predictions)\n",
        "    train_results['roc'] = roc_auc_score(y_train_over, train_probs)\n",
        "    for metric in ['recall', 'precision', 'roc']:  \n",
        "          print(f'{metric.capitalize()} Baseline: {round(baseline[metric], 2)} Test: {round(results[metric], 2)} Train: {round(train_results[metric], 2)}')\n",
        "     # Calculate false positive rates and true positive rates\n",
        "    base_fpr, base_tpr, _ = roc_curve(y_test_over, [1 for _ in range(len(y_test_over))])\n",
        "    model_fpr, model_tpr, _ = roc_curve(y_test_over, probs)\n",
        "    plt.figure(figsize = (8, 6))\n",
        "    plt.rcParams['font.size'] = 16\n",
        "    # Plot both curves\n",
        "    plt.plot(base_fpr, base_tpr, 'b', label = 'baseline')\n",
        "    plt.plot(model_fpr, model_tpr, 'r', label = 'model')\n",
        "    plt.legend();\n",
        "    plt.xlabel('False Positive Rate');\n",
        "    plt.ylabel('True Positive Rate'); plt.title('ROC Curves');\n",
        "    plt.show();\n",
        "evaluate_model(rf_pred,rf_pred,train_predictions,train_probs)"
      ],
      "execution_count": null,
      "outputs": [
        {
          "output_type": "stream",
          "text": [
            "Recall Baseline: 1.0 Test: 0.96 Train: 1.0\n",
            "Precision Baseline: 0.5 Test: 0.91 Train: 0.92\n",
            "Roc Baseline: 0.5 Test: 0.93 Train: 0.97\n"
          ],
          "name": "stdout"
        },
        {
          "output_type": "display_data",
          "data": {
            "image/png": "[encoded data removed]",
            "text/plain": [
              "<Figure size 576x432 with 1 Axes>"
            ]
          },
          "metadata": {
            "tags": [],
            "needs_background": "light"
          }
        }
      ]
    },
    {
      "cell_type": "code",
      "metadata": {
        "colab": {
          "base_uri": "https://localhost:8080/",
          "height": 584
        },
        "id": "1IkgrnL9I-TZ",
        "outputId": "3d45c23d-d61d-4762-f8e7-564ad0d0fcb8"
      },
      "source": [
        "import itertools\n",
        "def plot_confusion_matrix(cm, classes, normalize = False,\n",
        "                          title='Confusion matrix',\n",
        "                          cmap=plt.cm.Greens): # can change color \n",
        "    plt.figure(figsize = (10, 10))\n",
        "    plt.imshow(cm, interpolation='nearest', cmap=cmap)\n",
        "    plt.title(title, size = 24)\n",
        "    plt.colorbar(aspect=4)\n",
        "    tick_marks = np.arange(len(classes))\n",
        "    plt.xticks(tick_marks, classes, rotation=45, size = 14)\n",
        "    plt.yticks(tick_marks, classes, size = 14)\n",
        "    fmt = '.2f' if normalize else 'd'\n",
        "    thresh = cm.max() / 2.\n",
        "    # Label the plot\n",
        "    for i, j in itertools.product(range(cm.shape[0]),   range(cm.shape[1])):\n",
        "      plt.text(j, i, format(cm[i, j], fmt), fontsize = 20,horizontalalignment=\"center\",color=\"white\" if cm[i, j] > thresh else \"black\")\n",
        "    plt.grid(None)\n",
        "    plt.tight_layout()\n",
        "    plt.ylabel('True label', size = 18)\n",
        "    plt.xlabel('Predicted label', size = 18)\n",
        "\n",
        "# Let's plot it out\n",
        "cm = confusion_matrix(y_test_over, rf_pred)\n",
        "plot_confusion_matrix(cm, classes = ['0 - No-Risk', '1 - Risk'],\n",
        "                      title = 'Risk_status Confusion Matrix')"
      ],
      "execution_count": null,
      "outputs": [
        {
          "output_type": "display_data",
          "data": {
            "image/png": "[encoded data removed]",
            "text/plain": [
              "<Figure size 720x720 with 2 Axes>"
            ]
          },
          "metadata": {
            "tags": [],
            "needs_background": "light"
          }
        }
      ]
    },
    {
      "cell_type": "code",
      "metadata": {
        "id": "Ov7NcCla0dC0"
      },
      "source": [
        "features_to_encode = X_train.columns[X_train.dtypes==object].tolist()"
      ],
      "execution_count": null,
      "outputs": []
    },
    {
      "cell_type": "code",
      "metadata": {
        "id": "HGhcrHVX45LQ"
      },
      "source": [
        "from sklearn.preprocessing import OneHotEncoder\n",
        "from sklearn.compose import make_column_transformer\n",
        "col_trans = make_column_transformer(\n",
        "                        (OneHotEncoder(),features_to_encode),\n",
        "                        remainder = \"passthrough\")"
      ],
      "execution_count": null,
      "outputs": []
    },
    {
      "cell_type": "code",
      "metadata": {
        "id": "5w0JDY6l96Gq"
      },
      "source": [
        "seed = 50"
      ],
      "execution_count": null,
      "outputs": []
    },
    {
      "cell_type": "code",
      "metadata": {
        "id": "0K_m6TJ09wrS"
      },
      "source": [
        "from sklearn.ensemble import RandomForestClassifier\n",
        "rf_classifier = RandomForestClassifier(\n",
        "                      min_samples_leaf=50,\n",
        "                      n_estimators=150,\n",
        "                      bootstrap=True,\n",
        "                      oob_score=True,\n",
        "                      n_jobs=-1,\n",
        "                      random_state=seed,\n",
        "                      max_features='auto')"
      ],
      "execution_count": null,
      "outputs": []
    },
    {
      "cell_type": "code",
      "metadata": {
        "colab": {
          "base_uri": "https://localhost:8080/"
        },
        "id": "o3tJ2QTq90PN",
        "outputId": "96e01069-4554-46f7-91c2-49f611fa2f74"
      },
      "source": [
        "from sklearn.pipeline import make_pipeline\n",
        "pipe = make_pipeline(col_trans, rf_classifier)\n",
        "pipe.fit(X_train, y_train)"
      ],
      "execution_count": null,
      "outputs": [
        {
          "output_type": "execute_result",
          "data": {
            "text/plain": [
              "Pipeline(memory=None,\n",
              "         steps=[('columntransformer',\n",
              "                 ColumnTransformer(n_jobs=None, remainder='passthrough',\n",
              "                                   sparse_threshold=0.3,\n",
              "                                   transformer_weights=None,\n",
              "                                   transformers=[('onehotencoder',\n",
              "                                                  OneHotEncoder(categories='auto',\n",
              "                                                                drop=None,\n",
              "                                                                dtype=<class 'numpy.float64'>,\n",
              "                                                                handle_unknown='error',\n",
              "                                                                sparse=True),\n",
              "                                                  ['married', 'house_ownership',\n",
              "                                                   'car_ownership',\n",
              "                                                   'profession', 'city...\n",
              "                 RandomForestClassifier(bootstrap=True, ccp_alpha=0.0,\n",
              "                                        class_weight=None, criterion='gini',\n",
              "                                        max_depth=None, max_features='auto',\n",
              "                                        max_leaf_nodes=None, max_samples=None,\n",
              "                                        min_impurity_decrease=0.0,\n",
              "                                        min_impurity_split=None,\n",
              "                                        min_samples_leaf=50,\n",
              "                                        min_samples_split=2,\n",
              "                                        min_weight_fraction_leaf=0.0,\n",
              "                                        n_estimators=150, n_jobs=-1,\n",
              "                                        oob_score=True, random_state=50,\n",
              "                                        verbose=0, warm_start=False))],\n",
              "         verbose=False)"
            ]
          },
          "metadata": {
            "tags": []
          },
          "execution_count": 18
        }
      ]
    },
    {
      "cell_type": "code",
      "metadata": {
        "id": "Rx_ktbKX9-Bq"
      },
      "source": [
        "y_pred = pipe.predict(X_test)"
      ],
      "execution_count": null,
      "outputs": []
    },
    {
      "cell_type": "code",
      "metadata": {
        "id": "oNna6TR__Ucl"
      },
      "source": [
        "from sklearn.metrics import accuracy_score, confusion_matrix, precision_score, recall_score, roc_auc_score, roc_curve, f1_score"
      ],
      "execution_count": null,
      "outputs": []
    },
    {
      "cell_type": "code",
      "metadata": {
        "colab": {
          "base_uri": "https://localhost:8080/"
        },
        "id": "J3BX6hPV_YLZ",
        "outputId": "98e22115-2b5a-4e73-c4a2-40873d89ebff"
      },
      "source": [
        "accuracy_score(y_test, y_pred)\n",
        "print(f\"The accuracy of the model is {round(accuracy_score(y_test,y_pred),3)*100} %\")"
      ],
      "execution_count": null,
      "outputs": [
        {
          "output_type": "stream",
          "text": [
            "The accuracy of the model is 87.7 %\n"
          ],
          "name": "stdout"
        }
      ]
    },
    {
      "cell_type": "code",
      "metadata": {
        "id": "z3X7aNDa_a3Y"
      },
      "source": [
        "train_probs = pipe.predict_proba(X_train)[:,1] \n",
        "probs = pipe.predict_proba(X_test)[:, 1]\n",
        "train_predictions = pipe.predict(X_train)"
      ],
      "execution_count": null,
      "outputs": []
    },
    {
      "cell_type": "code",
      "metadata": {
        "colab": {
          "base_uri": "https://localhost:8080/"
        },
        "id": "thjx61Cd_eTh",
        "outputId": "dd0ddece-7a77-4721-e5e5-61060f4818a3"
      },
      "source": [
        "print(f'Train ROC AUC Score: {roc_auc_score(y_train, train_probs)}')\n",
        "print(f'Test ROC AUC  Score: {roc_auc_score(y_test, probs)}')"
      ],
      "execution_count": null,
      "outputs": [
        {
          "output_type": "stream",
          "text": [
            "Train ROC AUC Score: 0.8581278330752429\n",
            "Test ROC AUC  Score: 0.8361889943729937\n"
          ],
          "name": "stdout"
        }
      ]
    },
    {
      "cell_type": "code",
      "metadata": {
        "colab": {
          "base_uri": "https://localhost:8080/",
          "height": 630
        },
        "id": "9X8b63LN_ioU",
        "outputId": "6e5385ec-77dd-46f1-8146-73a9cf63ca10"
      },
      "source": [
        "def evaluate_model(y_pred, probs,train_predictions, train_probs):\n",
        "    baseline = {}\n",
        "    baseline['recall']=recall_score(y_test,\n",
        "                    [1 for _ in range(len(y_test))])\n",
        "    baseline['precision'] = precision_score(y_test,\n",
        "                    [1 for _ in range(len(y_test))])\n",
        "    baseline['roc'] = 0.5\n",
        "    results = {}\n",
        "    results['recall'] = recall_score(y_test, y_pred)\n",
        "    results['precision'] = precision_score(y_test, y_pred)\n",
        "    results['roc'] = roc_auc_score(y_test, probs)\n",
        "    train_results = {}\n",
        "    train_results['recall'] = recall_score(y_train,       train_predictions)\n",
        "    train_results['precision'] = precision_score(y_train, train_predictions)\n",
        "    train_results['roc'] = roc_auc_score(y_train, train_probs)\n",
        "    for metric in ['recall', 'precision', 'roc']:  \n",
        "          print(f'{metric.capitalize()} Baseline: {round(baseline[metric], 2)} Test: {round(results[metric], 2)} Train: {round(train_results[metric], 2)}')\n",
        "     # Calculate false positive rates and true positive rates\n",
        "    base_fpr, base_tpr, _ = roc_curve(y_test, [1 for _ in range(len(y_test))])\n",
        "    model_fpr, model_tpr, _ = roc_curve(y_test, probs)\n",
        "    plt.figure(figsize = (8, 6))\n",
        "    plt.rcParams['font.size'] = 16\n",
        "    # Plot both curves\n",
        "    plt.plot(base_fpr, base_tpr, 'b', label = 'baseline')\n",
        "    plt.plot(model_fpr, model_tpr, 'r', label = 'model')\n",
        "    plt.legend();\n",
        "    plt.xlabel('False Positive Rate');\n",
        "    plt.ylabel('True Positive Rate'); plt.title('ROC Curves');\n",
        "    plt.show();\n",
        "evaluate_model(y_pred,probs,train_predictions,train_probs)"
      ],
      "execution_count": null,
      "outputs": [
        {
          "output_type": "stream",
          "text": [
            "/usr/local/lib/python3.7/dist-packages/sklearn/metrics/_classification.py:1272: UndefinedMetricWarning:\n",
            "\n",
            "Precision is ill-defined and being set to 0.0 due to no predicted samples. Use `zero_division` parameter to control this behavior.\n",
            "\n",
            "/usr/local/lib/python3.7/dist-packages/sklearn/metrics/_classification.py:1272: UndefinedMetricWarning:\n",
            "\n",
            "Precision is ill-defined and being set to 0.0 due to no predicted samples. Use `zero_division` parameter to control this behavior.\n",
            "\n"
          ],
          "name": "stderr"
        },
        {
          "output_type": "stream",
          "text": [
            "Recall Baseline: 1.0 Test: 0.0 Train: 0.0\n",
            "Precision Baseline: 0.12 Test: 0.0 Train: 0.0\n",
            "Roc Baseline: 0.5 Test: 0.84 Train: 0.86\n"
          ],
          "name": "stdout"
        },
        {
          "output_type": "display_data",
          "data": {
            "image/png": "[encoded data removed]",
            "text/plain": [
              "<Figure size 576x432 with 1 Axes>"
            ]
          },
          "metadata": {
            "tags": [],
            "needs_background": "light"
          }
        }
      ]
    },
    {
      "cell_type": "code",
      "metadata": {
        "colab": {
          "base_uri": "https://localhost:8080/",
          "height": 584
        },
        "id": "vawYrpeA_ly8",
        "outputId": "06a33963-7a03-46b9-8298-221e27337752"
      },
      "source": [
        "import itertools\n",
        "def plot_confusion_matrix(cm, classes, normalize = False,\n",
        "                          title='Confusion matrix',\n",
        "                          cmap=plt.cm.Greens): # can change color \n",
        "    plt.figure(figsize = (10, 10))\n",
        "    plt.imshow(cm, interpolation='nearest', cmap=cmap)\n",
        "    plt.title(title, size = 24)\n",
        "    plt.colorbar(aspect=4)\n",
        "    tick_marks = np.arange(len(classes))\n",
        "    plt.xticks(tick_marks, classes, rotation=45, size = 14)\n",
        "    plt.yticks(tick_marks, classes, size = 14)\n",
        "    fmt = '.2f' if normalize else 'd'\n",
        "    thresh = cm.max() / 2.\n",
        "    # Label the plot\n",
        "    for i, j in itertools.product(range(cm.shape[0]),   range(cm.shape[1])):\n",
        "      plt.text(j, i, format(cm[i, j], fmt), fontsize = 20,horizontalalignment=\"center\",color=\"white\" if cm[i, j] > thresh else \"black\")\n",
        "    plt.grid(None)\n",
        "    plt.tight_layout()\n",
        "    plt.ylabel('True label', size = 18)\n",
        "    plt.xlabel('Predicted label', size = 18)\n",
        "\n",
        "# Let's plot it out\n",
        "cm = confusion_matrix(y_test, y_pred)\n",
        "plot_confusion_matrix(cm, classes = ['0 - No-Risk', '1 - Risk'],\n",
        "                      title = 'Exit_status Confusion Matrix')"
      ],
      "execution_count": null,
      "outputs": [
        {
          "output_type": "display_data",
          "data": {
            "image/png": "[encoded data removed]",
            "text/plain": [
              "<Figure size 720x720 with 2 Axes>"
            ]
          },
          "metadata": {
            "tags": [],
            "needs_background": "light"
          }
        }
      ]
    },
    {
      "cell_type": "code",
      "metadata": {
        "colab": {
          "base_uri": "https://localhost:8080/"
        },
        "id": "VMyNu2Nb_yFl",
        "outputId": "ddd2cc01-c83e-4daa-fcc7-07be4b231109"
      },
      "source": [
        "print(rf_classifier.feature_importances_)\n",
        "print(f\" There are {len(rf_classifier.feature_importances_)} features in total\")"
      ],
      "execution_count": null,
      "outputs": [
        {
          "output_type": "stream",
          "text": [
            "[4.34958549e-03 3.93389342e-03 2.25830980e-03 3.40041762e-03\n",
            " 6.59997518e-03 7.09557166e-03 6.88974540e-03 4.45746364e-03\n",
            " 3.65795154e-03 3.75843551e-03 4.45888920e-03 2.94143200e-03\n",
            " 4.46639849e-03 5.49626966e-03 6.06820676e-03 2.80809512e-03\n",
            " 2.81193522e-03 3.06939360e-03 3.55884321e-03 4.77660153e-03\n",
            " 3.85550906e-03 4.59239506e-03 4.38386412e-03 6.54906437e-03\n",
            " 3.04840781e-03 2.51649336e-03 4.31771637e-03 3.21661921e-03\n",
            " 2.60826097e-03 6.15191087e-03 2.73455614e-03 4.73144304e-03\n",
            " 4.97769987e-03 3.90823738e-03 2.96591897e-03 4.08055714e-03\n",
            " 3.36041849e-03 3.53983592e-03 4.49116209e-03 3.83443664e-03\n",
            " 3.47267367e-03 4.10894484e-03 2.67541978e-03 4.86837832e-03\n",
            " 6.45669446e-03 7.08915154e-03 4.49690707e-03 3.76617480e-03\n",
            " 4.65375802e-03 4.63327984e-03 6.68159418e-03 5.24541924e-03\n",
            " 4.04873458e-03 5.78183033e-03 3.02857486e-03 5.25510343e-03\n",
            " 3.96076857e-03 3.34248807e-03 1.21042787e-03 1.46242945e-03\n",
            " 1.21055437e-03 1.95268657e-03 1.60850169e-04 1.21535289e-03\n",
            " 3.88704805e-04 4.36956274e-04 4.13946628e-04 1.10905713e-03\n",
            " 4.50487278e-04 7.31308372e-04 1.30857919e-04 1.97855305e-03\n",
            " 5.40138175e-04 6.62619045e-04 1.72754524e-03 1.54306766e-04\n",
            " 4.05316533e-04 8.21616537e-04 7.57698609e-05 2.20939130e-04\n",
            " 8.54769890e-04 2.52738755e-04 4.54113478e-04 3.91615901e-04\n",
            " 7.79425033e-04 2.34942410e-03 2.45044786e-04 1.56877589e-04\n",
            " 3.35674798e-04 3.00608788e-04 6.46386390e-03 2.55304401e-03\n",
            " 6.25218806e-04 1.90878820e-04 3.06906895e-04 5.89751397e-04\n",
            " 3.46434153e-04 9.01021155e-04 1.62564803e-04 6.25991454e-03\n",
            " 3.98195630e-04 3.88690525e-04 1.83574617e-03 1.25357226e-03\n",
            " 1.55339673e-03 5.01994720e-04 2.23028642e-04 8.97431015e-05\n",
            " 8.56037872e-04 5.18894750e-04 1.58570796e-04 8.56380643e-04\n",
            " 7.41322294e-03 2.48722978e-03 1.91172055e-04 2.46616696e-03\n",
            " 2.35942801e-04 1.55706936e-04 1.68701118e-04 5.02385827e-04\n",
            " 3.23005214e-04 9.37882085e-05 1.76456309e-03 4.58179298e-04\n",
            " 4.46261905e-03 3.08231825e-05 5.74332855e-04 2.14387847e-03\n",
            " 3.53792659e-04 8.11619657e-04 4.52431587e-04 3.53231872e-04\n",
            " 2.52177505e-03 1.98342721e-03 3.99494687e-04 2.03077683e-03\n",
            " 8.69170062e-04 1.68552180e-03 1.66156636e-04 5.99346282e-04\n",
            " 4.07477152e-04 1.72933467e-04 2.80110934e-04 5.53905797e-04\n",
            " 3.45949738e-03 9.53904960e-04 8.96091438e-04 7.66258336e-04\n",
            " 1.65463683e-04 2.75631898e-04 6.16545018e-04 9.57100198e-04\n",
            " 1.42545268e-03 2.39120981e-04 1.93654952e-03 1.93255330e-03\n",
            " 1.68859811e-04 5.38246361e-05 1.76170133e-03 7.30673138e-03\n",
            " 1.85304349e-03 2.63588881e-04 1.69020775e-03 1.08606829e-03\n",
            " 3.45847879e-04 4.25955437e-04 2.52074373e-04 1.09876235e-03\n",
            " 4.49566608e-04 1.31568479e-03 3.84047227e-03 7.40322349e-04\n",
            " 1.28822481e-03 4.16612792e-04 5.38485454e-04 3.04913524e-03\n",
            " 2.19756358e-04 9.13774755e-04 6.53307084e-05 1.09195638e-03\n",
            " 1.82777813e-03 1.06341225e-03 4.33582819e-04 2.29834425e-03\n",
            " 4.56849914e-03 7.82812114e-04 9.02575379e-04 3.91062008e-04\n",
            " 3.60097875e-04 3.41034143e-04 8.84807564e-05 2.22667707e-04\n",
            " 4.37286637e-04 3.42539810e-04 4.14024944e-04 9.49678424e-04\n",
            " 3.15158684e-03 2.52018482e-04 1.34734038e-03 5.12247803e-04\n",
            " 2.74666677e-04 5.43536890e-04 1.54712448e-04 1.55725267e-03\n",
            " 2.14946378e-03 3.49333174e-05 1.99133052e-03 3.99904243e-04\n",
            " 1.63753350e-04 5.70934921e-04 1.70872893e-04 5.40818335e-03\n",
            " 3.54958957e-04 3.45920016e-04 6.68944818e-04 4.38919822e-04\n",
            " 4.08624212e-05 6.60396370e-04 5.93159086e-03 2.48865272e-04\n",
            " 6.04758721e-04 7.13539564e-04 3.70959956e-04 1.35206153e-03\n",
            " 4.57461393e-03 3.15055236e-04 5.25707988e-04 1.21098025e-04\n",
            " 5.81823868e-04 1.23742531e-04 9.56838015e-05 2.15552276e-04\n",
            " 1.89676617e-04 2.74147670e-04 2.92495615e-04 9.28341180e-04\n",
            " 2.72764075e-04 3.91277304e-04 2.16834793e-03 1.81738183e-03\n",
            " 6.06016650e-04 1.95779162e-04 3.21888405e-03 4.52845827e-04\n",
            " 3.87333354e-04 9.62507956e-04 4.00867394e-04 5.84084610e-04\n",
            " 4.32311928e-04 5.79453985e-04 5.58844912e-04 8.81878857e-04\n",
            " 1.31232849e-03 1.68600217e-03 5.07085933e-04 1.67829038e-03\n",
            " 1.64884244e-03 2.03138401e-03 3.10395383e-04 2.88307034e-03\n",
            " 1.77996776e-03 1.14599038e-03 2.31298398e-04 1.22629247e-03\n",
            " 2.51014659e-05 9.71394582e-04 2.56183811e-04 1.21942667e-03\n",
            " 4.05953193e-04 3.47251249e-04 1.43091152e-03 1.33632540e-04\n",
            " 1.30260199e-03 1.00130414e-03 2.78155674e-04 7.77734812e-04\n",
            " 7.06284565e-04 5.56373243e-04 5.32079813e-04 1.10951940e-03\n",
            " 5.39921491e-04 1.93755279e-04 6.31744230e-04 4.21302938e-03\n",
            " 6.23740157e-04 6.20601786e-04 1.36508701e-04 2.82659960e-04\n",
            " 3.19778048e-04 2.04716398e-03 1.52281068e-04 4.03071856e-04\n",
            " 4.39691856e-04 4.92882603e-04 7.51065260e-04 2.11243238e-03\n",
            " 1.04453731e-03 2.53393575e-04 3.67981575e-03 7.64069950e-04\n",
            " 8.85154513e-04 8.82447119e-04 6.84660853e-04 3.90238900e-03\n",
            " 2.71792687e-04 1.59957441e-04 9.69122479e-04 4.47986772e-03\n",
            " 1.62462877e-03 2.98939674e-04 8.29241912e-05 5.03890502e-04\n",
            " 1.83551462e-04 3.08452190e-04 1.31613760e-03 8.84195542e-04\n",
            " 7.87842403e-04 2.32114363e-03 1.04987060e-03 4.87259293e-04\n",
            " 2.81361746e-04 6.18900752e-03 3.83408624e-04 4.48280598e-04\n",
            " 1.48645631e-03 8.71742692e-04 1.61006330e-04 5.31487442e-04\n",
            " 5.58847095e-03 1.09993026e-03 4.48027002e-04 2.62409822e-04\n",
            " 2.14211269e-04 2.93252665e-04 1.93394300e-03 2.57255207e-03\n",
            " 2.62972801e-04 1.40722761e-03 1.95827441e-04 4.08944702e-03\n",
            " 1.25580199e-04 3.24767765e-04 2.95261234e-04 1.62456338e-03\n",
            " 1.78045153e-04 5.33452881e-05 3.14382623e-04 4.31619680e-03\n",
            " 1.74567438e-04 1.90372284e-04 1.97370681e-03 4.73397807e-04\n",
            " 4.69234661e-04 2.95444572e-03 6.51738716e-04 2.81316223e-04\n",
            " 2.19996616e-04 1.43170391e-04 3.31371859e-04 4.48725535e-05\n",
            " 6.56462064e-04 1.62085917e-03 1.11790318e-04 1.29815997e-03\n",
            " 2.40840243e-04 5.81186743e-04 1.54290139e-03 1.19909882e-03\n",
            " 1.59304139e-03 6.69039438e-04 1.56118348e-03 1.61418034e-03\n",
            " 6.60840087e-04 1.04375644e-04 1.25083663e-03 5.33708159e-03\n",
            " 4.03322496e-03 7.16302655e-03 4.50429969e-05 3.90085428e-03\n",
            " 2.41017804e-03 6.48828486e-03 3.34799357e-03 7.88018891e-04\n",
            " 4.30121805e-03 5.76677280e-03 3.73412328e-03 7.12791897e-03\n",
            " 1.00409563e-02 5.15417498e-03 2.62739572e-03 1.00821934e-03\n",
            " 3.78291621e-03 5.77678306e-04 3.28222039e-03 6.46359291e-03\n",
            " 7.08076131e-05 4.60745583e-03 5.03902882e-03 1.50624655e-03\n",
            " 6.55135638e-03 2.79239001e-04 1.07957490e-03 7.20645653e-03\n",
            " 9.02169054e-02 7.64519453e-02 5.82956183e-02 5.51620313e-02\n",
            " 2.84427166e-02]\n",
            " There are 409 features in total\n"
          ],
          "name": "stdout"
        }
      ]
    },
    {
      "cell_type": "code",
      "metadata": {
        "colab": {
          "base_uri": "https://localhost:8080/"
        },
        "id": "GGH-Ut1_DV_4",
        "outputId": "849fa38d-f1ce-4382-9088-546d1be802c3"
      },
      "source": [
        "print(col_trans.fit_transform(X_train)[0,:])"
      ],
      "execution_count": null,
      "outputs": [
        {
          "output_type": "stream",
          "text": [
            "  (0, 1)\t1.0\n",
            "  (0, 4)\t1.0\n",
            "  (0, 5)\t1.0\n",
            "  (0, 40)\t1.0\n",
            "  (0, 205)\t1.0\n",
            "  (0, 397)\t1.0\n",
            "  (0, 404)\t8132252.0\n",
            "  (0, 405)\t72.0\n",
            "  (0, 406)\t7.0\n",
            "  (0, 407)\t6.0\n",
            "  (0, 408)\t13.0\n"
          ],
          "name": "stdout"
        }
      ]
    },
    {
      "cell_type": "code",
      "metadata": {
        "colab": {
          "base_uri": "https://localhost:8080/"
        },
        "id": "LtUNc3n2DdvX",
        "outputId": "3481b2c1-bf2f-4747-f8c6-b11de0977e03"
      },
      "source": [
        "X_train.iloc[0,:] "
      ],
      "execution_count": null,
      "outputs": [
        {
          "output_type": "execute_result",
          "data": {
            "text/plain": [
              "income                             8132252\n",
              "age                                     72\n",
              "experience                               7\n",
              "married                             single\n",
              "house_ownership                     rented\n",
              "car_ownership                           no\n",
              "profession             Mechanical_engineer\n",
              "city                             Karaikudi\n",
              "state                           Tamil_Nadu\n",
              "current_job_years                        6\n",
              "current_house_years                     13\n",
              "Name: 13715, dtype: object"
            ]
          },
          "metadata": {
            "tags": []
          },
          "execution_count": 31
        }
      ]
    },
    {
      "cell_type": "code",
      "metadata": {
        "id": "WQyACmPLDhi-"
      },
      "source": [
        "def encode_and_bind(original_dataframe, features_to_encode):\n",
        "    dummies = pd.get_dummies(original_dataframe[features_to_encode])\n",
        "    res = pd.concat([dummies, original_dataframe], axis=1)\n",
        "    res = res.drop(features_to_encode, axis=1)\n",
        "    return(res)\n",
        "X_train_encoded = encode_and_bind(X_train, features_to_encode)"
      ],
      "execution_count": null,
      "outputs": []
    },
    {
      "cell_type": "code",
      "metadata": {
        "colab": {
          "base_uri": "https://localhost:8080/"
        },
        "id": "VPBstheTDnbM",
        "outputId": "365f329a-45da-4bb7-999f-7583abcd7c34"
      },
      "source": [
        "feature_importances = list(zip(X_train_encoded, rf_classifier.feature_importances_))\n",
        "# Then sort the feature importances by most important first\n",
        "feature_importances_ranked = sorted(feature_importances, key = lambda x: x[1], reverse = True)\n",
        "# Print out the feature and importances\n",
        "[print('Feature: {:35} Importance: {}'.format(*pair)) for pair in feature_importances_ranked];"
      ],
      "execution_count": null,
      "outputs": [
        {
          "output_type": "stream",
          "text": [
            "Feature: income                              Importance: 0.09021690539006222\n",
            "Feature: age                                 Importance: 0.07645194534332254\n",
            "Feature: experience                          Importance: 0.058295618268488336\n",
            "Feature: current_job_years                   Importance: 0.05516203133039671\n",
            "Feature: current_house_years                 Importance: 0.028442716612327626\n",
            "Feature: state_Madhya_Pradesh                Importance: 0.01004095634316624\n",
            "Feature: city_Bhubaneswar                    Importance: 0.007413222940665933\n",
            "Feature: city_Ghaziabad                      Importance: 0.007306731383468651\n",
            "Feature: state_West_Bengal                   Importance: 0.007206456531841018\n",
            "Feature: state_Bihar                         Importance: 0.007163026546361718\n",
            "Feature: state_Kerala                        Importance: 0.0071279189695479\n",
            "Feature: car_ownership_no                    Importance: 0.007095571656801723\n",
            "Feature: profession_Police_officer           Importance: 0.007089151543053481\n",
            "Feature: car_ownership_yes                   Importance: 0.006889745403499703\n",
            "Feature: profession_Software_Developer       Importance: 0.006681594183688576\n",
            "Feature: house_ownership_rented              Importance: 0.006599975179930765\n",
            "Feature: state_Uttar_Pradesh                 Importance: 0.006551356378165086\n",
            "Feature: profession_Dentist                  Importance: 0.006549064370409921\n",
            "Feature: state_Gujarat                       Importance: 0.0064882848631492756\n",
            "Feature: city_Barasat                        Importance: 0.006463863897845893\n",
            "Feature: state_Rajasthan                     Importance: 0.006463592909633231\n",
            "Feature: profession_Physician                Importance: 0.00645669446139413\n",
            "Feature: city_Bettiah[33]                    Importance: 0.00625991453517462\n",
            "Feature: city_Satna                          Importance: 0.00618900751581141\n",
            "Feature: profession_Fashion_Designer         Importance: 0.006151910866239658\n",
            "Feature: profession_Chartered_Accountant     Importance: 0.006068206763479953\n",
            "Feature: city_Kochi                          Importance: 0.005931590859276669\n",
            "Feature: profession_Surveyor                 Importance: 0.005781830334634953\n",
            "Feature: state_Jharkhand                     Importance: 0.005766772802504146\n",
            "Feature: city_Sikar                          Importance: 0.0055884709475061125\n",
            "Feature: profession_Biomedical_Engineer      Importance: 0.005496269663374681\n",
            "Feature: city_Kavali                         Importance: 0.005408183354936386\n",
            "Feature: state_Andhra_Pradesh                Importance: 0.005337081585449503\n",
            "Feature: profession_Technician               Importance: 0.0052551034307186245\n",
            "Feature: profession_Statistician             Importance: 0.005245419238928686\n",
            "Feature: state_Maharashtra                   Importance: 0.0051541749820665055\n",
            "Feature: state_Telangana                     Importance: 0.005039028820275867\n",
            "Feature: profession_Flight_attendant         Importance: 0.004977699873233329\n",
            "Feature: profession_Petroleum_Engineer       Importance: 0.0048683783206080015\n",
            "Feature: profession_Comedian                 Importance: 0.004776601528091034\n",
            "Feature: profession_Firefighter              Importance: 0.004731443043766142\n",
            "Feature: profession_Scientist                Importance: 0.004653758020109035\n",
            "Feature: profession_Secretary                Importance: 0.004633279835797991\n",
            "Feature: state_Tamil_Nadu                    Importance: 0.004607455830375918\n",
            "Feature: profession_Computer_operator        Importance: 0.004592395057070305\n",
            "Feature: city_Kottayam                       Importance: 0.004574613929712106\n",
            "Feature: city_Indore                         Importance: 0.004568499139222402\n",
            "Feature: profession_Politician               Importance: 0.0044969070730574035\n",
            "Feature: profession_Librarian                Importance: 0.004491162090184471\n",
            "Feature: city_Ratlam                         Importance: 0.004479867724678239\n",
            "Feature: profession_Aviator                  Importance: 0.004466398485963623\n",
            "Feature: city_Buxar[37]                      Importance: 0.004462619053861827\n",
            "Feature: profession_Army_officer             Importance: 0.004458889196881719\n",
            "Feature: profession_Air_traffic_controller   Importance: 0.004457463638461398\n",
            "Feature: profession_Consultant               Importance: 0.004383864117408795\n",
            "Feature: married_married                     Importance: 0.0043495854882073005\n",
            "Feature: profession_Drafter                  Importance: 0.004317716366522741\n",
            "Feature: city_Tezpur                         Importance: 0.004316196799937081\n",
            "Feature: state_Jammu_and_Kashmir             Importance: 0.004301218047552508\n",
            "Feature: city_Panipat                        Importance: 0.004213029380764949\n",
            "Feature: profession_Microbiologist           Importance: 0.0041089448413186465\n",
            "Feature: city_Srinagar                       Importance: 0.004089447015501177\n",
            "Feature: profession_Hotel_Manager            Importance: 0.0040805571448043745\n",
            "Feature: profession_Surgeon                  Importance: 0.004048734576523237\n",
            "Feature: state_Assam                         Importance: 0.004033224964344973\n",
            "Feature: profession_Technology_specialist    Importance: 0.0039607685699901175\n",
            "Feature: married_single                      Importance: 0.003933893422649587\n",
            "Feature: profession_Geologist                Importance: 0.0039082373775747685\n",
            "Feature: city_Ramagundam[27]                 Importance: 0.0039023889962876003\n",
            "Feature: state_Chhattisgarh                  Importance: 0.003900854283111473\n",
            "Feature: profession_Computer_hardware_engineer Importance: 0.0038555090620795815\n",
            "Feature: city_Gwalior                        Importance: 0.003840472271120797\n",
            "Feature: profession_Magistrate               Importance: 0.003834436644372223\n",
            "Feature: state_Odisha                        Importance: 0.003782916211175094\n",
            "Feature: profession_Psychologist             Importance: 0.003766174797056503\n",
            "Feature: profession_Architect                Importance: 0.0037584355081780358\n",
            "Feature: state_Karnataka                     Importance: 0.003734123276127254\n",
            "Feature: city_Raiganj                        Importance: 0.003679815748729526\n",
            "Feature: profession_Analyst                  Importance: 0.0036579515407422812\n",
            "Feature: profession_Civil_servant            Importance: 0.003558843205891565\n",
            "Feature: profession_Lawyer                   Importance: 0.003539835919756764\n",
            "Feature: profession_Mechanical_engineer      Importance: 0.003472673672113771\n",
            "Feature: city_Dibrugarh                      Importance: 0.003459497375484993\n",
            "Feature: house_ownership_owned               Importance: 0.0034004176231736795\n",
            "Feature: profession_Industrial_Engineer      Importance: 0.0033604184921453228\n",
            "Feature: state_Haryana                       Importance: 0.003347993574327841\n",
            "Feature: profession_Web_designer             Importance: 0.0033424880703942493\n",
            "Feature: state_Punjab                        Importance: 0.003282220392933644\n",
            "Feature: city_Mango                          Importance: 0.003218884050006524\n",
            "Feature: profession_Economist                Importance: 0.0032166192083952364\n",
            "Feature: city_Jhansi                         Importance: 0.0031515868413901907\n",
            "Feature: profession_Civil_engineer           Importance: 0.00306939359681194\n",
            "Feature: city_Hazaribagh                     Importance: 0.0030491352399480186\n",
            "Feature: profession_Design_Engineer          Importance: 0.003048407810046072\n",
            "Feature: profession_Technical_writer         Importance: 0.003028574861698214\n",
            "Feature: profession_Graphic_Designer         Importance: 0.00296591896748097\n",
            "Feature: city_Tinsukia                       Importance: 0.002954445724072103\n",
            "Feature: profession_Artist                   Importance: 0.0029414320031173774\n",
            "Feature: city_Mysore[7][8][9]                Importance: 0.0028830703399814537\n",
            "Feature: profession_Chemical_engineer        Importance: 0.002811935224402579\n",
            "Feature: profession_Chef                     Importance: 0.0028080951248120613\n",
            "Feature: profession_Financial_Analyst        Importance: 0.0027345561427745465\n",
            "Feature: profession_Official                 Importance: 0.0026754197820571166\n",
            "Feature: state_Manipur                       Importance: 0.0026273957160232067\n",
            "Feature: profession_Engineer                 Importance: 0.002608260969060776\n",
            "Feature: city_Sonipat                        Importance: 0.0025725520705999444\n",
            "Feature: city_Bardhaman                      Importance: 0.002553044008184108\n",
            "Feature: city_Cuttack                        Importance: 0.0025217750480780073\n",
            "Feature: profession_Designer                 Importance: 0.0025164933571165888\n",
            "Feature: city_Bhusawal                       Importance: 0.0024872297767125993\n",
            "Feature: city_Bidhannagar                    Importance: 0.0024661669591865766\n",
            "Feature: state_Delhi                         Importance: 0.002410178039587585\n",
            "Feature: city_Bahraich                       Importance: 0.0023494241023571463\n",
            "Feature: city_Sambhal                        Importance: 0.002321143629846094\n",
            "Feature: city_Imphal                         Importance: 0.002298344249982241\n",
            "Feature: house_ownership_norent_noown        Importance: 0.0022583097995077755\n",
            "Feature: city_Maheshtala                     Importance: 0.0021683479275434116\n",
            "Feature: city_Kanpur                         Importance: 0.002149463775350902\n",
            "Feature: city_Chapra                         Importance: 0.002143878471660203\n",
            "Feature: city_Purnia[26]                     Importance: 0.0021124323754873257\n",
            "Feature: city_Phusro                         Importance: 0.0020471639800553557\n",
            "Feature: city_Muzaffarnagar                  Importance: 0.0020313840147969963\n",
            "Feature: city_Davanagere                     Importance: 0.00203077683014343\n",
            "Feature: city_Karawal_Nagar                  Importance: 0.001991330521936255\n",
            "Feature: city_Danapur                        Importance: 0.001983427211339442\n",
            "Feature: city_Ambala                         Importance: 0.0019785530458623917\n",
            "Feature: city_Thiruvananthapuram             Importance: 0.0019737068074837886\n",
            "Feature: city_Ahmedabad                      Importance: 0.001952686569138479\n",
            "Feature: city_Firozabad                      Importance: 0.0019365495201667845\n",
            "Feature: city_Solapur                        Importance: 0.0019339430048179321\n",
            "Feature: city_Gandhidham                     Importance: 0.0019325533044210108\n",
            "Feature: city_Giridih                        Importance: 0.001853043487806559\n",
            "Feature: city_Bharatpur                      Importance: 0.0018357461721258321\n",
            "Feature: city_Hubliâ€“Dharwad                Importance: 0.001827778131474584\n",
            "Feature: city_Malda                          Importance: 0.001817381831448633\n",
            "Feature: city_Nadiad                         Importance: 0.00177996775647642\n",
            "Feature: city_Bulandshahr                    Importance: 0.001764563093548619\n",
            "Feature: city_Gaya                           Importance: 0.0017617013283019272\n",
            "Feature: city_Amravati                       Importance: 0.0017275452409061965\n",
            "Feature: city_Gorakhpur                      Importance: 0.0016902077488558883\n",
            "Feature: city_Morena                         Importance: 0.001686002165445845\n",
            "Feature: city_Dehri[30]                      Importance: 0.001685521795985417\n",
            "Feature: city_Mumbai                         Importance: 0.0016782903846914706\n",
            "Feature: city_Munger                         Importance: 0.0016488424387515563\n",
            "Feature: city_Raurkela_Industrial_Township   Importance: 0.001624628770673286\n",
            "Feature: city_Suryapet                       Importance: 0.0016245633821067528\n",
            "Feature: city_Udupi                          Importance: 0.0016208591693947197\n",
            "Feature: city_Vijayawada                     Importance: 0.0016141803391451085\n",
            "Feature: city_Vasai-Virar                    Importance: 0.0015930413923548848\n",
            "Feature: city_Vijayanagaram                  Importance: 0.001561183480070371\n",
            "Feature: city_Kamarhati                      Importance: 0.0015572526732526564\n",
            "Feature: city_Bhavnagar                      Importance: 0.0015533967289026486\n",
            "Feature: city_Vadodara                       Importance: 0.0015429013897426474\n",
            "Feature: state_Tripura                       Importance: 0.0015062465459912094\n",
            "Feature: city_Shahjahanpur                   Importance: 0.001486456305754284\n",
            "Feature: city_Agartala                       Importance: 0.0014624294519797452\n",
            "Feature: city_Navi_Mumbai                    Importance: 0.0014309115215486111\n",
            "Feature: city_Farrukhabad                    Importance: 0.001425452677042894\n",
            "Feature: city_Sri_Ganganagar                 Importance: 0.0014072276109346868\n",
            "Feature: city_Kota[6]                        Importance: 0.0013520615346631342\n",
            "Feature: city_Jorhat                         Importance: 0.001347340384537236\n",
            "Feature: city_Saharsa[29]                    Importance: 0.0013161376039623003\n",
            "Feature: city_Guwahati                       Importance: 0.0013156847878099316\n",
            "Feature: city_Morbi                          Importance: 0.0013123284949017268\n",
            "Feature: city_New_Delhi                      Importance: 0.001302601990006482\n",
            "Feature: city_Ulhasnagar                     Importance: 0.0012981599721112976\n",
            "Feature: city_Haldia                         Importance: 0.001288224806380655\n",
            "Feature: city_Bhatpara                       Importance: 0.0012535722649759102\n",
            "Feature: city_Yamunanagar                    Importance: 0.001250836628070863\n",
            "Feature: city_Nagpur                         Importance: 0.0012262924682926188\n",
            "Feature: city_Nangloi_Jat                    Importance: 0.0012194266722511482\n",
            "Feature: city_Aizawl                         Importance: 0.0012153528918295708\n",
            "Feature: city_Agra                           Importance: 0.0012105543679650404\n",
            "Feature: city_Adoni                          Importance: 0.0012104278731414214\n",
            "Feature: city_Varanasi                       Importance: 0.0011990988235062625\n",
            "Feature: city_Nagaon                         Importance: 0.001145990378828605\n",
            "Feature: city_Pali                           Importance: 0.0011095194032636297\n",
            "Feature: city_Aligarh                        Importance: 0.0011090571303755702\n",
            "Feature: city_Silchar                        Importance: 0.0010999302592455712\n",
            "Feature: city_Guntur[13]                     Importance: 0.0010987623464908146\n",
            "Feature: city_Howrah                         Importance: 0.0010919563821984442\n",
            "Feature: city_Gudivada                       Importance: 0.0010860682861166056\n",
            "Feature: state_Uttarakhand                   Importance: 0.0010795749025406035\n",
            "Feature: city_Hyderabad                      Importance: 0.0010634122473843718\n",
            "Feature: city_Sangli-Miraj_&_Kupwad          Importance: 0.00104987060272995\n",
            "Feature: city_Raebareli                      Importance: 0.001044537305129596\n",
            "Feature: state_Mizoram                       Importance: 0.001008219340791516\n",
            "Feature: city_Nizamabad                      Importance: 0.001001304139484095\n",
            "Feature: city_Nanded                         Importance: 0.0009713945823495645\n",
            "Feature: city_Ranchi                         Importance: 0.0009691224791095108\n",
            "Feature: city_Medininagar                    Importance: 0.0009625079560007419\n",
            "Feature: city_Faridabad                      Importance: 0.0009571001979178147\n",
            "Feature: city_Dindigul                       Importance: 0.0009539049603070416\n",
            "Feature: city_Jehanabad[38]                  Importance: 0.0009496784242448965\n",
            "Feature: city_Madhyamgram                    Importance: 0.0009283411800708544\n",
            "Feature: city_Hospet                         Importance: 0.0009137747547292634\n",
            "Feature: city_Jaipur                         Importance: 0.0009025753792715966\n",
            "Feature: city_Berhampore                     Importance: 0.0009010211554091939\n",
            "Feature: city_Durg                           Importance: 0.0008960914382512155\n",
            "Feature: city_Rajahmundry[19][20]            Importance: 0.0008851545131780529\n",
            "Feature: city_Salem                          Importance: 0.0008841955416758168\n",
            "Feature: city_Rajkot                         Importance: 0.0008824471194153235\n",
            "Feature: city_Moradabad                      Importance: 0.0008818788573046222\n",
            "Feature: city_Shimla                         Importance: 0.0008717426916301966\n",
            "Feature: city_Dehradun                       Importance: 0.0008691700615879222\n",
            "Feature: city_Bhopal                         Importance: 0.0008563806434795231\n",
            "Feature: city_Bhind                          Importance: 0.0008560378720041822\n",
            "Feature: city_Arrah                          Importance: 0.000854769889694759\n",
            "Feature: city_Anand                          Importance: 0.0008216165370975354\n",
            "Feature: city_Chinsurah                      Importance: 0.0008116196574659912\n",
            "Feature: state_Himachal_Pradesh              Importance: 0.0007880188910969444\n",
            "Feature: city_Sambalpur                      Importance: 0.0007878424029756498\n",
            "Feature: city_Jabalpur                       Importance: 0.0007828121144243676\n",
            "Feature: city_Avadi                          Importance: 0.0007794250333116325\n",
            "Feature: city_North_Dumdum                   Importance: 0.000777734812256382\n",
            "Feature: city_Durgapur                       Importance: 0.0007662583361970519\n",
            "Feature: city_Raipur                         Importance: 0.0007640699503746627\n",
            "Feature: city_Pune                           Importance: 0.0007510652602229399\n",
            "Feature: city_Hajipur[31]                    Importance: 0.0007403223488762549\n",
            "Feature: city_Alwar                          Importance: 0.0007313083718759667\n",
            "Feature: city_Kollam                         Importance: 0.000713539564013858\n",
            "Feature: city_Ongole                         Importance: 0.000706284564984479\n",
            "Feature: city_Rajpur_Sonarpur                Importance: 0.0006846608525810919\n",
            "Feature: city_Vellore                        Importance: 0.0006690394379898827\n",
            "Feature: city_Kharagpur                      Importance: 0.0006689448176867781\n",
            "Feature: city_Ambattur                       Importance: 0.0006626190453044007\n",
            "Feature: city_Visakhapatnam[4]               Importance: 0.000660840086771377\n",
            "Feature: city_Kishanganj[35]                 Importance: 0.000660396369544057\n",
            "Feature: city_Udaipur                        Importance: 0.0006564620643037656\n",
            "Feature: city_Tiruchirappalli[10]            Importance: 0.0006517387162400676\n",
            "Feature: city_Panihati                       Importance: 0.0006317442302769967\n",
            "Feature: city_Bareilly                       Importance: 0.0006252188064479914\n",
            "Feature: city_Panvel                         Importance: 0.0006237401574738156\n",
            "Feature: city_Parbhani                       Importance: 0.0006206017864275773\n",
            "Feature: city_Etawah                         Importance: 0.0006165450177757964\n",
            "Feature: city_Malegaon                       Importance: 0.0006060166498283074\n",
            "Feature: city_Kolkata                        Importance: 0.0006047587214489291\n",
            "Feature: city_Deoghar                        Importance: 0.0005993462823120717\n",
            "Feature: city_Belgaum                        Importance: 0.0005897513966315643\n",
            "Feature: city_Mehsana                        Importance: 0.0005840846102483511\n",
            "Feature: city_Kurnool[18]                    Importance: 0.0005818238682013346\n",
            "Feature: city_Unnao                          Importance: 0.0005811867433523223\n",
            "Feature: city_Miryalaguda                    Importance: 0.0005794539847191404\n",
            "Feature: state_Puducherry                    Importance: 0.0005776783060015356\n",
            "Feature: city_Chandrapur                     Importance: 0.0005743328546501735\n",
            "Feature: city_Katihar                        Importance: 0.0005709349205855572\n",
            "Feature: city_Mirzapur                       Importance: 0.0005588449116397417\n",
            "Feature: city_Orai                           Importance: 0.0005563732427003537\n",
            "Feature: city_Dhule                          Importance: 0.0005539057973158217\n",
            "Feature: city_Kakinada                       Importance: 0.000543536889851603\n",
            "Feature: city_Ambarnath                      Importance: 0.0005401381752974856\n",
            "Feature: city_Pallavaram                     Importance: 0.0005399214908587047\n",
            "Feature: city_Haridwar                       Importance: 0.0005384854542690017\n",
            "Feature: city_Ozhukarai                      Importance: 0.0005320798131638483\n",
            "Feature: city_Shivpuri                       Importance: 0.0005314874423812024\n",
            "Feature: city_Kulti                          Importance: 0.0005257079881892936\n",
            "Feature: city_Bhiwandi                       Importance: 0.0005188947500090616\n",
            "Feature: city_Junagadh                       Importance: 0.000512247803040603\n",
            "Feature: city_Motihari[34]                   Importance: 0.0005070859329328555\n",
            "Feature: city_Rourkela                       Importance: 0.0005038905022286685\n",
            "Feature: city_Bilaspur                       Importance: 0.0005023858271592348\n",
            "Feature: city_Bhilai                         Importance: 0.0005019947200258014\n",
            "Feature: city_Pudukkottai                    Importance: 0.0004928826032453242\n",
            "Feature: city_Sasaram[30]                    Importance: 0.00048725929258537794\n",
            "Feature: city_Thoothukudi                    Importance: 0.0004733978066750109\n",
            "Feature: city_Thrissur                       Importance: 0.0004692346609324479\n",
            "Feature: city_Burhanpur                      Importance: 0.0004581792983568402\n",
            "Feature: city_Aurangabad                     Importance: 0.0004541134781693427\n",
            "Feature: city_Mathura                        Importance: 0.00045284582687873546\n",
            "Feature: city_Chittoor[28]                   Importance: 0.00045243158739474514\n",
            "Feature: city_Allahabad                      Importance: 0.00045048727831406554\n",
            "Feature: city_Gurgaon                        Importance: 0.000449566608007599\n",
            "Feature: city_Serampore                      Importance: 0.0004482805980712811\n",
            "Feature: city_Siliguri                       Importance: 0.0004480270023538239\n",
            "Feature: city_Proddatur                      Importance: 0.00043969185578438994\n",
            "Feature: city_Khora,_Ghaziabad               Importance: 0.00043891982204724187\n",
            "Feature: city_Jamnagar                       Importance: 0.0004372866369195457\n",
            "Feature: city_Akola                          Importance: 0.00043695627435264765\n",
            "Feature: city_Ichalkaranji                   Importance: 0.00043358281877781336\n",
            "Feature: city_Mira-Bhayandar                 Importance: 0.00043231192838769924\n",
            "Feature: city_Guna                           Importance: 0.000425955436698156\n",
            "Feature: city_Hapur                          Importance: 0.00041661279226894323\n",
            "Feature: city_Jaunpur                        Importance: 0.0004140249443042272\n",
            "Feature: city_Alappuzha                      Importance: 0.0004139466275016164\n",
            "Feature: city_Dewas                          Importance: 0.0004074771520127989\n",
            "Feature: city_Narasaraopet                   Importance: 0.0004059531933065208\n",
            "Feature: city_Amroha                         Importance: 0.000405316532752778\n",
            "Feature: city_Pondicherry                    Importance: 0.00040307185624770454\n",
            "Feature: city_Meerut                         Importance: 0.00040086739387425223\n",
            "Feature: city_Karimnagar                     Importance: 0.0003999042433667388\n",
            "Feature: city_Darbhanga                      Importance: 0.00039949468662227094\n",
            "Feature: city_Bhagalpur                      Importance: 0.00039819563034016153\n",
            "Feature: city_Aurangabad[39]                 Importance: 0.0003916159009841579\n",
            "Feature: city_Mahbubnagar                    Importance: 0.000391277304233526\n",
            "Feature: city_Jalandhar                      Importance: 0.0003910620078149038\n",
            "Feature: city_Ajmer                          Importance: 0.00038870480534056515\n",
            "Feature: city_Bhalswa_Jahangir_Pur           Importance: 0.0003886905246740952\n",
            "Feature: city_Mau                            Importance: 0.000387333354382538\n",
            "Feature: city_Secunderabad                   Importance: 0.00038340862374426784\n",
            "Feature: city_Korba                          Importance: 0.00037095995568523323\n",
            "Feature: city_Jalgaon                        Importance: 0.0003600978749834153\n",
            "Feature: city_Khammam                        Importance: 0.00035495895664253195\n",
            "Feature: city_Chennai                        Importance: 0.00035379265932715853\n",
            "Feature: city_Coimbatore                     Importance: 0.0003532318721440172\n",
            "Feature: city_Nashik                         Importance: 0.00034725124862306395\n",
            "Feature: city_Bellary                        Importance: 0.0003464341533826782\n",
            "Feature: city_Khandwa                        Importance: 0.00034592001624376647\n",
            "Feature: city_Gulbarga                       Importance: 0.00034584787914629557\n",
            "Feature: city_Jamshedpur                     Importance: 0.0003425398103780697\n",
            "Feature: city_Jalna                          Importance: 0.0003410341429224596\n",
            "Feature: city_Bangalore                      Importance: 0.0003356747977473332\n",
            "Feature: city_Tiruvottiyur                   Importance: 0.0003313718589640867\n",
            "Feature: city_Surat                          Importance: 0.00032476776541284243\n",
            "Feature: city_Bokaro                         Importance: 0.0003230052144584312\n",
            "Feature: city_Phagwara                       Importance: 0.0003197780477173741\n",
            "Feature: city_Kozhikode                      Importance: 0.0003150552364252364\n",
            "Feature: city_Tenali                         Importance: 0.00031438262321636316\n",
            "Feature: city_Muzaffarpur                    Importance: 0.00031039538304430763\n",
            "Feature: city_Saharanpur                     Importance: 0.00030845218994997396\n",
            "Feature: city_Begusarai                      Importance: 0.0003069068951824641\n",
            "Feature: city_Baranagar                      Importance: 0.00030060878803329954\n",
            "Feature: city_Rewa                           Importance: 0.00029893967410286166\n",
            "Feature: city_Surendranagar_Dudhrej          Importance: 0.0002952612335758845\n",
            "Feature: city_Siwan[32]                      Importance: 0.0002932526652441553\n",
            "Feature: city_Madanapalle                    Importance: 0.00029249561496072637\n",
            "Feature: city_Patna                          Importance: 0.00028265996042031364\n",
            "Feature: city_Satara                         Importance: 0.0002813617464982944\n",
            "Feature: city_Tirunelveli                    Importance: 0.0002813162231058833\n",
            "Feature: city_Dharmavaram                    Importance: 0.00028011093385915247\n",
            "Feature: state_Uttar_Pradesh[5]              Importance: 0.0002792390005015372\n",
            "Feature: city_Noida                          Importance: 0.0002781556738039855\n",
            "Feature: city_Erode[17]                      Importance: 0.00027563189813719296\n",
            "Feature: city_Kadapa[23]                     Importance: 0.0002746666770676766\n",
            "Feature: city_Machilipatnam                  Importance: 0.000274147670319352\n",
            "Feature: city_Madurai                        Importance: 0.00027276407512293754\n",
            "Feature: city_Ramgarh                        Importance: 0.00027179268736966507\n",
            "Feature: city_Gopalpur                       Importance: 0.00026358888132157793\n",
            "Feature: city_South_Dumdum                   Importance: 0.00026297280127820155\n",
            "Feature: city_Singrauli                      Importance: 0.0002624098222815274\n",
            "Feature: city_Nandyal                        Importance: 0.0002561838107747798\n",
            "Feature: city_Raichur                        Importance: 0.0002533935752495998\n",
            "Feature: city_Asansol                        Importance: 0.00025273875498506645\n",
            "Feature: city_Guntakal                       Importance: 0.0002520743729363801\n",
            "Feature: city_Jodhpur                        Importance: 0.00025201848248353057\n",
            "Feature: city_Kolhapur                       Importance: 0.00024886527151901926\n",
            "Feature: city_Ballia                         Importance: 0.00024504478578134335\n",
            "Feature: city_Uluberia                       Importance: 0.0002408402430434386\n",
            "Feature: city_Fatehpur                       Importance: 0.00023912098061772523\n",
            "Feature: city_Bihar_Sharif                   Importance: 0.00023594280145608878\n",
            "Feature: city_Nagercoil                      Importance: 0.00023129839764453485\n",
            "Feature: city_Bhilwara                       Importance: 0.0002230286422624384\n",
            "Feature: city_Jammu[16]                      Importance: 0.00022266770658850604\n",
            "Feature: city_Anantapuram[24]                Importance: 0.00022093913041795166\n",
            "Feature: city_Tirupati[21][22]               Importance: 0.00021999661590893805\n",
            "Feature: city_Hindupur                       Importance: 0.00021975635818582867\n",
            "Feature: city_Lucknow                        Importance: 0.0002155522764778312\n",
            "Feature: city_Sirsa                          Importance: 0.00021421126869930742\n",
            "Feature: city_Srikakulam                     Importance: 0.00019582744058577642\n",
            "Feature: city_Mangalore                      Importance: 0.00019577916163128963\n",
            "Feature: city_Panchkula                      Importance: 0.00019375527859151652\n",
            "Feature: city_Bidar                          Importance: 0.00019117205491287536\n",
            "Feature: city_Bathinda                       Importance: 0.00019087881961338867\n",
            "Feature: city_Thanjavur                      Importance: 0.00019037228390582833\n",
            "Feature: city_Ludhiana                       Importance: 0.00018967661726210615\n",
            "Feature: city_Sagar                          Importance: 0.00018355146222184083\n",
            "Feature: city_Tadepalligudem                 Importance: 0.00017804515296116253\n",
            "Feature: city_Thane                          Importance: 0.00017456743781678756\n",
            "Feature: city_Dhanbad                        Importance: 0.0001729334673620502\n",
            "Feature: city_Katni                          Importance: 0.0001708728930831193\n",
            "Feature: city_Gandhinagar                    Importance: 0.00016885981083254606\n",
            "Feature: city_Bikaner                        Importance: 0.00016870111840184217\n",
            "Feature: city_Delhi_city                     Importance: 0.00016615663577965612\n",
            "Feature: city_Eluru[25]                      Importance: 0.00016546368281297912\n",
            "Feature: city_Karnal                         Importance: 0.00016375334975151352\n",
            "Feature: city_Berhampur                      Importance: 0.00016256480317800097\n",
            "Feature: city_Shimoga                        Importance: 0.00016100632956885972\n",
            "Feature: city_Ahmednagar                     Importance: 0.00016085016857399738\n",
            "Feature: city_Rampur                         Importance: 0.00015995744149185776\n",
            "Feature: city_Bhiwani                        Importance: 0.00015857079575966096\n",
            "Feature: city_Bally                          Importance: 0.00015687758922997827\n",
            "Feature: city_Bijapur                        Importance: 0.0001557069358631515\n",
            "Feature: city_Kalyan-Dombivli                Importance: 0.00015471244804625707\n",
            "Feature: city_Amritsar                       Importance: 0.00015430676606464935\n",
            "Feature: city_Pimpri-Chinchwad               Importance: 0.00015228106770921303\n",
            "Feature: city_Tiruppur                       Importance: 0.0001431703912486089\n",
            "Feature: city_Patiala                        Importance: 0.00013650870090775165\n",
            "Feature: city_Nellore[14][15]                Importance: 0.00013363254040210613\n",
            "Feature: city_Amaravati                      Importance: 0.00013085791888247893\n",
            "Feature: city_Sultan_Pur_Majra               Importance: 0.00012558019881150488\n",
            "Feature: city_Latur                          Importance: 0.000123742531000507\n",
            "Feature: city_Kumbakonam                     Importance: 0.00012109802503838368\n",
            "Feature: city_Ujjain                         Importance: 0.00011179031758636258\n",
            "Feature: city_Warangal[11][12]               Importance: 0.00010437564382096729\n",
            "Feature: city_Loni                           Importance: 9.568380146492443e-05\n",
            "Feature: city_Bongaigaon                     Importance: 9.378820853540203e-05\n",
            "Feature: city_Bhimavaram                     Importance: 8.974310148920674e-05\n",
            "Feature: city_Jamalpur[36]                   Importance: 8.848075638754486e-05\n",
            "Feature: city_Rohtak                         Importance: 8.292419115841209e-05\n",
            "Feature: city_Anantapur                      Importance: 7.576986087121562e-05\n",
            "Feature: state_Sikkim                        Importance: 7.080761311319795e-05\n",
            "Feature: city_Hosur                          Importance: 6.53307084248033e-05\n",
            "Feature: city_Gangtok                        Importance: 5.382463613782996e-05\n",
            "Feature: city_Tadipatri                      Importance: 5.3345288142619856e-05\n",
            "Feature: state_Chandigarh                    Importance: 4.504299690104381e-05\n",
            "Feature: city_Tumkur                         Importance: 4.487255354689162e-05\n",
            "Feature: city_Kirari_Suleman_Nagar           Importance: 4.08624212031939e-05\n",
            "Feature: city_Karaikudi                      Importance: 3.4933317418438944e-05\n",
            "Feature: city_Chandigarh_city                Importance: 3.0823182493978574e-05\n",
            "Feature: city_Naihati                        Importance: 2.5101465855857192e-05\n"
          ],
          "name": "stdout"
        }
      ]
    },
    {
      "cell_type": "code",
      "metadata": {
        "id": "_IsHA20rDqkU"
      },
      "source": [
        "feature_names_25 = [i[0] for i in feature_importances_ranked[:25]]\n",
        "y_ticks = np.arange(0, len(feature_names_25))\n",
        "x_axis = [i[1] for i in feature_importances_ranked[:25]]\n",
        "plt.figure(figsize = (10, 14))\n",
        "plt.barh(feature_names_25, x_axis)   #horizontal barplot\n",
        "plt.title('Random Forest Feature Importance (Top 25)',\n",
        "          fontdict= {'fontname':'Comic Sans MS','fontsize' : 20})\n",
        "plt.xlabel('Features',fontdict= {'fontsize' : 16})\n",
        "plt.show()"
      ],
      "execution_count": null,
      "outputs": []
    },
    {
      "cell_type": "code",
      "metadata": {
        "colab": {
          "base_uri": "https://localhost:8080/"
        },
        "id": "wfnJ3FtLDyFD",
        "outputId": "4e55e09d-bd98-480d-dcf1-c5ce7f8ecaa1"
      },
      "source": [
        "from pprint import pprint\n",
        "print('Parameters currently in use:\\n')\n",
        "pprint(rf_classifier.get_params())"
      ],
      "execution_count": null,
      "outputs": [
        {
          "output_type": "stream",
          "text": [
            "Parameters currently in use:\n",
            "\n",
            "{'bootstrap': True,\n",
            " 'ccp_alpha': 0.0,\n",
            " 'class_weight': None,\n",
            " 'criterion': 'gini',\n",
            " 'max_depth': None,\n",
            " 'max_features': 'auto',\n",
            " 'max_leaf_nodes': None,\n",
            " 'max_samples': None,\n",
            " 'min_impurity_decrease': 0.0,\n",
            " 'min_impurity_split': None,\n",
            " 'min_samples_leaf': 50,\n",
            " 'min_samples_split': 2,\n",
            " 'min_weight_fraction_leaf': 0.0,\n",
            " 'n_estimators': 150,\n",
            " 'n_jobs': -1,\n",
            " 'oob_score': True,\n",
            " 'random_state': 50,\n",
            " 'verbose': 0,\n",
            " 'warm_start': False}\n"
          ],
          "name": "stdout"
        }
      ]
    },
    {
      "cell_type": "code",
      "metadata": {
        "id": "VJdOSjfHEHss"
      },
      "source": [
        "from sklearn.model_selection import RandomizedSearchCV\n",
        "n_estimators = [int(x) for x in np.linspace(start = 100, stop = 700, num = 50)]\n",
        "max_features = ['auto', 'log2']  # Number of features to consider at every split\n",
        "max_depth = [int(x) for x in np.linspace(10, 110, num = 11)]   # Maximum number of levels in tree\n",
        "max_depth.append(None)\n",
        "min_samples_split = [2, 5, 10]  # Minimum number of samples required to split a node\n",
        "min_samples_leaf = [1, 4, 10]    # Minimum number of samples required at each leaf node\n",
        "bootstrap = [True, False]       # Method of selecting samples for training each tree\n",
        "random_grid = {'n_estimators': n_estimators,\n",
        "               'max_features': max_features,\n",
        "               'max_depth': max_depth,\n",
        "               'min_samples_split': min_samples_split,\n",
        "               'min_samples_leaf': min_samples_leaf,\n",
        "               'max_leaf_nodes': [None] + list(np.linspace(10, 50, 500).astype(int)),\n",
        "               'bootstrap': bootstrap}"
      ],
      "execution_count": null,
      "outputs": []
    },
    {
      "cell_type": "code",
      "metadata": {
        "id": "scmPLrHdENI3"
      },
      "source": [
        "rf = RandomForestClassifier(oob_score=True)\n",
        "# Create random search model and fit the data\n",
        "rf_random = RandomizedSearchCV(\n",
        "                        estimator = rf,\n",
        "                        param_distributions = random_grid,\n",
        "                        n_iter = 100, cv = 3,\n",
        "                        verbose=2, random_state=seed, \n",
        "                        scoring='roc_auc')\n",
        "rf_random.fit(X_train_encoded, y_train)\n",
        "rf_random.best_params_\n",
        "rf_random.best_params_"
      ],
      "execution_count": null,
      "outputs": []
    },
    {
      "cell_type": "markdown",
      "metadata": {
        "id": "cm4gU5CBFY-u"
      },
      "source": [
        "# Alternatively"
      ]
    },
    {
      "cell_type": "code",
      "metadata": {
        "id": "V117KrZMERRR"
      },
      "source": [
        "rf = RandomForestClassifier(oob_score=True, n_jobs=-1)\n",
        "rf_random = RandomizedSearchCV(\n",
        "                estimator = rf,\n",
        "                param_distributions = random_grid,\n",
        "                n_iter = 50, cv = 3,\n",
        "                verbose=1, random_state=seed,\n",
        "                scoring='roc_auc')\n",
        "pipe_random = make_pipeline(col_trans, rf_random)\n",
        "pipe_random.fit(X_train, y_train)\n",
        "rf_random.best_params_"
      ],
      "execution_count": null,
      "outputs": []
    },
    {
      "cell_type": "code",
      "metadata": {
        "id": "nAxe2nvuE3Il"
      },
      "source": [
        "n_nodes = []\n",
        "max_depths = []\n",
        "for ind_tree in best_model.estimators_:\n",
        "       n_nodes.append(ind_tree.tree_.node_count)\n",
        "       max_depths.append(ind_tree.tree_.max_depth)\n",
        "print(f'Average number of nodes {int(np.mean(n_nodes))}')   print(f'Average maximum depth {int(np.mean(max_depths))}') "
      ],
      "execution_count": null,
      "outputs": []
    },
    {
      "cell_type": "code",
      "metadata": {
        "id": "NHF786jKFC1i"
      },
      "source": [
        "best_model = rf_random.best_estimator_\n",
        "pipe_best_model = make_pipeline(col_trans, best_model)\n",
        "pipe_best_model.fit(X_train, y_train)\n",
        "y_pred_best_model = pipe_best_model.predict(X_test)"
      ],
      "execution_count": null,
      "outputs": []
    },
    {
      "cell_type": "code",
      "metadata": {
        "id": "3lsZf5X8FI26"
      },
      "source": [
        "train_rf_predictions = pipe_best_model.predict(X_train)\n",
        "train_rf_probs = pipe_best_model.predict_proba(X_train)[:, 1]\n",
        "rf_probs = pipe_best_model.predict_proba(X_test)[:, 1]\n",
        "# Plot ROC curve and check scores\n",
        "evaluate_model(y_pred_best_model, rf_probs, train_rf_predictions, train_rf_probs)"
      ],
      "execution_count": null,
      "outputs": []
    },
    {
      "cell_type": "code",
      "metadata": {
        "id": "6zB84Ya9FONA"
      },
      "source": [
        "plot_confusion_matrix(confusion_matrix(y_test, y_pred_best_model), classes = ['0 - N0-Risk', '1 - Risk'],\n",
        "title = 'Exit_status Confusion Matrix')"
      ],
      "execution_count": null,
      "outputs": []
    },
    {
      "cell_type": "markdown",
      "metadata": {
        "id": "dQCWS6ADGf1d"
      },
      "source": [
        "# IV and WOE"
      ]
    },
    {
      "cell_type": "code",
      "metadata": {
        "id": "d8DYuM9TL8rL"
      },
      "source": [
        "train_df = pd.read_csv(\"Training Data.csv\",index_col=0)"
      ],
      "execution_count": null,
      "outputs": []
    },
    {
      "cell_type": "code",
      "metadata": {
        "id": "UNtiBc6PMAd7"
      },
      "source": [
        "train_df[\"house_ownership\"]=pd.factorize(train_df.house_ownership)[0]\n",
        "train_df[\"city\"]=pd.factorize(train_df.city)[0]\n",
        "train_df[\"state\"]=pd.factorize(train_df.state)[0]\n",
        "train_df[\"married\"]=pd.factorize(train_df.married)[0]\n",
        "train_df[\"car_ownership\"]=pd.factorize(train_df.car_ownership)[0]\n",
        "train_df[\"profession\"]=pd.factorize(train_df.profession)[0]"
      ],
      "execution_count": null,
      "outputs": []
    },
    {
      "cell_type": "code",
      "metadata": {
        "colab": {
          "base_uri": "https://localhost:8080/",
          "height": 223
        },
        "id": "xY6LUw73La1V",
        "outputId": "8a675572-e2a3-4106-9006-b30c1ffe9fc3"
      },
      "source": [
        "train_df.head()"
      ],
      "execution_count": null,
      "outputs": [
        {
          "output_type": "execute_result",
          "data": {
            "text/html": [
              "<div>\n",
              "<style scoped>\n",
              "    .dataframe tbody tr th:only-of-type {\n",
              "        vertical-align: middle;\n",
              "    }\n",
              "\n",
              "    .dataframe tbody tr th {\n",
              "        vertical-align: top;\n",
              "    }\n",
              "\n",
              "    .dataframe thead th {\n",
              "        text-align: right;\n",
              "    }\n",
              "</style>\n",
              "<table border=\"1\" class=\"dataframe\">\n",
              "  <thead>\n",
              "    <tr style=\"text-align: right;\">\n",
              "      <th></th>\n",
              "      <th>income</th>\n",
              "      <th>age</th>\n",
              "      <th>experience</th>\n",
              "      <th>married</th>\n",
              "      <th>house_ownership</th>\n",
              "      <th>car_ownership</th>\n",
              "      <th>profession</th>\n",
              "      <th>city</th>\n",
              "      <th>state</th>\n",
              "      <th>current_job_years</th>\n",
              "      <th>current_house_years</th>\n",
              "      <th>risk_flag</th>\n",
              "    </tr>\n",
              "    <tr>\n",
              "      <th>Id</th>\n",
              "      <th></th>\n",
              "      <th></th>\n",
              "      <th></th>\n",
              "      <th></th>\n",
              "      <th></th>\n",
              "      <th></th>\n",
              "      <th></th>\n",
              "      <th></th>\n",
              "      <th></th>\n",
              "      <th></th>\n",
              "      <th></th>\n",
              "      <th></th>\n",
              "    </tr>\n",
              "  </thead>\n",
              "  <tbody>\n",
              "    <tr>\n",
              "      <th>1</th>\n",
              "      <td>1303835</td>\n",
              "      <td>23</td>\n",
              "      <td>3</td>\n",
              "      <td>single</td>\n",
              "      <td>rented</td>\n",
              "      <td>no</td>\n",
              "      <td>Mechanical_engineer</td>\n",
              "      <td>Rewa</td>\n",
              "      <td>Madhya_Pradesh</td>\n",
              "      <td>3</td>\n",
              "      <td>13</td>\n",
              "      <td>0</td>\n",
              "    </tr>\n",
              "    <tr>\n",
              "      <th>2</th>\n",
              "      <td>7574516</td>\n",
              "      <td>40</td>\n",
              "      <td>10</td>\n",
              "      <td>single</td>\n",
              "      <td>rented</td>\n",
              "      <td>no</td>\n",
              "      <td>Software_Developer</td>\n",
              "      <td>Parbhani</td>\n",
              "      <td>Maharashtra</td>\n",
              "      <td>9</td>\n",
              "      <td>13</td>\n",
              "      <td>0</td>\n",
              "    </tr>\n",
              "    <tr>\n",
              "      <th>3</th>\n",
              "      <td>3991815</td>\n",
              "      <td>66</td>\n",
              "      <td>4</td>\n",
              "      <td>married</td>\n",
              "      <td>rented</td>\n",
              "      <td>no</td>\n",
              "      <td>Technical_writer</td>\n",
              "      <td>Alappuzha</td>\n",
              "      <td>Kerala</td>\n",
              "      <td>4</td>\n",
              "      <td>10</td>\n",
              "      <td>0</td>\n",
              "    </tr>\n",
              "    <tr>\n",
              "      <th>4</th>\n",
              "      <td>6256451</td>\n",
              "      <td>41</td>\n",
              "      <td>2</td>\n",
              "      <td>single</td>\n",
              "      <td>rented</td>\n",
              "      <td>yes</td>\n",
              "      <td>Software_Developer</td>\n",
              "      <td>Bhubaneswar</td>\n",
              "      <td>Odisha</td>\n",
              "      <td>2</td>\n",
              "      <td>12</td>\n",
              "      <td>1</td>\n",
              "    </tr>\n",
              "    <tr>\n",
              "      <th>5</th>\n",
              "      <td>5768871</td>\n",
              "      <td>47</td>\n",
              "      <td>11</td>\n",
              "      <td>single</td>\n",
              "      <td>rented</td>\n",
              "      <td>no</td>\n",
              "      <td>Civil_servant</td>\n",
              "      <td>Tiruchirappalli[10]</td>\n",
              "      <td>Tamil_Nadu</td>\n",
              "      <td>3</td>\n",
              "      <td>14</td>\n",
              "      <td>1</td>\n",
              "    </tr>\n",
              "  </tbody>\n",
              "</table>\n",
              "</div>"
            ],
            "text/plain": [
              "     income  age  experience  ... current_job_years current_house_years risk_flag\n",
              "Id                            ...                                                \n",
              "1   1303835   23           3  ...                 3                  13         0\n",
              "2   7574516   40          10  ...                 9                  13         0\n",
              "3   3991815   66           4  ...                 4                  10         0\n",
              "4   6256451   41           2  ...                 2                  12         1\n",
              "5   5768871   47          11  ...                 3                  14         1\n",
              "\n",
              "[5 rows x 12 columns]"
            ]
          },
          "metadata": {
            "tags": []
          },
          "execution_count": 116
        }
      ]
    },
    {
      "cell_type": "code",
      "metadata": {
        "colab": {
          "base_uri": "https://localhost:8080/"
        },
        "id": "WIqX2chrWUzi",
        "outputId": "b231c513-3976-47a7-a74a-78303e2547c0"
      },
      "source": [
        "!pip install xverse"
      ],
      "execution_count": null,
      "outputs": [
        {
          "output_type": "stream",
          "text": [
            "Collecting xverse\n",
            "  Downloading https://files.pythonhosted.org/packages/c0/98/2656fa170116f8287d606e2f2c3ddd8ecdbcf04fbedd336c05f870f8043f/xverse-1.0.5-py3-none-any.whl\n",
            "Requirement already satisfied: pandas>=0.21.1 in /usr/local/lib/python3.7/dist-packages (from xverse) (1.1.5)\n",
            "Requirement already satisfied: scipy>=0.19.0 in /usr/local/lib/python3.7/dist-packages (from xverse) (1.4.1)\n",
            "Requirement already satisfied: matplotlib>=3.0.3 in /usr/local/lib/python3.7/dist-packages (from xverse) (3.2.2)\n",
            "Requirement already satisfied: numpy>=1.11.3 in /usr/local/lib/python3.7/dist-packages (from xverse) (1.19.5)\n",
            "Requirement already satisfied: scikit-learn>=0.19.0 in /usr/local/lib/python3.7/dist-packages (from xverse) (0.22.2.post1)\n",
            "Requirement already satisfied: statsmodels>=0.6.1 in /usr/local/lib/python3.7/dist-packages (from xverse) (0.10.2)\n",
            "Requirement already satisfied: python-dateutil>=2.7.3 in /usr/local/lib/python3.7/dist-packages (from pandas>=0.21.1->xverse) (2.8.1)\n",
            "Requirement already satisfied: pytz>=2017.2 in /usr/local/lib/python3.7/dist-packages (from pandas>=0.21.1->xverse) (2018.9)\n",
            "Requirement already satisfied: pyparsing!=2.0.4,!=2.1.2,!=2.1.6,>=2.0.1 in /usr/local/lib/python3.7/dist-packages (from matplotlib>=3.0.3->xverse) (2.4.7)\n",
            "Requirement already satisfied: kiwisolver>=1.0.1 in /usr/local/lib/python3.7/dist-packages (from matplotlib>=3.0.3->xverse) (1.3.1)\n",
            "Requirement already satisfied: cycler>=0.10 in /usr/local/lib/python3.7/dist-packages (from matplotlib>=3.0.3->xverse) (0.10.0)\n",
            "Requirement already satisfied: joblib>=0.11 in /usr/local/lib/python3.7/dist-packages (from scikit-learn>=0.19.0->xverse) (1.0.1)\n",
            "Requirement already satisfied: patsy>=0.4.0 in /usr/local/lib/python3.7/dist-packages (from statsmodels>=0.6.1->xverse) (0.5.1)\n",
            "Requirement already satisfied: six>=1.5 in /usr/local/lib/python3.7/dist-packages (from python-dateutil>=2.7.3->pandas>=0.21.1->xverse) (1.15.0)\n",
            "Installing collected packages: xverse\n",
            "Successfully installed xverse-1.0.5\n"
          ],
          "name": "stdout"
        }
      ]
    },
    {
      "cell_type": "code",
      "metadata": {
        "id": "QUsHzUThXu3N"
      },
      "source": [
        "from xverse.transformer import MonotonicBinning\n",
        "X = train_df.drop(['risk_flag'], axis = 1)\n",
        "y = train_df['risk_flag']\n",
        "# clf = MonotonicBinning()\n",
        "# clf.fit(X, y)"
      ],
      "execution_count": null,
      "outputs": []
    },
    {
      "cell_type": "code",
      "metadata": {
        "colab": {
          "base_uri": "https://localhost:8080/"
        },
        "id": "BEQZPMPRYh7x",
        "outputId": "f28a9f54-eda8-4aab-e2fb-2d94a6ee98fe"
      },
      "source": [
        "print(clf.bins)\n",
        "output_bins = clf.bins"
      ],
      "execution_count": null,
      "outputs": [
        {
          "output_type": "stream",
          "text": [
            "{'income': array([  10310., 3318935., 6647587., 9999938.]), 'age': array([21., 40., 60., 79.]), 'experience': array([ 0.,  7., 14., 20.]), 'current_job_years': array([ 0.,  4.,  8., 14.]), 'current_house_years': array([10, 11, 12, 13, 14])}\n"
          ],
          "name": "stdout"
        }
      ]
    },
    {
      "cell_type": "code",
      "metadata": {
        "colab": {
          "base_uri": "https://localhost:8080/",
          "height": 328
        },
        "id": "DmSzqzGFYplG",
        "outputId": "4c95ce5e-b453-4a8d-c622-0de81d4e8fd1"
      },
      "source": [
        "clf = MonotonicBinning(custom_binning=output_bins) #output_bins was created earlier\n",
        "\n",
        "out_X = clf.transform(X)\n",
        "out_X.head()"
      ],
      "execution_count": null,
      "outputs": [
        {
          "output_type": "execute_result",
          "data": {
            "text/html": [
              "<div>\n",
              "<style scoped>\n",
              "    .dataframe tbody tr th:only-of-type {\n",
              "        vertical-align: middle;\n",
              "    }\n",
              "\n",
              "    .dataframe tbody tr th {\n",
              "        vertical-align: top;\n",
              "    }\n",
              "\n",
              "    .dataframe thead th {\n",
              "        text-align: right;\n",
              "    }\n",
              "</style>\n",
              "<table border=\"1\" class=\"dataframe\">\n",
              "  <thead>\n",
              "    <tr style=\"text-align: right;\">\n",
              "      <th></th>\n",
              "      <th>income</th>\n",
              "      <th>age</th>\n",
              "      <th>experience</th>\n",
              "      <th>married</th>\n",
              "      <th>house_ownership</th>\n",
              "      <th>car_ownership</th>\n",
              "      <th>profession</th>\n",
              "      <th>city</th>\n",
              "      <th>state</th>\n",
              "      <th>current_job_years</th>\n",
              "      <th>current_house_years</th>\n",
              "      <th>bin</th>\n",
              "    </tr>\n",
              "    <tr>\n",
              "      <th>Id</th>\n",
              "      <th></th>\n",
              "      <th></th>\n",
              "      <th></th>\n",
              "      <th></th>\n",
              "      <th></th>\n",
              "      <th></th>\n",
              "      <th></th>\n",
              "      <th></th>\n",
              "      <th></th>\n",
              "      <th></th>\n",
              "      <th></th>\n",
              "      <th></th>\n",
              "    </tr>\n",
              "  </thead>\n",
              "  <tbody>\n",
              "    <tr>\n",
              "      <th>1</th>\n",
              "      <td>(10309.999, 3318935.0]</td>\n",
              "      <td>(20.999, 40.0]</td>\n",
              "      <td>(-0.001, 7.0]</td>\n",
              "      <td>single</td>\n",
              "      <td>rented</td>\n",
              "      <td>no</td>\n",
              "      <td>Mechanical_engineer</td>\n",
              "      <td>Rewa</td>\n",
              "      <td>Madhya_Pradesh</td>\n",
              "      <td>(-0.001, 4.0]</td>\n",
              "      <td>13</td>\n",
              "      <td>Madhya_Pradesh</td>\n",
              "    </tr>\n",
              "    <tr>\n",
              "      <th>2</th>\n",
              "      <td>(6647587.0, 9999938.0]</td>\n",
              "      <td>(20.999, 40.0]</td>\n",
              "      <td>(7.0, 14.0]</td>\n",
              "      <td>single</td>\n",
              "      <td>rented</td>\n",
              "      <td>no</td>\n",
              "      <td>Software_Developer</td>\n",
              "      <td>Parbhani</td>\n",
              "      <td>Maharashtra</td>\n",
              "      <td>(8.0, 14.0]</td>\n",
              "      <td>13</td>\n",
              "      <td>Maharashtra</td>\n",
              "    </tr>\n",
              "    <tr>\n",
              "      <th>3</th>\n",
              "      <td>(3318935.0, 6647587.0]</td>\n",
              "      <td>(60.0, 79.0]</td>\n",
              "      <td>(-0.001, 7.0]</td>\n",
              "      <td>married</td>\n",
              "      <td>rented</td>\n",
              "      <td>no</td>\n",
              "      <td>Technical_writer</td>\n",
              "      <td>Alappuzha</td>\n",
              "      <td>Kerala</td>\n",
              "      <td>(-0.001, 4.0]</td>\n",
              "      <td>10</td>\n",
              "      <td>Kerala</td>\n",
              "    </tr>\n",
              "    <tr>\n",
              "      <th>4</th>\n",
              "      <td>(3318935.0, 6647587.0]</td>\n",
              "      <td>(40.0, 60.0]</td>\n",
              "      <td>(-0.001, 7.0]</td>\n",
              "      <td>single</td>\n",
              "      <td>rented</td>\n",
              "      <td>yes</td>\n",
              "      <td>Software_Developer</td>\n",
              "      <td>Bhubaneswar</td>\n",
              "      <td>Odisha</td>\n",
              "      <td>(-0.001, 4.0]</td>\n",
              "      <td>12</td>\n",
              "      <td>Odisha</td>\n",
              "    </tr>\n",
              "    <tr>\n",
              "      <th>5</th>\n",
              "      <td>(3318935.0, 6647587.0]</td>\n",
              "      <td>(40.0, 60.0]</td>\n",
              "      <td>(7.0, 14.0]</td>\n",
              "      <td>single</td>\n",
              "      <td>rented</td>\n",
              "      <td>no</td>\n",
              "      <td>Civil_servant</td>\n",
              "      <td>Tiruchirappalli[10]</td>\n",
              "      <td>Tamil_Nadu</td>\n",
              "      <td>(-0.001, 4.0]</td>\n",
              "      <td>14</td>\n",
              "      <td>Tamil_Nadu</td>\n",
              "    </tr>\n",
              "  </tbody>\n",
              "</table>\n",
              "</div>"
            ],
            "text/plain": [
              "                    income             age  ... current_house_years             bin\n",
              "Id                                          ...                                    \n",
              "1   (10309.999, 3318935.0]  (20.999, 40.0]  ...                  13  Madhya_Pradesh\n",
              "2   (6647587.0, 9999938.0]  (20.999, 40.0]  ...                  13     Maharashtra\n",
              "3   (3318935.0, 6647587.0]    (60.0, 79.0]  ...                  10          Kerala\n",
              "4   (3318935.0, 6647587.0]    (40.0, 60.0]  ...                  12          Odisha\n",
              "5   (3318935.0, 6647587.0]    (40.0, 60.0]  ...                  14      Tamil_Nadu\n",
              "\n",
              "[5 rows x 12 columns]"
            ]
          },
          "metadata": {
            "tags": []
          },
          "execution_count": 99
        }
      ]
    },
    {
      "cell_type": "code",
      "metadata": {
        "colab": {
          "base_uri": "https://localhost:8080/",
          "height": 370
        },
        "id": "bXhM-eFzYs7c",
        "outputId": "8e9ffa6b-a48b-435d-beac-8c282bd23190"
      },
      "source": [
        "from xverse.transformer import WOE\n",
        "clf = WOE()\n",
        "clf.fit(X, y)\n",
        "clf.woe_df  \n",
        "clf.iv_df"
      ],
      "execution_count": null,
      "outputs": [
        {
          "output_type": "execute_result",
          "data": {
            "text/html": [
              "<div>\n",
              "<style scoped>\n",
              "    .dataframe tbody tr th:only-of-type {\n",
              "        vertical-align: middle;\n",
              "    }\n",
              "\n",
              "    .dataframe tbody tr th {\n",
              "        vertical-align: top;\n",
              "    }\n",
              "\n",
              "    .dataframe thead th {\n",
              "        text-align: right;\n",
              "    }\n",
              "</style>\n",
              "<table border=\"1\" class=\"dataframe\">\n",
              "  <thead>\n",
              "    <tr style=\"text-align: right;\">\n",
              "      <th></th>\n",
              "      <th>Variable_Name</th>\n",
              "      <th>Information_Value</th>\n",
              "    </tr>\n",
              "  </thead>\n",
              "  <tbody>\n",
              "    <tr>\n",
              "      <th>2</th>\n",
              "      <td>city</td>\n",
              "      <td>0.199112</td>\n",
              "    </tr>\n",
              "    <tr>\n",
              "      <th>10</th>\n",
              "      <td>state</td>\n",
              "      <td>0.027023</td>\n",
              "    </tr>\n",
              "    <tr>\n",
              "      <th>9</th>\n",
              "      <td>profession</td>\n",
              "      <td>0.022923</td>\n",
              "    </tr>\n",
              "    <tr>\n",
              "      <th>5</th>\n",
              "      <td>experience</td>\n",
              "      <td>0.008539</td>\n",
              "    </tr>\n",
              "    <tr>\n",
              "      <th>6</th>\n",
              "      <td>house_ownership</td>\n",
              "      <td>0.007549</td>\n",
              "    </tr>\n",
              "    <tr>\n",
              "      <th>1</th>\n",
              "      <td>car_ownership</td>\n",
              "      <td>0.005495</td>\n",
              "    </tr>\n",
              "    <tr>\n",
              "      <th>8</th>\n",
              "      <td>married</td>\n",
              "      <td>0.004421</td>\n",
              "    </tr>\n",
              "    <tr>\n",
              "      <th>0</th>\n",
              "      <td>age</td>\n",
              "      <td>0.003255</td>\n",
              "    </tr>\n",
              "    <tr>\n",
              "      <th>4</th>\n",
              "      <td>current_job_years</td>\n",
              "      <td>0.002361</td>\n",
              "    </tr>\n",
              "    <tr>\n",
              "      <th>7</th>\n",
              "      <td>income</td>\n",
              "      <td>0.000882</td>\n",
              "    </tr>\n",
              "    <tr>\n",
              "      <th>3</th>\n",
              "      <td>current_house_years</td>\n",
              "      <td>0.000225</td>\n",
              "    </tr>\n",
              "  </tbody>\n",
              "</table>\n",
              "</div>"
            ],
            "text/plain": [
              "          Variable_Name  Information_Value\n",
              "2                  city           0.199112\n",
              "10                state           0.027023\n",
              "9            profession           0.022923\n",
              "5            experience           0.008539\n",
              "6       house_ownership           0.007549\n",
              "1         car_ownership           0.005495\n",
              "8               married           0.004421\n",
              "0                   age           0.003255\n",
              "4     current_job_years           0.002361\n",
              "7                income           0.000882\n",
              "3   current_house_years           0.000225"
            ]
          },
          "metadata": {
            "tags": []
          },
          "execution_count": 120
        }
      ]
    },
    {
      "cell_type": "code",
      "metadata": {
        "colab": {
          "base_uri": "https://localhost:8080/",
          "height": 428
        },
        "id": "VVCPn2pCY02m",
        "outputId": "def01379-6cfa-4a5d-ec7b-b40d698798bc"
      },
      "source": [
        "clf.transform(X)"
      ],
      "execution_count": null,
      "outputs": [
        {
          "output_type": "execute_result",
          "data": {
            "text/html": [
              "<div>\n",
              "<style scoped>\n",
              "    .dataframe tbody tr th:only-of-type {\n",
              "        vertical-align: middle;\n",
              "    }\n",
              "\n",
              "    .dataframe tbody tr th {\n",
              "        vertical-align: top;\n",
              "    }\n",
              "\n",
              "    .dataframe thead th {\n",
              "        text-align: right;\n",
              "    }\n",
              "</style>\n",
              "<table border=\"1\" class=\"dataframe\">\n",
              "  <thead>\n",
              "    <tr style=\"text-align: right;\">\n",
              "      <th></th>\n",
              "      <th>income</th>\n",
              "      <th>age</th>\n",
              "      <th>experience</th>\n",
              "      <th>married</th>\n",
              "      <th>house_ownership</th>\n",
              "      <th>car_ownership</th>\n",
              "      <th>profession</th>\n",
              "      <th>city</th>\n",
              "      <th>state</th>\n",
              "      <th>current_job_years</th>\n",
              "      <th>current_house_years</th>\n",
              "    </tr>\n",
              "    <tr>\n",
              "      <th>Id</th>\n",
              "      <th></th>\n",
              "      <th></th>\n",
              "      <th></th>\n",
              "      <th></th>\n",
              "      <th></th>\n",
              "      <th></th>\n",
              "      <th></th>\n",
              "      <th></th>\n",
              "      <th></th>\n",
              "      <th></th>\n",
              "      <th></th>\n",
              "    </tr>\n",
              "  </thead>\n",
              "  <tbody>\n",
              "    <tr>\n",
              "      <th>1</th>\n",
              "      <td>0.006140</td>\n",
              "      <td>0.075832</td>\n",
              "      <td>0.114861</td>\n",
              "      <td>0.021480</td>\n",
              "      <td>0.023675</td>\n",
              "      <td>0.047242</td>\n",
              "      <td>-0.110598</td>\n",
              "      <td>-0.013474</td>\n",
              "      <td>0.263586</td>\n",
              "      <td>0.063024</td>\n",
              "      <td>-0.009008</td>\n",
              "    </tr>\n",
              "    <tr>\n",
              "      <th>2</th>\n",
              "      <td>0.032436</td>\n",
              "      <td>0.075832</td>\n",
              "      <td>-0.083022</td>\n",
              "      <td>0.021480</td>\n",
              "      <td>0.023675</td>\n",
              "      <td>0.047242</td>\n",
              "      <td>0.217328</td>\n",
              "      <td>-0.004671</td>\n",
              "      <td>-0.093602</td>\n",
              "      <td>-0.033012</td>\n",
              "      <td>-0.009008</td>\n",
              "    </tr>\n",
              "    <tr>\n",
              "      <th>3</th>\n",
              "      <td>-0.039570</td>\n",
              "      <td>-0.058147</td>\n",
              "      <td>0.114861</td>\n",
              "      <td>-0.205901</td>\n",
              "      <td>0.023675</td>\n",
              "      <td>0.047242</td>\n",
              "      <td>0.099720</td>\n",
              "      <td>0.070542</td>\n",
              "      <td>0.357982</td>\n",
              "      <td>0.063024</td>\n",
              "      <td>0.017990</td>\n",
              "    </tr>\n",
              "    <tr>\n",
              "      <th>4</th>\n",
              "      <td>-0.039570</td>\n",
              "      <td>-0.024006</td>\n",
              "      <td>0.114861</td>\n",
              "      <td>0.021480</td>\n",
              "      <td>0.023675</td>\n",
              "      <td>-0.116378</td>\n",
              "      <td>0.217328</td>\n",
              "      <td>1.238875</td>\n",
              "      <td>0.170056</td>\n",
              "      <td>0.063024</td>\n",
              "      <td>-0.011920</td>\n",
              "    </tr>\n",
              "    <tr>\n",
              "      <th>5</th>\n",
              "      <td>-0.039570</td>\n",
              "      <td>-0.024006</td>\n",
              "      <td>-0.083022</td>\n",
              "      <td>0.021480</td>\n",
              "      <td>0.023675</td>\n",
              "      <td>0.047242</td>\n",
              "      <td>-0.068552</td>\n",
              "      <td>-0.017382</td>\n",
              "      <td>-0.198245</td>\n",
              "      <td>0.063024</td>\n",
              "      <td>-0.015675</td>\n",
              "    </tr>\n",
              "    <tr>\n",
              "      <th>...</th>\n",
              "      <td>...</td>\n",
              "      <td>...</td>\n",
              "      <td>...</td>\n",
              "      <td>...</td>\n",
              "      <td>...</td>\n",
              "      <td>...</td>\n",
              "      <td>...</td>\n",
              "      <td>...</td>\n",
              "      <td>...</td>\n",
              "      <td>...</td>\n",
              "      <td>...</td>\n",
              "    </tr>\n",
              "    <tr>\n",
              "      <th>251996</th>\n",
              "      <td>0.032436</td>\n",
              "      <td>-0.024006</td>\n",
              "      <td>-0.083022</td>\n",
              "      <td>0.021480</td>\n",
              "      <td>0.023675</td>\n",
              "      <td>0.047242</td>\n",
              "      <td>-0.071770</td>\n",
              "      <td>-0.460269</td>\n",
              "      <td>0.046775</td>\n",
              "      <td>-0.040927</td>\n",
              "      <td>0.018214</td>\n",
              "    </tr>\n",
              "    <tr>\n",
              "      <th>251997</th>\n",
              "      <td>0.006140</td>\n",
              "      <td>0.075832</td>\n",
              "      <td>-0.083022</td>\n",
              "      <td>0.021480</td>\n",
              "      <td>0.023675</td>\n",
              "      <td>0.047242</td>\n",
              "      <td>0.246201</td>\n",
              "      <td>-0.013474</td>\n",
              "      <td>0.263586</td>\n",
              "      <td>-0.040927</td>\n",
              "      <td>0.018214</td>\n",
              "    </tr>\n",
              "    <tr>\n",
              "      <th>251998</th>\n",
              "      <td>-0.039570</td>\n",
              "      <td>-0.024006</td>\n",
              "      <td>0.114861</td>\n",
              "      <td>0.021480</td>\n",
              "      <td>0.023675</td>\n",
              "      <td>0.047242</td>\n",
              "      <td>-0.157442</td>\n",
              "      <td>-0.394466</td>\n",
              "      <td>-0.093602</td>\n",
              "      <td>-0.040927</td>\n",
              "      <td>-0.011920</td>\n",
              "    </tr>\n",
              "    <tr>\n",
              "      <th>251999</th>\n",
              "      <td>-0.039570</td>\n",
              "      <td>-0.024006</td>\n",
              "      <td>0.114861</td>\n",
              "      <td>0.021480</td>\n",
              "      <td>0.023675</td>\n",
              "      <td>0.047242</td>\n",
              "      <td>-0.072705</td>\n",
              "      <td>-0.359290</td>\n",
              "      <td>-0.061301</td>\n",
              "      <td>0.063024</td>\n",
              "      <td>0.017990</td>\n",
              "    </tr>\n",
              "    <tr>\n",
              "      <th>252000</th>\n",
              "      <td>0.032436</td>\n",
              "      <td>-0.058147</td>\n",
              "      <td>-0.063223</td>\n",
              "      <td>0.021480</td>\n",
              "      <td>0.023675</td>\n",
              "      <td>0.047242</td>\n",
              "      <td>-0.070743</td>\n",
              "      <td>0.181282</td>\n",
              "      <td>-0.198245</td>\n",
              "      <td>-0.040927</td>\n",
              "      <td>0.018214</td>\n",
              "    </tr>\n",
              "  </tbody>\n",
              "</table>\n",
              "<p>252000 rows × 11 columns</p>\n",
              "</div>"
            ],
            "text/plain": [
              "          income       age  ...  current_job_years  current_house_years\n",
              "Id                          ...                                        \n",
              "1       0.006140  0.075832  ...           0.063024            -0.009008\n",
              "2       0.032436  0.075832  ...          -0.033012            -0.009008\n",
              "3      -0.039570 -0.058147  ...           0.063024             0.017990\n",
              "4      -0.039570 -0.024006  ...           0.063024            -0.011920\n",
              "5      -0.039570 -0.024006  ...           0.063024            -0.015675\n",
              "...          ...       ...  ...                ...                  ...\n",
              "251996  0.032436 -0.024006  ...          -0.040927             0.018214\n",
              "251997  0.006140  0.075832  ...          -0.040927             0.018214\n",
              "251998 -0.039570 -0.024006  ...          -0.040927            -0.011920\n",
              "251999 -0.039570 -0.024006  ...           0.063024             0.017990\n",
              "252000  0.032436 -0.058147  ...          -0.040927             0.018214\n",
              "\n",
              "[252000 rows x 11 columns]"
            ]
          },
          "metadata": {
            "tags": []
          },
          "execution_count": 121
        }
      ]
    },
    {
      "cell_type": "code",
      "metadata": {
        "id": "bM-DWfToY6KS"
      },
      "source": [
        "# output_woe_bins = clf.woe_bins #future transformation\n",
        "# output_mono_bins = clf.mono_custom_binning  #future transformation\n",
        "# clf = WOE(woe_bins=output_woe_bins, mono_custom_binning=output_mono_bins) #output_bins was created earlier\n",
        "# out_X = clf.transform(X)"
      ],
      "execution_count": null,
      "outputs": []
    },
    {
      "cell_type": "code",
      "metadata": {
        "colab": {
          "base_uri": "https://localhost:8080/",
          "height": 1000
        },
        "id": "cB7osdiVZFQf",
        "outputId": "7d7d01b8-2a95-4130-bc64-7ada4dcea8fc"
      },
      "source": [
        "woe_df = clf.woe_df\n",
        "from xverse.graph import BarCharts\n",
        "clf = BarCharts(bar_type='v')\n",
        "clf.plot(woe_df)"
      ],
      "execution_count": null,
      "outputs": [
        {
          "output_type": "execute_result",
          "data": {
            "text/plain": [
              "BarCharts(bar_color='#058caa', bar_type='v', exclude_features=None,\n",
              "          feature_names='all', fig_size=(8, 6), num_color='#ed8549',\n",
              "          plot_metric='mean')"
            ]
          },
          "metadata": {
            "tags": []
          },
          "execution_count": 122
        },
        {
          "output_type": "display_data",
          "data": {
            "image/png": "[encoded data removed]",
            "text/plain": [
              "<Figure size 576x432 with 1 Axes>"
            ]
          },
          "metadata": {
            "tags": [],
            "needs_background": "light"
          }
        },
        {
          "output_type": "display_data",
          "data": {
            "image/png": "[encoded data removed]",
            "text/plain": [
              "<Figure size 576x432 with 1 Axes>"
            ]
          },
          "metadata": {
            "tags": [],
            "needs_background": "light"
          }
        },
        {
          "output_type": "display_data",
          "data": {
            "image/png": "[encoded data removed]",
            "text/plain": [
              "<Figure size 576x432 with 1 Axes>"
            ]
          },
          "metadata": {
            "tags": [],
            "needs_background": "light"
          }
        },
        {
          "output_type": "display_data",
          "data": {
            "image/png": "[encoded data removed]",
            "text/plain": [
              "<Figure size 576x432 with 1 Axes>"
            ]
          },
          "metadata": {
            "tags": [],
            "needs_background": "light"
          }
        },
        {
          "output_type": "display_data",
          "data": {
            "image/png": "[encoded data removed]",
            "text/plain": [
              "<Figure size 576x432 with 1 Axes>"
            ]
          },
          "metadata": {
            "tags": [],
            "needs_background": "light"
          }
        },
        {
          "output_type": "display_data",
          "data": {
            "image/png": "[encoded data removed]",
            "text/plain": [
              "<Figure size 576x432 with 1 Axes>"
            ]
          },
          "metadata": {
            "tags": [],
            "needs_background": "light"
          }
        },
        {
          "output_type": "display_data",
          "data": {
            "image/png": "[encoded data removed]",
            "text/plain": [
              "<Figure size 576x432 with 1 Axes>"
            ]
          },
          "metadata": {
            "tags": [],
            "needs_background": "light"
          }
        },
        {
          "output_type": "display_data",
          "data": {
            "image/png": "[encoded data removed]",
            "text/plain": [
              "<Figure size 576x432 with 1 Axes>"
            ]
          },
          "metadata": {
            "tags": [],
            "needs_background": "light"
          }
        },
        {
          "output_type": "display_data",
          "data": {
            "image/png": "[encoded data removed]",
            "text/plain": [
              "<Figure size 576x432 with 1 Axes>"
            ]
          },
          "metadata": {
            "tags": [],
            "needs_background": "light"
          }
        },
        {
          "output_type": "display_data",
          "data": {
            "image/png": "[encoded data removed]",
            "text/plain": [
              "<Figure size 576x432 with 1 Axes>"
            ]
          },
          "metadata": {
            "tags": [],
            "needs_background": "light"
          }
        },
        {
          "output_type": "display_data",
          "data": {
            "image/png": "[encoded data removed]",
            "text/plain": [
              "<Figure size 576x432 with 1 Axes>"
            ]
          },
          "metadata": {
            "tags": [],
            "needs_background": "light"
          }
        }
      ]
    },
    {
      "cell_type": "code",
      "metadata": {
        "colab": {
          "base_uri": "https://localhost:8080/"
        },
        "id": "W9xYLgwgZJV1",
        "outputId": "835619c3-1102-41f5-e270-7ae1d4ef60d5"
      },
      "source": [
        "from xverse.ensemble import VotingSelector\n",
        "clf = VotingSelector()\n",
        "clf.fit(X, y)"
      ],
      "execution_count": null,
      "outputs": [
        {
          "output_type": "execute_result",
          "data": {
            "text/plain": [
              "VotingSelector(exclude_features=None, feature_names='all',\n",
              "               handle_category='woe', minimum_votes=0, no_of_features=5,\n",
              "               numerical_missing_values='median',\n",
              "               selection_techniques=['WOE', 'RF', 'RFE', 'ETC', 'CS', 'L_ONE'])"
            ]
          },
          "metadata": {
            "tags": []
          },
          "execution_count": 123
        }
      ]
    },
    {
      "cell_type": "code",
      "metadata": {
        "colab": {
          "base_uri": "https://localhost:8080/",
          "height": 370
        },
        "id": "TnOxMWTaZtld",
        "outputId": "24138d61-5bc8-4781-d41c-183dc3157b37"
      },
      "source": [
        "clf.feature_importances_"
      ],
      "execution_count": null,
      "outputs": [
        {
          "output_type": "execute_result",
          "data": {
            "text/html": [
              "<div>\n",
              "<style scoped>\n",
              "    .dataframe tbody tr th:only-of-type {\n",
              "        vertical-align: middle;\n",
              "    }\n",
              "\n",
              "    .dataframe tbody tr th {\n",
              "        vertical-align: top;\n",
              "    }\n",
              "\n",
              "    .dataframe thead th {\n",
              "        text-align: right;\n",
              "    }\n",
              "</style>\n",
              "<table border=\"1\" class=\"dataframe\">\n",
              "  <thead>\n",
              "    <tr style=\"text-align: right;\">\n",
              "      <th></th>\n",
              "      <th>Variable_Name</th>\n",
              "      <th>Information_Value</th>\n",
              "      <th>Random_Forest</th>\n",
              "      <th>Recursive_Feature_Elimination</th>\n",
              "      <th>Extra_Trees</th>\n",
              "      <th>Chi_Square</th>\n",
              "      <th>L_One</th>\n",
              "    </tr>\n",
              "  </thead>\n",
              "  <tbody>\n",
              "    <tr>\n",
              "      <th>0</th>\n",
              "      <td>city</td>\n",
              "      <td>0.199112</td>\n",
              "      <td>0.170382</td>\n",
              "      <td>0.000000e+00</td>\n",
              "      <td>0.153012</td>\n",
              "      <td>236.310486</td>\n",
              "      <td>2.001003e-01</td>\n",
              "    </tr>\n",
              "    <tr>\n",
              "      <th>1</th>\n",
              "      <td>state</td>\n",
              "      <td>0.027023</td>\n",
              "      <td>0.093621</td>\n",
              "      <td>0.000000e+00</td>\n",
              "      <td>0.113312</td>\n",
              "      <td>10.807366</td>\n",
              "      <td>4.087347e-03</td>\n",
              "    </tr>\n",
              "    <tr>\n",
              "      <th>2</th>\n",
              "      <td>profession</td>\n",
              "      <td>0.022923</td>\n",
              "      <td>0.135403</td>\n",
              "      <td>0.000000e+00</td>\n",
              "      <td>0.129429</td>\n",
              "      <td>40.046121</td>\n",
              "      <td>1.875612e-01</td>\n",
              "    </tr>\n",
              "    <tr>\n",
              "      <th>3</th>\n",
              "      <td>experience</td>\n",
              "      <td>0.008539</td>\n",
              "      <td>0.090050</td>\n",
              "      <td>-2.852066e-12</td>\n",
              "      <td>0.104433</td>\n",
              "      <td>53.653967</td>\n",
              "      <td>-2.146386e-03</td>\n",
              "    </tr>\n",
              "    <tr>\n",
              "      <th>4</th>\n",
              "      <td>house_ownership</td>\n",
              "      <td>0.007549</td>\n",
              "      <td>0.011769</td>\n",
              "      <td>0.000000e+00</td>\n",
              "      <td>0.011217</td>\n",
              "      <td>11.829118</td>\n",
              "      <td>1.618980e-01</td>\n",
              "    </tr>\n",
              "    <tr>\n",
              "      <th>5</th>\n",
              "      <td>car_ownership</td>\n",
              "      <td>0.005495</td>\n",
              "      <td>0.019016</td>\n",
              "      <td>0.000000e+00</td>\n",
              "      <td>0.014595</td>\n",
              "      <td>43.906031</td>\n",
              "      <td>1.535414e-01</td>\n",
              "    </tr>\n",
              "    <tr>\n",
              "      <th>6</th>\n",
              "      <td>married</td>\n",
              "      <td>0.004421</td>\n",
              "      <td>0.011937</td>\n",
              "      <td>0.000000e+00</td>\n",
              "      <td>0.010821</td>\n",
              "      <td>11.445289</td>\n",
              "      <td>1.624956e-01</td>\n",
              "    </tr>\n",
              "    <tr>\n",
              "      <th>7</th>\n",
              "      <td>age</td>\n",
              "      <td>0.003255</td>\n",
              "      <td>0.144870</td>\n",
              "      <td>-1.359563e-11</td>\n",
              "      <td>0.137797</td>\n",
              "      <td>20.782509</td>\n",
              "      <td>-1.489966e-03</td>\n",
              "    </tr>\n",
              "    <tr>\n",
              "      <th>8</th>\n",
              "      <td>current_job_years</td>\n",
              "      <td>0.002361</td>\n",
              "      <td>0.079866</td>\n",
              "      <td>-1.729688e-12</td>\n",
              "      <td>0.098503</td>\n",
              "      <td>10.849088</td>\n",
              "      <td>-2.948539e-03</td>\n",
              "    </tr>\n",
              "    <tr>\n",
              "      <th>9</th>\n",
              "      <td>income</td>\n",
              "      <td>0.000882</td>\n",
              "      <td>0.180390</td>\n",
              "      <td>-3.307271e-07</td>\n",
              "      <td>0.137917</td>\n",
              "      <td>0.400449</td>\n",
              "      <td>-3.900977e-09</td>\n",
              "    </tr>\n",
              "    <tr>\n",
              "      <th>10</th>\n",
              "      <td>current_house_years</td>\n",
              "      <td>0.000225</td>\n",
              "      <td>0.062695</td>\n",
              "      <td>-3.180984e-12</td>\n",
              "      <td>0.088963</td>\n",
              "      <td>1.181504</td>\n",
              "      <td>-2.301252e-02</td>\n",
              "    </tr>\n",
              "  </tbody>\n",
              "</table>\n",
              "</div>"
            ],
            "text/plain": [
              "          Variable_Name  Information_Value  ...  Chi_Square         L_One\n",
              "0                  city           0.199112  ...  236.310486  2.001003e-01\n",
              "1                 state           0.027023  ...   10.807366  4.087347e-03\n",
              "2            profession           0.022923  ...   40.046121  1.875612e-01\n",
              "3            experience           0.008539  ...   53.653967 -2.146386e-03\n",
              "4       house_ownership           0.007549  ...   11.829118  1.618980e-01\n",
              "5         car_ownership           0.005495  ...   43.906031  1.535414e-01\n",
              "6               married           0.004421  ...   11.445289  1.624956e-01\n",
              "7                   age           0.003255  ...   20.782509 -1.489966e-03\n",
              "8     current_job_years           0.002361  ...   10.849088 -2.948539e-03\n",
              "9                income           0.000882  ...    0.400449 -3.900977e-09\n",
              "10  current_house_years           0.000225  ...    1.181504 -2.301252e-02\n",
              "\n",
              "[11 rows x 7 columns]"
            ]
          },
          "metadata": {
            "tags": []
          },
          "execution_count": 124
        }
      ]
    },
    {
      "cell_type": "code",
      "metadata": {
        "colab": {
          "base_uri": "https://localhost:8080/",
          "height": 370
        },
        "id": "gVACVfS_aHkR",
        "outputId": "fb4a15bb-ef97-4bf2-aa4d-033ea0e3b216"
      },
      "source": [
        "clf.feature_votes_"
      ],
      "execution_count": null,
      "outputs": [
        {
          "output_type": "execute_result",
          "data": {
            "text/html": [
              "<div>\n",
              "<style scoped>\n",
              "    .dataframe tbody tr th:only-of-type {\n",
              "        vertical-align: middle;\n",
              "    }\n",
              "\n",
              "    .dataframe tbody tr th {\n",
              "        vertical-align: top;\n",
              "    }\n",
              "\n",
              "    .dataframe thead th {\n",
              "        text-align: right;\n",
              "    }\n",
              "</style>\n",
              "<table border=\"1\" class=\"dataframe\">\n",
              "  <thead>\n",
              "    <tr style=\"text-align: right;\">\n",
              "      <th></th>\n",
              "      <th>Variable_Name</th>\n",
              "      <th>Information_Value</th>\n",
              "      <th>Random_Forest</th>\n",
              "      <th>Recursive_Feature_Elimination</th>\n",
              "      <th>Extra_Trees</th>\n",
              "      <th>Chi_Square</th>\n",
              "      <th>L_One</th>\n",
              "      <th>Votes</th>\n",
              "    </tr>\n",
              "  </thead>\n",
              "  <tbody>\n",
              "    <tr>\n",
              "      <th>0</th>\n",
              "      <td>city</td>\n",
              "      <td>1</td>\n",
              "      <td>1</td>\n",
              "      <td>0</td>\n",
              "      <td>1</td>\n",
              "      <td>1</td>\n",
              "      <td>1</td>\n",
              "      <td>5</td>\n",
              "    </tr>\n",
              "    <tr>\n",
              "      <th>2</th>\n",
              "      <td>profession</td>\n",
              "      <td>1</td>\n",
              "      <td>1</td>\n",
              "      <td>0</td>\n",
              "      <td>1</td>\n",
              "      <td>1</td>\n",
              "      <td>1</td>\n",
              "      <td>5</td>\n",
              "    </tr>\n",
              "    <tr>\n",
              "      <th>7</th>\n",
              "      <td>age</td>\n",
              "      <td>0</td>\n",
              "      <td>1</td>\n",
              "      <td>1</td>\n",
              "      <td>1</td>\n",
              "      <td>1</td>\n",
              "      <td>0</td>\n",
              "      <td>4</td>\n",
              "    </tr>\n",
              "    <tr>\n",
              "      <th>1</th>\n",
              "      <td>state</td>\n",
              "      <td>1</td>\n",
              "      <td>1</td>\n",
              "      <td>0</td>\n",
              "      <td>1</td>\n",
              "      <td>0</td>\n",
              "      <td>0</td>\n",
              "      <td>3</td>\n",
              "    </tr>\n",
              "    <tr>\n",
              "      <th>3</th>\n",
              "      <td>experience</td>\n",
              "      <td>1</td>\n",
              "      <td>0</td>\n",
              "      <td>1</td>\n",
              "      <td>0</td>\n",
              "      <td>1</td>\n",
              "      <td>0</td>\n",
              "      <td>3</td>\n",
              "    </tr>\n",
              "    <tr>\n",
              "      <th>9</th>\n",
              "      <td>income</td>\n",
              "      <td>0</td>\n",
              "      <td>1</td>\n",
              "      <td>1</td>\n",
              "      <td>1</td>\n",
              "      <td>0</td>\n",
              "      <td>0</td>\n",
              "      <td>3</td>\n",
              "    </tr>\n",
              "    <tr>\n",
              "      <th>4</th>\n",
              "      <td>house_ownership</td>\n",
              "      <td>1</td>\n",
              "      <td>0</td>\n",
              "      <td>0</td>\n",
              "      <td>0</td>\n",
              "      <td>0</td>\n",
              "      <td>1</td>\n",
              "      <td>2</td>\n",
              "    </tr>\n",
              "    <tr>\n",
              "      <th>5</th>\n",
              "      <td>car_ownership</td>\n",
              "      <td>0</td>\n",
              "      <td>0</td>\n",
              "      <td>0</td>\n",
              "      <td>0</td>\n",
              "      <td>1</td>\n",
              "      <td>1</td>\n",
              "      <td>2</td>\n",
              "    </tr>\n",
              "    <tr>\n",
              "      <th>6</th>\n",
              "      <td>married</td>\n",
              "      <td>0</td>\n",
              "      <td>0</td>\n",
              "      <td>0</td>\n",
              "      <td>0</td>\n",
              "      <td>0</td>\n",
              "      <td>1</td>\n",
              "      <td>1</td>\n",
              "    </tr>\n",
              "    <tr>\n",
              "      <th>8</th>\n",
              "      <td>current_job_years</td>\n",
              "      <td>0</td>\n",
              "      <td>0</td>\n",
              "      <td>1</td>\n",
              "      <td>0</td>\n",
              "      <td>0</td>\n",
              "      <td>0</td>\n",
              "      <td>1</td>\n",
              "    </tr>\n",
              "    <tr>\n",
              "      <th>10</th>\n",
              "      <td>current_house_years</td>\n",
              "      <td>0</td>\n",
              "      <td>0</td>\n",
              "      <td>1</td>\n",
              "      <td>0</td>\n",
              "      <td>0</td>\n",
              "      <td>0</td>\n",
              "      <td>1</td>\n",
              "    </tr>\n",
              "  </tbody>\n",
              "</table>\n",
              "</div>"
            ],
            "text/plain": [
              "          Variable_Name  Information_Value  ...  L_One  Votes\n",
              "0                  city                  1  ...      1      5\n",
              "2            profession                  1  ...      1      5\n",
              "7                   age                  0  ...      0      4\n",
              "1                 state                  1  ...      0      3\n",
              "3            experience                  1  ...      0      3\n",
              "9                income                  0  ...      0      3\n",
              "4       house_ownership                  1  ...      1      2\n",
              "5         car_ownership                  0  ...      1      2\n",
              "6               married                  0  ...      1      1\n",
              "8     current_job_years                  0  ...      0      1\n",
              "10  current_house_years                  0  ...      0      1\n",
              "\n",
              "[11 rows x 8 columns]"
            ]
          },
          "metadata": {
            "tags": []
          },
          "execution_count": 125
        }
      ]
    },
    {
      "cell_type": "code",
      "metadata": {
        "id": "fB13upgHawQJ"
      },
      "source": [
        ""
      ],
      "execution_count": null,
      "outputs": []
    },
    {
      "cell_type": "markdown",
      "metadata": {
        "id": "dpeWJxtHfpkQ"
      },
      "source": [
        "# New Prediction"
      ]
    },
    {
      "cell_type": "code",
      "metadata": {
        "colab": {
          "base_uri": "https://localhost:8080/"
        },
        "id": "IDebKkZAfrGK",
        "outputId": "d5c6c342-3d56-4651-97c1-644ac73ed92b"
      },
      "source": [
        "train_df = pd.read_csv(\"Training Data.csv\",index_col=0)\n",
        "train_df[\"house_ownership\"]=pd.factorize(train_df.house_ownership)[0]\n",
        "train_df[\"city\"]=pd.factorize(train_df.city)[0]\n",
        "train_df[\"state\"]=pd.factorize(train_df.state)[0]\n",
        "train_df[\"married\"]=pd.factorize(train_df.married)[0]\n",
        "train_df[\"car_ownership\"]=pd.factorize(train_df.car_ownership)[0]\n",
        "train_df[\"profession\"]=pd.factorize(train_df.profession)[0]\n",
        "X = train_df.drop(['risk_flag','current_house_years','current_job_years','married','car_ownership','house_ownership'], axis = 1)\n",
        "y = train_df['risk_flag']\n",
        "X_train, X_test, y_train, y_test = train_test_split(X, y, test_size = 0.2, random_state = 42, stratify = y)\n",
        "X_train, X_test = X_train.copy(), X_test.copy()\n",
        "X_train_scaled = pd.DataFrame(RobustScaler().fit_transform(X_train), columns=X_train.columns)\n",
        "X_test_scaled = pd.DataFrame(RobustScaler().fit_transform(X_test), columns=X_test.columns)\n",
        "oversample = SMOTE()\n",
        "X_train_over, y_train_over = oversample.fit_resample(X_train_scaled, y_train)\n",
        "# print(Counter(y_train_over))\n",
        "oversample = SMOTE()\n",
        "X_test_over, y_test_over = oversample.fit_resample(X_test_scaled, y_test)\n",
        "# print(Counter(y_test_over))\n",
        "from sklearn.decomposition import PCA\n",
        "pca = PCA(.95)\n",
        "pca_a_train = pca.fit(X_train_over, y_train_over)\n",
        "# print(pca_a_train.n_components_)\n",
        "# plt.plot(np.cumsum(pca_a_train.explained_variance_ratio_))\n",
        "# plt.show()\n",
        "\n",
        "X_train_over_pca = pd.DataFrame(pca_a_train.transform(X_train_over))\n",
        "n_pcs= pca_a_train.components_.shape[0]\n",
        "most_important = [np.abs(pca_a_train.components_[i]).argmax() for i in range(n_pcs)]\n",
        "\n",
        "initial_feature_names = ['income', 'age', 'experience','house_ownership','car_ownership','city','state','current_job_years','current_house_years']\n",
        "# most_important_names = [initial_feature_names[i] for i in range(n_pcs)]\n",
        "most_important_names = [initial_feature_names[most_important[i]] for i in range(n_pcs)]\n",
        "\n",
        "\n",
        "# using LIST COMPREHENSION HERE AGAIN\n",
        "dic = {'PC{}'.format(i+1): most_important_names[i] for i in range(n_pcs)}\n",
        "\n",
        "# build the dataframe\n",
        "df = pd.DataFrame(sorted(dic.items()))\n",
        "# print(pd.DataFrame(pca.components_,columns=pca_a_train.transform(X_train_over).columns,index = ['PC-1','PC-2','PC-3','PC-4','PC-5']))\n",
        "# X_train_over_pca.head()\n",
        "pca = PCA(.95)\n",
        "pca_a_test = pca.fit(X_test_over, y_test_over)\n",
        "# print(pca_a_test.n_components_)\n",
        "# plt.plot(np.cumsum(pca_a_test.explained_variance_ratio_))\n",
        "# plt.show()\n",
        "X_test_over_pca = pd.DataFrame(pca_a_test.transform(X_test_over))\n",
        "# X_test_over_pca.head()"
      ],
      "execution_count": null,
      "outputs": [
        {
          "output_type": "stream",
          "text": [
            "/usr/local/lib/python3.7/dist-packages/sklearn/utils/deprecation.py:87: FutureWarning:\n",
            "\n",
            "Function safe_indexing is deprecated; safe_indexing is deprecated in version 0.22 and will be removed in version 0.24.\n",
            "\n",
            "/usr/local/lib/python3.7/dist-packages/sklearn/utils/deprecation.py:87: FutureWarning:\n",
            "\n",
            "Function safe_indexing is deprecated; safe_indexing is deprecated in version 0.22 and will be removed in version 0.24.\n",
            "\n"
          ],
          "name": "stderr"
        }
      ]
    },
    {
      "cell_type": "code",
      "metadata": {
        "colab": {
          "base_uri": "https://localhost:8080/"
        },
        "id": "874krApWhaId",
        "outputId": "108ca7b6-1d77-4d86-ba71-0fde3b7d122c"
      },
      "source": [
        "from sklearn.model_selection import cross_val_score\n",
        "train_cross_scores = []\n",
        "test_cross_scores = []\n",
        "classifier = RandomForestClassifier()\n",
        "classifier.fit(X_train_over_pca, y_train_over)\n",
        "train_score = cross_val_score(classifier, X_train_over_pca, y_train_over, cv=5)\n",
        "train_cross_scores.append(round(train_score.mean(),2))\n",
        "test_score = cross_val_score(classifier, X_test_over_pca, y_test_over, cv=5)\n",
        "test_cross_scores.append(round(test_score.mean(),2))\n",
        "\n",
        "print(train_cross_scores)\n",
        "print(test_cross_scores)"
      ],
      "execution_count": null,
      "outputs": [
        {
          "output_type": "stream",
          "text": [
            "[0.93]\n",
            "[0.94]\n"
          ],
          "name": "stdout"
        }
      ]
    },
    {
      "cell_type": "code",
      "metadata": {
        "colab": {
          "base_uri": "https://localhost:8080/",
          "height": 283
        },
        "id": "xLAKlASnhX5x",
        "outputId": "c0a3c20f-1aad-4b77-8904-c9c93db4cd3f"
      },
      "source": [
        "from sklearn.model_selection import cross_val_predict\n",
        "from sklearn.metrics import roc_curve\n",
        "from sklearn.metrics import roc_auc_score\n",
        "rf = RandomForestClassifier()\n",
        "rf.fit(X_train_over_pca, y_train_over)\n",
        "rf_pred = cross_val_predict(rf, X_test_over_pca, y_test_over, cv=5)\n",
        "print(roc_auc_score(y_test_over, rf_pred))\n",
        "#Plot the ROC Curve\n",
        "fpr, tpr, _ = roc_curve(y_test_over, rf_pred)\n",
        "plt.plot(fpr, tpr)\n",
        "plt.show()"
      ],
      "execution_count": null,
      "outputs": [
        {
          "output_type": "stream",
          "text": [
            "0.9345376801429832\n"
          ],
          "name": "stdout"
        },
        {
          "output_type": "display_data",
          "data": {
            "image/png": "[encoded data removed]",
            "text/plain": [
              "<Figure size 432x288 with 1 Axes>"
            ]
          },
          "metadata": {
            "tags": [],
            "needs_background": "light"
          }
        }
      ]
    },
    {
      "cell_type": "code",
      "metadata": {
        "id": "zdp7D01yibv5"
      },
      "source": [
        "from sklearn.naive_bayes import GaussianNB\n",
        "from sklearn.linear_model import LogisticRegression\n",
        "from sklearn.svm import SVC"
      ],
      "execution_count": null,
      "outputs": []
    },
    {
      "cell_type": "code",
      "metadata": {
        "id": "jkHTRSFqsWb_"
      },
      "source": [
        "from sklearn.model_selection import cross_val_predict\n",
        "from sklearn.metrics import roc_curve\n",
        "from sklearn.metrics import roc_auc_score\n",
        "lg = SVC(gamma='auto',kernel='rbf')\n",
        "lg.fit(X_train_over_pca, y_train_over)\n",
        "lg_pred = cross_val_predict(lg, X_test_over_pca, y_test_over, cv=5)\n",
        "print(roc_auc_score(y_test_over, lg_pred))\n",
        "#Plot the ROC Curve\n",
        "fpr, tpr, _ = roc_curve(y_test_over, lg_pred)\n",
        "plt.plot(fpr, tpr)\n",
        "plt.show()"
      ],
      "execution_count": null,
      "outputs": []
    },
    {
      "cell_type": "code",
      "metadata": {
        "id": "k5TOybtGtMKS"
      },
      "source": [
        "from sklearn.model_selection import RandomizedSearchCV\n",
        "n_estimators = [int(x) for x in np.linspace(start = 100, stop = 700, num = 50)]\n",
        "max_features = ['auto', 'log2']  # Number of features to consider at every split\n",
        "max_depth = [int(x) for x in np.linspace(10, 110, num = 11)]   # Maximum number of levels in tree\n",
        "max_depth.append(None)\n",
        "min_samples_split = [2, 5, 10]  # Minimum number of samples required to split a node\n",
        "min_samples_leaf = [1, 4, 10]    # Minimum number of samples required at each leaf node\n",
        "bootstrap = [True]       # Method of selecting samples for training each tree\n",
        "random_grid = {'n_estimators': n_estimators,\n",
        "               'max_features': max_features,\n",
        "               'max_depth': max_depth,\n",
        "               'min_samples_split': min_samples_split,\n",
        "               'min_samples_leaf': min_samples_leaf,\n",
        "               'max_leaf_nodes': [None] + list(np.linspace(10, 50, 500).astype(int)),\n",
        "               'bootstrap': bootstrap}"
      ],
      "execution_count": null,
      "outputs": []
    },
    {
      "cell_type": "code",
      "metadata": {
        "id": "JOKsFOwi1f18"
      },
      "source": [
        "seed = 50\n",
        "rf = RandomForestClassifier(oob_score=True)\n",
        "# Create random search model and fit the data\n",
        "rf_random = RandomizedSearchCV(\n",
        "                        estimator = rf,\n",
        "                        param_distributions = random_grid,\n",
        "                        n_iter = 100, cv = 5,\n",
        "                        verbose=2, random_state=seed, \n",
        "                        scoring='roc_auc',n_jobs=-1)\n",
        "rf_random.fit(X_train_over_pca, y_train_over)\n",
        "rf_random.best_params_"
      ],
      "execution_count": null,
      "outputs": []
    },
    {
      "cell_type": "code",
      "metadata": {
        "colab": {
          "base_uri": "https://localhost:8080/"
        },
        "id": "BCV4aS6t172g",
        "outputId": "d4672d71-1f79-441a-d7ab-f605890e7049"
      },
      "source": [
        "train_df = pd.read_csv(\"Training Data.csv\",index_col=0)\n",
        "train_df[\"house_ownership\"]=pd.factorize(train_df.house_ownership)[0]\n",
        "train_df[\"city\"]=pd.factorize(train_df.city)[0]\n",
        "train_df[\"state\"]=pd.factorize(train_df.state)[0]\n",
        "train_df[\"married\"]=pd.factorize(train_df.married)[0]\n",
        "train_df[\"car_ownership\"]=pd.factorize(train_df.car_ownership)[0]\n",
        "train_df[\"profession\"]=pd.factorize(train_df.profession)[0]\n",
        "X = train_df.drop(['risk_flag'], axis = 1)\n",
        "y = train_df['risk_flag']\n",
        "X_train, X_test, y_train, y_test = train_test_split(X, y, test_size = 0.2, random_state = 42, stratify = y)\n",
        "X_train, X_test = X_train.copy(), X_test.copy()\n",
        "X_train_scaled = pd.DataFrame(RobustScaler().fit_transform(X_train), columns=X_train.columns)\n",
        "X_test_scaled = pd.DataFrame(RobustScaler().fit_transform(X_test), columns=X_test.columns)\n",
        "oversample = SMOTE()\n",
        "X_train_over, y_train_over = oversample.fit_resample(X_train_scaled, y_train)\n",
        "# print(Counter(y_train_over))\n",
        "oversample = SMOTE()\n",
        "X_test_over, y_test_over = oversample.fit_resample(X_test_scaled, y_test)"
      ],
      "execution_count": null,
      "outputs": [
        {
          "output_type": "stream",
          "text": [
            "/usr/local/lib/python3.7/dist-packages/sklearn/utils/deprecation.py:87: FutureWarning:\n",
            "\n",
            "Function safe_indexing is deprecated; safe_indexing is deprecated in version 0.22 and will be removed in version 0.24.\n",
            "\n",
            "/usr/local/lib/python3.7/dist-packages/sklearn/utils/deprecation.py:87: FutureWarning:\n",
            "\n",
            "Function safe_indexing is deprecated; safe_indexing is deprecated in version 0.22 and will be removed in version 0.24.\n",
            "\n"
          ],
          "name": "stderr"
        }
      ]
    },
    {
      "cell_type": "code",
      "metadata": {
        "id": "G7DEUV7pH2mO"
      },
      "source": [
        "X_train_new = pd.DataFrame(X_train_over,columns=['income', 'age', 'experience','married','house_ownership','car_ownership','profession','city','state','current_job_years','current_house_years'])\n",
        "y_train_new = pd.DataFrame(y_train_over,columns=['risk_flag'])"
      ],
      "execution_count": null,
      "outputs": []
    },
    {
      "cell_type": "code",
      "metadata": {
        "colab": {
          "base_uri": "https://localhost:8080/"
        },
        "id": "F7mcI2zSGLnj",
        "outputId": "81afdf12-bde1-470a-8656-9736bdefaa63"
      },
      "source": [
        "from xverse.ensemble import VotingSelector\n",
        "clf = VotingSelector()\n",
        "clf.fit(X_train_scaled, y_train)"
      ],
      "execution_count": null,
      "outputs": [
        {
          "output_type": "execute_result",
          "data": {
            "text/plain": [
              "VotingSelector(exclude_features=None, feature_names='all',\n",
              "               handle_category='woe', minimum_votes=0, no_of_features=5,\n",
              "               numerical_missing_values='median',\n",
              "               selection_techniques=['WOE', 'RF', 'RFE', 'ETC', 'CS', 'L_ONE'])"
            ]
          },
          "metadata": {
            "tags": []
          },
          "execution_count": 26
        }
      ]
    },
    {
      "cell_type": "code",
      "metadata": {
        "colab": {
          "base_uri": "https://localhost:8080/",
          "height": 370
        },
        "id": "00mObe3iGKV7",
        "outputId": "dc9b7e04-37f9-4a58-a80a-b18683fd7d57"
      },
      "source": [
        "clf.feature_votes_"
      ],
      "execution_count": null,
      "outputs": [
        {
          "output_type": "execute_result",
          "data": {
            "text/html": [
              "<div>\n",
              "<style scoped>\n",
              "    .dataframe tbody tr th:only-of-type {\n",
              "        vertical-align: middle;\n",
              "    }\n",
              "\n",
              "    .dataframe tbody tr th {\n",
              "        vertical-align: top;\n",
              "    }\n",
              "\n",
              "    .dataframe thead th {\n",
              "        text-align: right;\n",
              "    }\n",
              "</style>\n",
              "<table border=\"1\" class=\"dataframe\">\n",
              "  <thead>\n",
              "    <tr style=\"text-align: right;\">\n",
              "      <th></th>\n",
              "      <th>Variable_Name</th>\n",
              "      <th>Information_Value</th>\n",
              "      <th>Random_Forest</th>\n",
              "      <th>Recursive_Feature_Elimination</th>\n",
              "      <th>Extra_Trees</th>\n",
              "      <th>Chi_Square</th>\n",
              "      <th>L_One</th>\n",
              "      <th>Votes</th>\n",
              "    </tr>\n",
              "  </thead>\n",
              "  <tbody>\n",
              "    <tr>\n",
              "      <th>5</th>\n",
              "      <td>age</td>\n",
              "      <td>0</td>\n",
              "      <td>1</td>\n",
              "      <td>1</td>\n",
              "      <td>1</td>\n",
              "      <td>1</td>\n",
              "      <td>1</td>\n",
              "      <td>5</td>\n",
              "    </tr>\n",
              "    <tr>\n",
              "      <th>2</th>\n",
              "      <td>car_ownership</td>\n",
              "      <td>1</td>\n",
              "      <td>0</td>\n",
              "      <td>1</td>\n",
              "      <td>0</td>\n",
              "      <td>1</td>\n",
              "      <td>1</td>\n",
              "      <td>4</td>\n",
              "    </tr>\n",
              "    <tr>\n",
              "      <th>0</th>\n",
              "      <td>city</td>\n",
              "      <td>1</td>\n",
              "      <td>1</td>\n",
              "      <td>0</td>\n",
              "      <td>1</td>\n",
              "      <td>0</td>\n",
              "      <td>0</td>\n",
              "      <td>3</td>\n",
              "    </tr>\n",
              "    <tr>\n",
              "      <th>1</th>\n",
              "      <td>income</td>\n",
              "      <td>1</td>\n",
              "      <td>1</td>\n",
              "      <td>0</td>\n",
              "      <td>1</td>\n",
              "      <td>0</td>\n",
              "      <td>0</td>\n",
              "      <td>3</td>\n",
              "    </tr>\n",
              "    <tr>\n",
              "      <th>4</th>\n",
              "      <td>state</td>\n",
              "      <td>1</td>\n",
              "      <td>1</td>\n",
              "      <td>0</td>\n",
              "      <td>1</td>\n",
              "      <td>0</td>\n",
              "      <td>0</td>\n",
              "      <td>3</td>\n",
              "    </tr>\n",
              "    <tr>\n",
              "      <th>7</th>\n",
              "      <td>house_ownership</td>\n",
              "      <td>0</td>\n",
              "      <td>0</td>\n",
              "      <td>1</td>\n",
              "      <td>0</td>\n",
              "      <td>1</td>\n",
              "      <td>1</td>\n",
              "      <td>3</td>\n",
              "    </tr>\n",
              "    <tr>\n",
              "      <th>8</th>\n",
              "      <td>experience</td>\n",
              "      <td>0</td>\n",
              "      <td>0</td>\n",
              "      <td>1</td>\n",
              "      <td>0</td>\n",
              "      <td>1</td>\n",
              "      <td>1</td>\n",
              "      <td>3</td>\n",
              "    </tr>\n",
              "    <tr>\n",
              "      <th>10</th>\n",
              "      <td>married</td>\n",
              "      <td>0</td>\n",
              "      <td>0</td>\n",
              "      <td>1</td>\n",
              "      <td>0</td>\n",
              "      <td>1</td>\n",
              "      <td>1</td>\n",
              "      <td>3</td>\n",
              "    </tr>\n",
              "    <tr>\n",
              "      <th>9</th>\n",
              "      <td>profession</td>\n",
              "      <td>0</td>\n",
              "      <td>1</td>\n",
              "      <td>0</td>\n",
              "      <td>1</td>\n",
              "      <td>0</td>\n",
              "      <td>0</td>\n",
              "      <td>2</td>\n",
              "    </tr>\n",
              "    <tr>\n",
              "      <th>3</th>\n",
              "      <td>current_house_years</td>\n",
              "      <td>1</td>\n",
              "      <td>0</td>\n",
              "      <td>0</td>\n",
              "      <td>0</td>\n",
              "      <td>0</td>\n",
              "      <td>0</td>\n",
              "      <td>1</td>\n",
              "    </tr>\n",
              "    <tr>\n",
              "      <th>6</th>\n",
              "      <td>current_job_years</td>\n",
              "      <td>0</td>\n",
              "      <td>0</td>\n",
              "      <td>0</td>\n",
              "      <td>0</td>\n",
              "      <td>0</td>\n",
              "      <td>0</td>\n",
              "      <td>0</td>\n",
              "    </tr>\n",
              "  </tbody>\n",
              "</table>\n",
              "</div>"
            ],
            "text/plain": [
              "          Variable_Name  Information_Value  ...  L_One  Votes\n",
              "5                   age                  0  ...      1      5\n",
              "2         car_ownership                  1  ...      1      4\n",
              "0                  city                  1  ...      0      3\n",
              "1                income                  1  ...      0      3\n",
              "4                 state                  1  ...      0      3\n",
              "7       house_ownership                  0  ...      1      3\n",
              "8            experience                  0  ...      1      3\n",
              "10              married                  0  ...      1      3\n",
              "9            profession                  0  ...      0      2\n",
              "3   current_house_years                  1  ...      0      1\n",
              "6     current_job_years                  0  ...      0      0\n",
              "\n",
              "[11 rows x 8 columns]"
            ]
          },
          "metadata": {
            "tags": []
          },
          "execution_count": 28
        }
      ]
    },
    {
      "cell_type": "code",
      "metadata": {
        "colab": {
          "base_uri": "https://localhost:8080/",
          "height": 336
        },
        "id": "4cgReA1sG-GK",
        "outputId": "328c2b9f-d186-4ba2-9f85-56b962ae3582"
      },
      "source": [
        "from sklearn.ensemble import ExtraTreesClassifier\n",
        "fi = ExtraTreesClassifier()\n",
        "fi_a = fi.fit(X_train_new, y_train_new)\n",
        "df_fi_a = pd.DataFrame(fi_a.feature_importances_,index=X_train_new.columns)\n",
        "df_fi_a.nlargest(10,df_fi_a.columns).plot(kind='barh')\n",
        "plt.show()"
      ],
      "execution_count": null,
      "outputs": [
        {
          "output_type": "stream",
          "text": [
            "/usr/local/lib/python3.7/dist-packages/ipykernel_launcher.py:3: DataConversionWarning:\n",
            "\n",
            "A column-vector y was passed when a 1d array was expected. Please change the shape of y to (n_samples,), for example using ravel().\n",
            "\n"
          ],
          "name": "stderr"
        },
        {
          "output_type": "display_data",
          "data": {
            "image/png": "[encoded data removed]",
            "text/plain": [
              "<Figure size 432x288 with 1 Axes>"
            ]
          },
          "metadata": {
            "tags": [],
            "needs_background": "light"
          }
        }
      ]
    },
    {
      "cell_type": "code",
      "metadata": {
        "id": "VKs-POfrOi0k"
      },
      "source": [
        "# to remove: married, car_ownership, house_ownership,current_house_years,current_job_years"
      ],
      "execution_count": null,
      "outputs": []
    },
    {
      "cell_type": "markdown",
      "metadata": {
        "id": "025HgozWKCR7"
      },
      "source": [
        "# Best Till Now"
      ]
    },
    {
      "cell_type": "code",
      "metadata": {
        "id": "hIqTqjIdsr1p"
      },
      "source": [
        "train_df = pd.read_csv(\"/content/drive/MyDrive/TrainingData.csv\",index_col=0)"
      ],
      "execution_count": null,
      "outputs": []
    },
    {
      "cell_type": "code",
      "metadata": {
        "colab": {
          "base_uri": "https://localhost:8080/"
        },
        "id": "whQ3UvJEKIWj",
        "outputId": "4a03561d-5a07-4f82-9fe7-2537a80ca82e"
      },
      "source": [
        "# %pip install wandb -q\n",
        "# import wandb"
      ],
      "execution_count": null,
      "outputs": [
        {
          "output_type": "stream",
          "text": [
            "\u001b[K     |████████████████████████████████| 2.1MB 9.0MB/s \n",
            "\u001b[K     |████████████████████████████████| 133kB 37.1MB/s \n",
            "\u001b[K     |████████████████████████████████| 102kB 11.6MB/s \n",
            "\u001b[K     |████████████████████████████████| 163kB 29.6MB/s \n",
            "\u001b[K     |████████████████████████████████| 71kB 10.0MB/s \n",
            "\u001b[?25h  Building wheel for subprocess32 (setup.py) ... \u001b[?25l\u001b[?25hdone\n",
            "  Building wheel for pathtools (setup.py) ... \u001b[?25l\u001b[?25hdone\n"
          ],
          "name": "stdout"
        }
      ]
    },
    {
      "cell_type": "code",
      "metadata": {
        "colab": {
          "base_uri": "https://localhost:8080/",
          "height": 354
        },
        "id": "XctwtP1PPrG8",
        "outputId": "689f587f-1aa4-483e-da31-d3a940d6431d"
      },
      "source": [
        "\n",
        "train_df[\"house_ownership\"]=pd.factorize(train_df.house_ownership)[0]\n",
        "train_df[\"city\"]=pd.factorize(train_df.city)[0]\n",
        "train_df[\"state\"]=pd.factorize(train_df.state)[0]\n",
        "train_df[\"married\"]=pd.factorize(train_df.married)[0]\n",
        "train_df[\"car_ownership\"]=pd.factorize(train_df.car_ownership)[0]\n",
        "train_df[\"profession\"]=pd.factorize(train_df.profession)[0]\n",
        "X = train_df.drop(['risk_flag','married', 'car_ownership', 'house_ownership','current_house_years','current_job_years'], axis = 1)\n",
        "y = train_df['risk_flag']\n",
        "X_train, X_test, y_train, y_test = train_test_split(X, y, test_size = 0.2, random_state = 42, stratify = y)\n",
        "X_train, X_test = X_train.copy(), X_test.copy()\n",
        "X_train_scaled = pd.DataFrame(RobustScaler().fit_transform(X_train), columns=X_train.columns)\n",
        "X_test_scaled = pd.DataFrame(RobustScaler().fit_transform(X_test), columns=X_test.columns)\n",
        "oversample = SMOTE(random_state=12, ratio = 1.0)\n",
        "X_train_over, y_train_over = oversample.fit_resample(X_train_scaled, y_train)\n",
        "\n",
        "oversample = SMOTE(random_state=12, ratio = 1.0)\n",
        "X_test_over, y_test_over = oversample.fit_resample(X_test_scaled, y_test)\n",
        "from sklearn.decomposition import PCA\n",
        "pca = PCA(.95)\n",
        "pca_a_train = pca.fit(X_train_over, y_train_over)\n",
        "\n",
        "\n",
        "X_train_over_pca = pd.DataFrame(pca_a_train.transform(X_train_over))\n",
        "n_pcs= pca_a_train.components_.shape[0]\n",
        "most_important = [np.abs(pca_a_train.components_[i]).argmax() for i in range(n_pcs)]\n",
        "\n",
        "initial_feature_names = ['income', 'age', 'experience','profession','city','state']\n",
        "\n",
        "most_important_names = [initial_feature_names[most_important[i]] for i in range(n_pcs)]\n",
        "\n",
        "\n",
        "\n",
        "dic = {'PC{}'.format(i+1): most_important_names[i] for i in range(n_pcs)}\n",
        "\n",
        "\n",
        "df = pd.DataFrame(sorted(dic.items()))\n",
        "\n",
        "X_train_over_pca.head()\n",
        "pca = PCA(.95)\n",
        "pca_a_test = pca.fit(X_test_over, y_test_over)\n",
        "print(pca_a_test.n_components_)\n",
        "\n",
        "X_test_over_pca = pd.DataFrame(pca_a_test.transform(X_test_over))\n",
        "X_test_over_pca.head()"
      ],
      "execution_count": null,
      "outputs": [
        {
          "output_type": "stream",
          "text": [
            "/usr/local/lib/python3.7/dist-packages/sklearn/utils/deprecation.py:87: FutureWarning:\n",
            "\n",
            "Function safe_indexing is deprecated; safe_indexing is deprecated in version 0.22 and will be removed in version 0.24.\n",
            "\n",
            "/usr/local/lib/python3.7/dist-packages/sklearn/utils/deprecation.py:87: FutureWarning:\n",
            "\n",
            "Function safe_indexing is deprecated; safe_indexing is deprecated in version 0.22 and will be removed in version 0.24.\n",
            "\n"
          ],
          "name": "stderr"
        },
        {
          "output_type": "stream",
          "text": [
            "6\n"
          ],
          "name": "stdout"
        },
        {
          "output_type": "execute_result",
          "data": {
            "text/html": [
              "<div>\n",
              "<style scoped>\n",
              "    .dataframe tbody tr th:only-of-type {\n",
              "        vertical-align: middle;\n",
              "    }\n",
              "\n",
              "    .dataframe tbody tr th {\n",
              "        vertical-align: top;\n",
              "    }\n",
              "\n",
              "    .dataframe thead th {\n",
              "        text-align: right;\n",
              "    }\n",
              "</style>\n",
              "<table border=\"1\" class=\"dataframe\">\n",
              "  <thead>\n",
              "    <tr style=\"text-align: right;\">\n",
              "      <th></th>\n",
              "      <th>0</th>\n",
              "      <th>1</th>\n",
              "      <th>2</th>\n",
              "      <th>3</th>\n",
              "      <th>4</th>\n",
              "      <th>5</th>\n",
              "    </tr>\n",
              "  </thead>\n",
              "  <tbody>\n",
              "    <tr>\n",
              "      <th>0</th>\n",
              "      <td>1.269264</td>\n",
              "      <td>0.482330</td>\n",
              "      <td>0.290659</td>\n",
              "      <td>-0.448211</td>\n",
              "      <td>-0.637905</td>\n",
              "      <td>0.183789</td>\n",
              "    </tr>\n",
              "    <tr>\n",
              "      <th>1</th>\n",
              "      <td>0.907627</td>\n",
              "      <td>0.819611</td>\n",
              "      <td>0.227195</td>\n",
              "      <td>-0.738870</td>\n",
              "      <td>0.057914</td>\n",
              "      <td>0.368347</td>\n",
              "    </tr>\n",
              "    <tr>\n",
              "      <th>2</th>\n",
              "      <td>0.282814</td>\n",
              "      <td>0.660907</td>\n",
              "      <td>-0.383633</td>\n",
              "      <td>0.116269</td>\n",
              "      <td>1.242041</td>\n",
              "      <td>0.398168</td>\n",
              "    </tr>\n",
              "    <tr>\n",
              "      <th>3</th>\n",
              "      <td>-0.211324</td>\n",
              "      <td>0.777724</td>\n",
              "      <td>-0.371409</td>\n",
              "      <td>-0.942922</td>\n",
              "      <td>-0.371980</td>\n",
              "      <td>0.248687</td>\n",
              "    </tr>\n",
              "    <tr>\n",
              "      <th>4</th>\n",
              "      <td>-0.393356</td>\n",
              "      <td>-0.588590</td>\n",
              "      <td>0.653431</td>\n",
              "      <td>-1.431778</td>\n",
              "      <td>-0.182085</td>\n",
              "      <td>-0.232784</td>\n",
              "    </tr>\n",
              "  </tbody>\n",
              "</table>\n",
              "</div>"
            ],
            "text/plain": [
              "          0         1         2         3         4         5\n",
              "0  1.269264  0.482330  0.290659 -0.448211 -0.637905  0.183789\n",
              "1  0.907627  0.819611  0.227195 -0.738870  0.057914  0.368347\n",
              "2  0.282814  0.660907 -0.383633  0.116269  1.242041  0.398168\n",
              "3 -0.211324  0.777724 -0.371409 -0.942922 -0.371980  0.248687\n",
              "4 -0.393356 -0.588590  0.653431 -1.431778 -0.182085 -0.232784"
            ]
          },
          "metadata": {
            "tags": []
          },
          "execution_count": 4
        }
      ]
    },
    {
      "cell_type": "code",
      "metadata": {
        "colab": {
          "base_uri": "https://localhost:8080/",
          "height": 428
        },
        "id": "5THgwPg6QNc4",
        "outputId": "e80399ee-9cd6-48bc-980d-aa3b9881ae88"
      },
      "source": [
        "X"
      ],
      "execution_count": null,
      "outputs": [
        {
          "output_type": "execute_result",
          "data": {
            "text/html": [
              "<div>\n",
              "<style scoped>\n",
              "    .dataframe tbody tr th:only-of-type {\n",
              "        vertical-align: middle;\n",
              "    }\n",
              "\n",
              "    .dataframe tbody tr th {\n",
              "        vertical-align: top;\n",
              "    }\n",
              "\n",
              "    .dataframe thead th {\n",
              "        text-align: right;\n",
              "    }\n",
              "</style>\n",
              "<table border=\"1\" class=\"dataframe\">\n",
              "  <thead>\n",
              "    <tr style=\"text-align: right;\">\n",
              "      <th></th>\n",
              "      <th>income</th>\n",
              "      <th>age</th>\n",
              "      <th>experience</th>\n",
              "      <th>profession</th>\n",
              "      <th>city</th>\n",
              "      <th>state</th>\n",
              "    </tr>\n",
              "    <tr>\n",
              "      <th>Id</th>\n",
              "      <th></th>\n",
              "      <th></th>\n",
              "      <th></th>\n",
              "      <th></th>\n",
              "      <th></th>\n",
              "      <th></th>\n",
              "    </tr>\n",
              "  </thead>\n",
              "  <tbody>\n",
              "    <tr>\n",
              "      <th>1</th>\n",
              "      <td>1303835</td>\n",
              "      <td>23</td>\n",
              "      <td>3</td>\n",
              "      <td>0</td>\n",
              "      <td>0</td>\n",
              "      <td>0</td>\n",
              "    </tr>\n",
              "    <tr>\n",
              "      <th>2</th>\n",
              "      <td>7574516</td>\n",
              "      <td>40</td>\n",
              "      <td>10</td>\n",
              "      <td>1</td>\n",
              "      <td>1</td>\n",
              "      <td>1</td>\n",
              "    </tr>\n",
              "    <tr>\n",
              "      <th>3</th>\n",
              "      <td>3991815</td>\n",
              "      <td>66</td>\n",
              "      <td>4</td>\n",
              "      <td>2</td>\n",
              "      <td>2</td>\n",
              "      <td>2</td>\n",
              "    </tr>\n",
              "    <tr>\n",
              "      <th>4</th>\n",
              "      <td>6256451</td>\n",
              "      <td>41</td>\n",
              "      <td>2</td>\n",
              "      <td>1</td>\n",
              "      <td>3</td>\n",
              "      <td>3</td>\n",
              "    </tr>\n",
              "    <tr>\n",
              "      <th>5</th>\n",
              "      <td>5768871</td>\n",
              "      <td>47</td>\n",
              "      <td>11</td>\n",
              "      <td>3</td>\n",
              "      <td>4</td>\n",
              "      <td>4</td>\n",
              "    </tr>\n",
              "    <tr>\n",
              "      <th>...</th>\n",
              "      <td>...</td>\n",
              "      <td>...</td>\n",
              "      <td>...</td>\n",
              "      <td>...</td>\n",
              "      <td>...</td>\n",
              "      <td>...</td>\n",
              "    </tr>\n",
              "    <tr>\n",
              "      <th>251996</th>\n",
              "      <td>8154883</td>\n",
              "      <td>43</td>\n",
              "      <td>13</td>\n",
              "      <td>46</td>\n",
              "      <td>220</td>\n",
              "      <td>10</td>\n",
              "    </tr>\n",
              "    <tr>\n",
              "      <th>251997</th>\n",
              "      <td>2843572</td>\n",
              "      <td>26</td>\n",
              "      <td>10</td>\n",
              "      <td>45</td>\n",
              "      <td>0</td>\n",
              "      <td>0</td>\n",
              "    </tr>\n",
              "    <tr>\n",
              "      <th>251998</th>\n",
              "      <td>4522448</td>\n",
              "      <td>46</td>\n",
              "      <td>7</td>\n",
              "      <td>16</td>\n",
              "      <td>106</td>\n",
              "      <td>1</td>\n",
              "    </tr>\n",
              "    <tr>\n",
              "      <th>251999</th>\n",
              "      <td>6507128</td>\n",
              "      <td>45</td>\n",
              "      <td>0</td>\n",
              "      <td>22</td>\n",
              "      <td>27</td>\n",
              "      <td>12</td>\n",
              "    </tr>\n",
              "    <tr>\n",
              "      <th>252000</th>\n",
              "      <td>9070230</td>\n",
              "      <td>70</td>\n",
              "      <td>17</td>\n",
              "      <td>41</td>\n",
              "      <td>262</td>\n",
              "      <td>4</td>\n",
              "    </tr>\n",
              "  </tbody>\n",
              "</table>\n",
              "<p>252000 rows × 6 columns</p>\n",
              "</div>"
            ],
            "text/plain": [
              "         income  age  experience  profession  city  state\n",
              "Id                                                       \n",
              "1       1303835   23           3           0     0      0\n",
              "2       7574516   40          10           1     1      1\n",
              "3       3991815   66           4           2     2      2\n",
              "4       6256451   41           2           1     3      3\n",
              "5       5768871   47          11           3     4      4\n",
              "...         ...  ...         ...         ...   ...    ...\n",
              "251996  8154883   43          13          46   220     10\n",
              "251997  2843572   26          10          45     0      0\n",
              "251998  4522448   46           7          16   106      1\n",
              "251999  6507128   45           0          22    27     12\n",
              "252000  9070230   70          17          41   262      4\n",
              "\n",
              "[252000 rows x 6 columns]"
            ]
          },
          "metadata": {
            "tags": []
          },
          "execution_count": 5
        }
      ]
    },
    {
      "cell_type": "code",
      "metadata": {
        "colab": {
          "base_uri": "https://localhost:8080/"
        },
        "id": "KRcGkemeCifc",
        "outputId": "2a6afa9e-cfda-492d-d2cc-7bde4e72529d"
      },
      "source": [
        "from sklearn.model_selection import cross_val_score\n",
        "train_cross_scores = []\n",
        "test_cross_scores = []\n",
        "classifier = RandomForestClassifier()\n",
        "classifier.fit(X_train_over_pca, y_train_over)\n",
        "train_score = cross_val_score(classifier, X_train_over_pca, y_train_over, cv=5)\n",
        "train_cross_scores.append(round(train_score.mean(),2))\n",
        "test_score = cross_val_score(classifier, X_test_over_pca, y_test_over, cv=5)\n",
        "test_cross_scores.append(round(test_score.mean(),2))\n",
        "\n",
        "print(train_cross_scores)\n",
        "print(test_cross_scores)"
      ],
      "execution_count": null,
      "outputs": [
        {
          "output_type": "stream",
          "text": [
            "[0.93]\n",
            "[0.94]\n"
          ],
          "name": "stdout"
        }
      ]
    },
    {
      "cell_type": "code",
      "metadata": {
        "id": "3jg6zAXUNWPC"
      },
      "source": [
        "classifier.get_params(deep=True)"
      ],
      "execution_count": null,
      "outputs": []
    },
    {
      "cell_type": "code",
      "metadata": {
        "colab": {
          "base_uri": "https://localhost:8080/",
          "height": 105
        },
        "id": "SSJESedPZciv",
        "outputId": "c5751e8f-0f06-4c4a-c07d-e0319f072547"
      },
      "source": [
        "# wandb.login()"
      ],
      "execution_count": null,
      "outputs": [
        {
          "output_type": "display_data",
          "data": {
            "application/javascript": [
              "\n",
              "        window._wandbApiKey = new Promise((resolve, reject) => {\n",
              "            function loadScript(url) {\n",
              "            return new Promise(function(resolve, reject) {\n",
              "                let newScript = document.createElement(\"script\");\n",
              "                newScript.onerror = reject;\n",
              "                newScript.onload = resolve;\n",
              "                document.body.appendChild(newScript);\n",
              "                newScript.src = url;\n",
              "            });\n",
              "            }\n",
              "            loadScript(\"https://cdn.jsdelivr.net/npm/postmate/build/postmate.min.js\").then(() => {\n",
              "            const iframe = document.createElement('iframe')\n",
              "            iframe.style.cssText = \"width:0;height:0;border:none\"\n",
              "            document.body.appendChild(iframe)\n",
              "            const handshake = new Postmate({\n",
              "                container: iframe,\n",
              "                url: 'https://wandb.ai/authorize'\n",
              "            });\n",
              "            const timeout = setTimeout(() => reject(\"Couldn't auto authenticate\"), 5000)\n",
              "            handshake.then(function(child) {\n",
              "                child.on('authorize', data => {\n",
              "                    clearTimeout(timeout)\n",
              "                    resolve(data)\n",
              "                });\n",
              "            });\n",
              "            })\n",
              "        });\n",
              "    "
            ],
            "text/plain": [
              "<IPython.core.display.Javascript object>"
            ]
          },
          "metadata": {
            "tags": []
          }
        },
        {
          "output_type": "stream",
          "text": [
            "\u001b[34m\u001b[1mwandb\u001b[0m: You can find your API key in your browser here: https://wandb.ai/authorize\n"
          ],
          "name": "stderr"
        },
        {
          "output_type": "stream",
          "text": [
            "wandb: Paste an API key from your profile and hit enter: ··········\n"
          ],
          "name": "stdout"
        },
        {
          "output_type": "stream",
          "text": [
            "\u001b[34m\u001b[1mwandb\u001b[0m: Appending key for api.wandb.ai to your netrc file: /root/.netrc\n"
          ],
          "name": "stderr"
        },
        {
          "output_type": "execute_result",
          "data": {
            "text/plain": [
              "True"
            ]
          },
          "metadata": {
            "tags": []
          },
          "execution_count": 9
        }
      ]
    },
    {
      "cell_type": "code",
      "metadata": {
        "id": "vZ7rG8U7PUNn"
      },
      "source": [
        "# sweep_config = {\n",
        "#     'method': 'random', #grid, random\n",
        "#     'metric': {\n",
        "#       'name': 'accuracy',\n",
        "#       'goal': 'maximize'   \n",
        "#     },\n",
        "#     'parameters': {\n",
        "#         'n_estimators': {\n",
        "#             'values': [int(x) for x in np.linspace(start = 200, stop = 2000, num = 10)]\n",
        "#         },\n",
        "#         'max_features': {\n",
        "#             'values': ['auto', 'sqrt']\n",
        "#         },\n",
        "#         'max_depth': {\n",
        "#             'values': [int(x) for x in np.linspace(10, 110, num = 11)]\n",
        "#         },\n",
        "#         'min_samples_split': {\n",
        "#             'values': [2, 5, 10]\n",
        "#         },\n",
        "#         'min_samples_leaf': {\n",
        "#             'values': [1, 2, 5, 10]\n",
        "#         }\n",
        "#     }\n",
        "# }"
      ],
      "execution_count": null,
      "outputs": []
    },
    {
      "cell_type": "code",
      "metadata": {
        "colab": {
          "base_uri": "https://localhost:8080/"
        },
        "id": "IyqGqUDDVBqM",
        "outputId": "7daa322c-f2d0-4e39-a2f6-1e0f1419f1fb"
      },
      "source": [
        "# sweep_id = wandb.sweep(sweep_config, project=\"hackathon\")"
      ],
      "execution_count": null,
      "outputs": [
        {
          "output_type": "stream",
          "text": [
            "\u001b[34m\u001b[1mwandb\u001b[0m: \u001b[33mWARNING\u001b[0m Calling wandb.login() after wandb.init() has no effect.\n"
          ],
          "name": "stderr"
        },
        {
          "output_type": "stream",
          "text": [
            "Create sweep with ID: muk6jpay\n",
            "Sweep URL: https://wandb.ai/26tanishabanik/hackathon/sweeps/muk6jpay\n"
          ],
          "name": "stdout"
        }
      ]
    },
    {
      "cell_type": "code",
      "metadata": {
        "id": "pKWXKQntQwi6"
      },
      "source": [
        "# from sklearn.model_selection import cross_val_score\n",
        "# train_cross_scores = []\n",
        "# test_cross_scores = []\n",
        "# def train():\n",
        "#     # Default values for hyper-parameters we're going to sweep over\n",
        "#     config_defaults = {\n",
        "#         'max_depth': None,\n",
        "#         'max_features': 'auto',\n",
        "#         'min_samples_leaf': 1,\n",
        "#         'min_samples_split': 2,\n",
        "#         'n_estimators': 100,\n",
        "#         'seed': 42\n",
        "#       }\n",
        "\n",
        "#     # Initialize a new wandb run\n",
        "#     wandb.init(config=config_defaults)\n",
        "    \n",
        "#     # Config is a variable that holds and saves hyperparameters and inputs\n",
        "#     config = wandb.config\n",
        "#     if config.max_features == 'auto':\n",
        "#       classifier = RandomForestClassifier(max_depth=config.max_depth, max_features=\"auto\", min_samples_leaf=config.min_samples_leaf, min_samples_split=config.min_samples_split, n_estimators=config.n_estimators)\n",
        "#     elif config.max_features == 'sqrt':\n",
        "#       classifier = RandomForestClassifier(max_depth=config.max_depth, max_features=\"sqrt\", min_samples_leaf=config.min_samples_leaf, min_samples_split=config.min_samples_split, n_estimators=config.n_estimators)\n",
        "    \n",
        "#     classifier.fit(X_train_over_pca, y_train_over)\n",
        "#     train_score = cross_val_score(classifier, X_train_over_pca, y_train_over, cv=5)\n",
        "#     train_cross_scores.append(round(train_score.mean(),2))\n",
        "#     test_score = cross_val_score(classifier, X_test_over_pca, y_test_over, cv=5)\n",
        "#     test_cross_scores.append(round(test_score.mean(),2))\n",
        "\n",
        "#     print(train_cross_scores)\n",
        "#     print(test_cross_scores)\n",
        "    \n"
      ],
      "execution_count": null,
      "outputs": []
    },
    {
      "cell_type": "code",
      "metadata": {
        "colab": {
          "base_uri": "https://localhost:8080/",
          "height": 278
        },
        "id": "XzuqNv97U3yR",
        "outputId": "c1f73e56-c7be-4535-883f-3e7972a22fd3"
      },
      "source": [
        "# wandb.agent(sweep_id, train)"
      ],
      "execution_count": null,
      "outputs": [
        {
          "output_type": "stream",
          "text": [
            "\u001b[34m\u001b[1mwandb\u001b[0m: \u001b[33mWARNING\u001b[0m Calling wandb.login() after wandb.init() has no effect.\n",
            "\u001b[34m\u001b[1mwandb\u001b[0m: Agent Starting Run: ph2ws96z with config:\n",
            "\u001b[34m\u001b[1mwandb\u001b[0m: \tmax_depth: 100\n",
            "\u001b[34m\u001b[1mwandb\u001b[0m: \tmax_features: sqrt\n",
            "\u001b[34m\u001b[1mwandb\u001b[0m: \tmin_samples_leaf: 10\n",
            "\u001b[34m\u001b[1mwandb\u001b[0m: \tmin_samples_split: 10\n",
            "\u001b[34m\u001b[1mwandb\u001b[0m: \tn_estimators: 1400\n"
          ],
          "name": "stderr"
        },
        {
          "output_type": "display_data",
          "data": {
            "text/html": [
              "\n",
              "                Tracking run with wandb version 0.10.25<br/>\n",
              "                Syncing run <strong style=\"color:#cdcd00\">noble-sweep-1</strong> to <a href=\"https://wandb.ai\" target=\"_blank\">Weights & Biases</a> <a href=\"https://docs.wandb.com/integrations/jupyter.html\" target=\"_blank\">(Documentation)</a>.<br/>\n",
              "                Project page: <a href=\"https://wandb.ai/26tanishabanik/hackathon\" target=\"_blank\">https://wandb.ai/26tanishabanik/hackathon</a><br/>\n",
              "                Sweep page: <a href=\"https://wandb.ai/26tanishabanik/hackathon/sweeps/muk6jpay\" target=\"_blank\">https://wandb.ai/26tanishabanik/hackathon/sweeps/muk6jpay</a><br/>\n",
              "Run page: <a href=\"https://wandb.ai/26tanishabanik/hackathon/runs/ph2ws96z\" target=\"_blank\">https://wandb.ai/26tanishabanik/hackathon/runs/ph2ws96z</a><br/>\n",
              "                Run data is saved locally in <code>/content/wandb/run-20210411_201910-ph2ws96z</code><br/><br/>\n",
              "            "
            ],
            "text/plain": [
              "<IPython.core.display.HTML object>"
            ]
          },
          "metadata": {
            "tags": []
          }
        },
        {
          "output_type": "stream",
          "text": [
            "\u001b[34m\u001b[1mwandb\u001b[0m: Ctrl + C detected. Stopping sweep.\n"
          ],
          "name": "stderr"
        }
      ]
    },
    {
      "cell_type": "code",
      "metadata": {
        "colab": {
          "base_uri": "https://localhost:8080/",
          "height": 283
        },
        "id": "o_1JKqfNP8lX",
        "outputId": "297e49ba-cdd5-43e2-e1a2-46006c7c09aa"
      },
      "source": [
        "from sklearn.model_selection import cross_val_predict\n",
        "from sklearn.metrics import roc_curve\n",
        "from sklearn.metrics import roc_auc_score\n",
        "rf = RandomForestClassifier()\n",
        "rf.fit(X_train_over_pca, y_train_over)\n",
        "rf_pred = cross_val_predict(rf, X_test_over_pca, y_test_over, cv=5)\n",
        "print(roc_auc_score(y_test_over, rf_pred))\n",
        "#Plot the ROC Curve\n",
        "fpr, tpr, _ = roc_curve(y_test_over, rf_pred)\n",
        "plt.plot(fpr, tpr)\n",
        "plt.show()a"
      ],
      "execution_count": null,
      "outputs": [
        {
          "output_type": "stream",
          "text": [
            "0.9372186149634624\n"
          ],
          "name": "stdout"
        },
        {
          "output_type": "display_data",
          "data": {
            "image/png": "[encoded data removed]",
            "text/plain": [
              "<Figure size 432x288 with 1 Axes>"
            ]
          },
          "metadata": {
            "tags": [],
            "needs_background": "light"
          }
        }
      ]
    },
    {
      "cell_type": "code",
      "metadata": {
        "colab": {
          "base_uri": "https://localhost:8080/"
        },
        "id": "jtUV_GUVR1vm",
        "outputId": "ab5642b5-a9c9-465b-b6b8-4f065fe64392"
      },
      "source": [
        "train_score"
      ],
      "execution_count": null,
      "outputs": [
        {
          "output_type": "execute_result",
          "data": {
            "text/plain": [
              "array([0.93191652, 0.93385275, 0.93335784, 0.93419211, 0.93526675])"
            ]
          },
          "metadata": {
            "tags": []
          },
          "execution_count": 35
        }
      ]
    },
    {
      "cell_type": "code",
      "metadata": {
        "colab": {
          "base_uri": "https://localhost:8080/"
        },
        "id": "ueLeCtRPSIyd",
        "outputId": "58e4c7ce-2f4c-4fa3-f1b0-3abe6c37502e"
      },
      "source": [
        "test_score"
      ],
      "execution_count": null,
      "outputs": [
        {
          "output_type": "execute_result",
          "data": {
            "text/plain": [
              "array([0.92211979, 0.94185849, 0.9388009 , 0.94225113, 0.93936652])"
            ]
          },
          "metadata": {
            "tags": []
          },
          "execution_count": 36
        }
      ]
    },
    {
      "cell_type": "code",
      "metadata": {
        "colab": {
          "base_uri": "https://localhost:8080/"
        },
        "id": "3QAapYV-I36K",
        "outputId": "f979a3ef-d161-4566-8f5a-e0b2c49557ac"
      },
      "source": [
        "print(cross_val_score(classifier, X_test_over_pca, y_test_over, cv=5))\n",
        "print(recall_score(y_test_over, rf_pred))"
      ],
      "execution_count": null,
      "outputs": [
        {
          "output_type": "stream",
          "text": [
            "[0.89315476 0.89335317 0.89305556 0.89196429 0.89186508]\n",
            "0.4629778996612357\n"
          ],
          "name": "stdout"
        }
      ]
    },
    {
      "cell_type": "code",
      "metadata": {
        "colab": {
          "base_uri": "https://localhost:8080/"
        },
        "id": "-aFNRkYsQnb7",
        "outputId": "f4e90a14-0d20-41a0-aa28-bcd1938d0fe8"
      },
      "source": [
        "from sklearn.metrics import classification_report\n",
        "\n",
        "print(classification_report(y_test_over, rf_pred))"
      ],
      "execution_count": null,
      "outputs": [
        {
          "output_type": "stream",
          "text": [
            "              precision    recall  f1-score   support\n",
            "\n",
            "           0       0.97      0.91      0.94     44201\n",
            "           1       0.91      0.97      0.94     44201\n",
            "\n",
            "    accuracy                           0.94     88402\n",
            "   macro avg       0.94      0.94      0.94     88402\n",
            "weighted avg       0.94      0.94      0.94     88402\n",
            "\n"
          ],
          "name": "stdout"
        }
      ]
    },
    {
      "cell_type": "markdown",
      "metadata": {
        "id": "6gbtrxNiBp4o"
      },
      "source": [
        "# Latest prediction"
      ]
    },
    {
      "cell_type": "code",
      "metadata": {
        "id": "Y4HllHf1s5U6"
      },
      "source": [
        "train_df = pd.read_csv(\"/content/drive/MyDrive/TrainingData.csv\",index_col=0)"
      ],
      "execution_count": null,
      "outputs": []
    },
    {
      "cell_type": "code",
      "metadata": {
        "id": "6ZDbL72OCXNL"
      },
      "source": [
        "from sklearn.metrics import accuracy_score, confusion_matrix, precision_score, recall_score, roc_auc_score, roc_curve, f1_score"
      ],
      "execution_count": null,
      "outputs": []
    },
    {
      "cell_type": "code",
      "metadata": {
        "colab": {
          "base_uri": "https://localhost:8080/"
        },
        "id": "JUk9JV3CT16x",
        "outputId": "cb382e02-3849-4e06-d69e-5258eca64fef"
      },
      "source": [
        "accuracy_score(y_test_over, rf_pred)\n",
        "print(f\"The accuracy of the model is {round(accuracy_score(y_test_over,rf_pred),3)*100} %\")"
      ],
      "execution_count": null,
      "outputs": [
        {
          "output_type": "stream",
          "text": [
            "The accuracy of the model is 93.7 %\n"
          ],
          "name": "stdout"
        }
      ]
    },
    {
      "cell_type": "code",
      "metadata": {
        "id": "Rck00Fk-Bj9U"
      },
      "source": [
        "train_probs = rf.predict_proba(X_train_over_pca)[:,1] \n",
        "# probs = rf.predict_proba(X_test_over_pca)[:, 1]\n",
        "train_predictions = rf.predict(X_train_over_pca)"
      ],
      "execution_count": null,
      "outputs": []
    },
    {
      "cell_type": "code",
      "metadata": {
        "colab": {
          "base_uri": "https://localhost:8080/"
        },
        "id": "tNv4xDpeByL5",
        "outputId": "30fdff72-0443-45c7-dc03-e104528d9bf2"
      },
      "source": [
        "print(f'Train ROC AUC Score: {roc_auc_score(y_train_over, train_probs)}')\n",
        "print(f'Test ROC AUC  Score: {roc_auc_score(y_test_over, rf_pred)}')"
      ],
      "execution_count": null,
      "outputs": [
        {
          "output_type": "stream",
          "text": [
            "Train ROC AUC Score: 0.9731586746572902\n",
            "Test ROC AUC  Score: 0.9372186149634624\n"
          ],
          "name": "stdout"
        }
      ]
    },
    {
      "cell_type": "code",
      "metadata": {
        "colab": {
          "base_uri": "https://localhost:8080/",
          "height": 472
        },
        "id": "f5T0Kr0WBy-m",
        "outputId": "90e31b58-d9b2-40d1-83e9-6c7320631a2f"
      },
      "source": [
        "def evaluate_model(y_pred, probs,train_predictions, train_probs):\n",
        "    baseline = {}\n",
        "    baseline['recall']=recall_score(y_test_over,\n",
        "                    [1 for _ in range(len(y_test_over))])\n",
        "    baseline['precision'] = precision_score(y_test_over,\n",
        "                    [1 for _ in range(len(y_test_over))])\n",
        "    baseline['roc'] = 0.5\n",
        "    results = {}\n",
        "    results['recall'] = recall_score(y_test_over, y_pred)\n",
        "    results['precision'] = precision_score(y_test_over, y_pred)\n",
        "    results['roc'] = roc_auc_score(y_test_over, probs)\n",
        "    train_results = {}\n",
        "    train_results['recall'] = recall_score(y_train_over,       train_predictions)\n",
        "    train_results['precision'] = precision_score(y_train_over, train_predictions)\n",
        "    train_results['roc'] = roc_auc_score(y_train_over, train_probs)\n",
        "    for metric in ['recall', 'precision', 'roc']:  \n",
        "          print(f'{metric.capitalize()} Baseline: {round(baseline[metric], 2)} Test: {round(results[metric], 2)} Train: {round(train_results[metric], 2)}')\n",
        "     # Calculate false positive rates and true positive rates\n",
        "    base_fpr, base_tpr, _ = roc_curve(y_test_over, [1 for _ in range(len(y_test_over))])\n",
        "    model_fpr, model_tpr, _ = roc_curve(y_test_over, probs)\n",
        "    plt.figure(figsize = (8, 6))\n",
        "    plt.rcParams['font.size'] = 16\n",
        "    # Plot both curves\n",
        "    plt.plot(base_fpr, base_tpr, 'b', label = 'baseline')\n",
        "    plt.plot(model_fpr, model_tpr, 'r', label = 'model')\n",
        "    plt.legend();\n",
        "    plt.xlabel('False Positive Rate');\n",
        "    plt.ylabel('True Positive Rate'); plt.title('ROC Curves');\n",
        "    plt.show();\n",
        "evaluate_model(rf_pred,rf_pred,train_predictions,train_probs)"
      ],
      "execution_count": null,
      "outputs": [
        {
          "output_type": "stream",
          "text": [
            "Recall Baseline: 1.0 Test: 0.97 Train: 1.0\n",
            "Precision Baseline: 0.5 Test: 0.91 Train: 0.92\n",
            "Roc Baseline: 0.5 Test: 0.94 Train: 0.97\n"
          ],
          "name": "stdout"
        },
        {
          "output_type": "display_data",
          "data": {
            "image/png": "[encoded data removed]",
            "text/plain": [
              "<Figure size 576x432 with 1 Axes>"
            ]
          },
          "metadata": {
            "tags": [],
            "needs_background": "light"
          }
        }
      ]
    },
    {
      "cell_type": "code",
      "metadata": {
        "colab": {
          "base_uri": "https://localhost:8080/",
          "height": 584
        },
        "id": "tOib4kViB594",
        "outputId": "bc2a8c36-74e7-47e6-bd0b-610e4b2aa83f"
      },
      "source": [
        "import itertools\n",
        "def plot_confusion_matrix(cm, classes, normalize = False,\n",
        "                          title='Confusion matrix',\n",
        "                          cmap=plt.cm.Greens): # can change color \n",
        "    plt.figure(figsize = (10, 10))\n",
        "    plt.imshow(cm, interpolation='nearest', cmap=cmap)\n",
        "    plt.title(title, size = 24)\n",
        "    plt.colorbar(aspect=4)\n",
        "    tick_marks = np.arange(len(classes))\n",
        "    plt.xticks(tick_marks, classes, rotation=45, size = 14)\n",
        "    plt.yticks(tick_marks, classes, size = 14)\n",
        "    fmt = '.2f' if normalize else 'd'\n",
        "    thresh = cm.max() / 2.\n",
        "    # Label the plot\n",
        "    for i, j in itertools.product(range(cm.shape[0]),   range(cm.shape[1])):\n",
        "      plt.text(j, i, format(cm[i, j], fmt), fontsize = 20,horizontalalignment=\"center\",color=\"white\" if cm[i, j] > thresh else \"black\")\n",
        "    plt.grid(None)\n",
        "    plt.tight_layout()\n",
        "    plt.ylabel('True label', size = 18)\n",
        "    plt.xlabel('Predicted label', size = 18)\n",
        "\n",
        "# Let's plot it out\n",
        "cm = confusion_matrix(y_test_over, rf_pred)\n",
        "plot_confusion_matrix(cm, classes = ['0 - No-Risk', '1 - Risk'],\n",
        "                      title = 'Risk_status Confusion Matrix')"
      ],
      "execution_count": null,
      "outputs": [
        {
          "output_type": "display_data",
          "data": {
            "image/png": "[encoded data removed]",
            "text/plain": [
              "<Figure size 720x720 with 2 Axes>"
            ]
          },
          "metadata": {
            "tags": [],
            "needs_background": "light"
          }
        }
      ]
    },
    {
      "cell_type": "code",
      "metadata": {
        "id": "qsg1JrslcP-P"
      },
      "source": [
        ""
      ],
      "execution_count": null,
      "outputs": []
    }
  ]
}